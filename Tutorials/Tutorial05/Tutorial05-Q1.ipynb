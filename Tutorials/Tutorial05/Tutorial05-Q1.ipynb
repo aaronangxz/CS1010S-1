{
 "cells": [
  {
   "cell_type": "markdown",
   "metadata": {},
   "source": [
    "<center>TIC1001—Introduction to Computing and Programming</center>\n",
    "<center>National University of Singapore</center>"
   ]
  },
  {
   "cell_type": "markdown",
   "metadata": {},
   "source": [
    "<h1>Tutorial 05</h1>"
   ]
  },
  {
   "cell_type": "markdown",
   "metadata": {},
   "source": [
    " ### Question 1"
   ]
  },
  {
   "cell_type": "markdown",
   "metadata": {
    "raw_mimetype": "text/latex"
   },
   "source": [
    "What is printed by the following program? You should try to hand-trace the program to obtain the answer before running the program to verify."
   ]
  },
  {
   "cell_type": "code",
   "execution_count": 1,
   "metadata": {},
   "outputs": [],
   "source": [
    "#include <stdio.h>\n",
    "\n",
    "void printArray(int list[], int numElem);\n",
    "void passElement(int num);\n",
    "void changeElements(int list[]);\n",
    "void copyArray(int list1[], int list2[], int numElem);\n",
    "\n",
    "int main(void) \n",
    "{\n",
    "    int list1[5] = {11, 22, 33, 44, 55}; \n",
    "    int list2[5] = {99, 99, 99, 99, 99}; \n",
    "    printArray(list1, 5); \n",
    "    passElement(list1[0]); \n",
    "    printArray(list1, 5); \n",
    "    changeElements(list2); \n",
    "    printArray(list2, 5); \n",
    "    copyArray(list2, list1, 5); \n",
    "    printArray(list2, 5);\n",
    "    return 0;\n",
    "}\n",
    "\n",
    "void printArray(int list[], int numElem) \n",
    "{ \n",
    "    int i;\n",
    "    for (i = 0; i < numElem; i++) \n",
    "        printf(\"%d \", list[i]);\n",
    "    printf(\"\\n\");\n",
    "    return; \n",
    "}\n",
    "\n",
    "void passElement(int num) \n",
    "{ \n",
    "    num = 1234;\n",
    "    return; \n",
    "}\n",
    "\n",
    "void changeElements(int list[]) \n",
    "{ \n",
    "    list[2] = 77;\n",
    "    list[4] = 88; \n",
    "    return;\n",
    "}\n",
    "\n",
    "void copyArray(int list1[], int list2[], int numElem) \n",
    "{ \n",
    "    int i;\n",
    "    for (i = 0; i < numElem; i++) \n",
    "        list1[i] = list2[i];\n",
    "    return; \n",
    "}"
   ]
  },
  {
   "cell_type": "markdown",
   "metadata": {},
   "source": [
    "0. Initialize array <code>list1</code> & <code>list2</code>"
   ]
  },
  {
   "cell_type": "code",
   "execution_count": null,
   "metadata": {},
   "outputs": [],
   "source": [
    "int list1[5] = {11, 22, 33, 44, 55}; \n",
    "int list2[5] = {99, 99, 99, 99, 99}; "
   ]
  },
  {
   "cell_type": "markdown",
   "metadata": {},
   "source": [
    "1. Call function <code>printArray(list1, 5)</code>, where <code>list1</code> is {11, 22, 33, 44, 55}"
   ]
  },
  {
   "cell_type": "code",
   "execution_count": null,
   "metadata": {},
   "outputs": [],
   "source": [
    "void printArray(list1, 5) \n",
    "{ \n",
    "    int i;\n",
    "    for (i = 0; i < 5; i++) \n",
    "        printf(\"%d \", list[i]);\n",
    "    printf(\"\\n\");\n",
    "    return; \n",
    "}"
   ]
  },
  {
   "cell_type": "markdown",
   "metadata": {},
   "source": [
    "For i = 0 to 4, print out <code>list1[0]</code> to <code>list1[5]</code><br>\n",
    "Then print new line."
   ]
  },
  {
   "cell_type": "markdown",
   "metadata": {},
   "source": [
    "<h2>Output 1:</h2> 11 22 33 44 55<br> "
   ]
  },
  {
   "cell_type": "markdown",
   "metadata": {},
   "source": [
    "2. Call function <code>passElement(list1[0])</code>,where <code>list1[0]</code> is 11."
   ]
  },
  {
   "cell_type": "code",
   "execution_count": null,
   "metadata": {},
   "outputs": [],
   "source": [
    "void passElement(11) \n",
    "{ \n",
    "    num = 1234;\n",
    "    return; \n",
    "}"
   ]
  },
  {
   "cell_type": "markdown",
   "metadata": {},
   "source": [
    "3. Call function <code>printArray(list1, 5)</code>, where <code>list1</code> is {11, 22, 33, 44, 55}."
   ]
  },
  {
   "cell_type": "code",
   "execution_count": null,
   "metadata": {},
   "outputs": [],
   "source": [
    "void printArray(list1, 5) \n",
    "{ \n",
    "    int i;\n",
    "    for (i = 0; i < 5; i++) \n",
    "        printf(\"%d \", list[i]);\n",
    "    printf(\"\\n\");\n",
    "    return; \n",
    "}"
   ]
  },
  {
   "cell_type": "markdown",
   "metadata": {},
   "source": [
    "For i = 0 to 4, print out <code>list1[0]</code> to <code>list1[5]</code><br>\n",
    "Then print new line."
   ]
  },
  {
   "cell_type": "markdown",
   "metadata": {},
   "source": [
    "<h2>Output 2:</h2> 11 22 33 44 55<br> "
   ]
  },
  {
   "cell_type": "markdown",
   "metadata": {},
   "source": [
    "4. Call function <code>changeElements(list2)</code>, where <code>list2</code> is {99, 99, 99, 99, 99}"
   ]
  },
  {
   "cell_type": "code",
   "execution_count": null,
   "metadata": {},
   "outputs": [],
   "source": [
    "void changeElements(list2) \n",
    "{ \n",
    "    list[2] = 77;\n",
    "    list[4] = 88; \n",
    "    return;\n",
    "}"
   ]
  },
  {
   "cell_type": "markdown",
   "metadata": {},
   "source": [
    "list[2] changed from 99 to 77,<br>\n",
    "list[4] changed from 99 to 88.<br>"
   ]
  },
  {
   "cell_type": "markdown",
   "metadata": {},
   "source": [
    "list2[5] = {99, 99, 77, 99, 88}; "
   ]
  },
  {
   "cell_type": "markdown",
   "metadata": {},
   "source": [
    "5. Call function <code>printArray(list2, 5)</code>, where <code>list2</code> is {99, 99, 77, 99, 88}"
   ]
  },
  {
   "cell_type": "code",
   "execution_count": null,
   "metadata": {},
   "outputs": [],
   "source": [
    "void printArray(list2, 5) \n",
    "{ \n",
    "    int i;\n",
    "    for (i = 0; i < 5; i++) \n",
    "        printf(\"%d \", list[i]);\n",
    "    printf(\"\\n\");\n",
    "    return; \n",
    "}"
   ]
  },
  {
   "cell_type": "markdown",
   "metadata": {},
   "source": [
    "For i = 0 to 4, print out <code>list2[0]</code> to <code>list2[5]</code><br>\n",
    "Then print new line."
   ]
  },
  {
   "cell_type": "markdown",
   "metadata": {},
   "source": [
    "<h2>Output 3:</h2> 99 99 77 99 88<br> "
   ]
  },
  {
   "cell_type": "markdown",
   "metadata": {},
   "source": [
    "6. Call function <code>copyArray(list2, list1, 5)</code>, where <code>list2</code> is {99, 99, 77, 99, 88}, <code>list1</code> is {11, 22, 33, 44, 55}"
   ]
  },
  {
   "cell_type": "code",
   "execution_count": null,
   "metadata": {},
   "outputs": [],
   "source": [
    "void copyArray(list2, list1, 5) \n",
    "{ \n",
    "    int i;\n",
    "    for (i = 0; i < 5; i++) \n",
    "        list1[i] = list2[i];\n",
    "    return; \n",
    "}"
   ]
  },
  {
   "cell_type": "markdown",
   "metadata": {},
   "source": [
    "For i = 0 to 4, copy <code>list1[i]</code> to <code>list2[i]</code><br>"
   ]
  },
  {
   "cell_type": "code",
   "execution_count": null,
   "metadata": {},
   "outputs": [],
   "source": [
    "list2[5] = {11, 22, 33, 44, 55}; "
   ]
  },
  {
   "cell_type": "markdown",
   "metadata": {},
   "source": [
    "7. Call function <code>printArray(list2, 5)</code>, where <code>list2</code> is {11, 22, 33, 44, 55}"
   ]
  },
  {
   "cell_type": "markdown",
   "metadata": {},
   "source": [
    "For i = 0 to 4, print out <code>list2[0]</code> to <code>list2[5]</code><br>\n",
    "Then print new line."
   ]
  },
  {
   "cell_type": "markdown",
   "metadata": {},
   "source": [
    "<h2>Output 4:</h2>11, 22, 33, 44, 55"
   ]
  },
  {
   "cell_type": "markdown",
   "metadata": {},
   "source": [
    "# Final Outputs:"
   ]
  },
  {
   "cell_type": "code",
   "execution_count": null,
   "metadata": {},
   "outputs": [],
   "source": [
    "11 22 33 44 55 \n",
    "11 22 33 44 55 \n",
    "99 99 77 99 88 \n",
    "11 22 33 44 55 "
   ]
  }
 ],
 "metadata": {
  "celltoolbar": "Raw Cell Format",
  "kernelspec": {
   "display_name": "C",
   "language": "c",
   "name": "c"
  },
  "language_info": {
   "codemirror_mode": "text/x-c++src",
   "file_extension": ".cpp",
   "mimetype": "text/x-c++src",
   "name": "c++",
   "version": "11"
  }
 },
 "nbformat": 4,
 "nbformat_minor": 4
}
