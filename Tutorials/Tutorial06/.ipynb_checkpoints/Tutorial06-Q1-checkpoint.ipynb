{
 "cells": [
  {
   "cell_type": "markdown",
   "metadata": {},
   "source": [
    "<center>TIC1001—Introduction to Computing and Programming</center>\n",
    "<center>National University of Singapore</center>"
   ]
  },
  {
   "cell_type": "markdown",
   "metadata": {},
   "source": [
    "<h1>Tutorial 06</h1>"
   ]
  },
  {
   "cell_type": "markdown",
   "metadata": {},
   "source": [
    " ### Question 1"
   ]
  },
  {
   "cell_type": "markdown",
   "metadata": {
    "raw_mimetype": "text/latex"
   },
   "source": [
    "What is the output when the following lines of code are executed?"
   ]
  },
  {
   "cell_type": "code",
   "execution_count": 1,
   "metadata": {},
   "outputs": [],
   "source": [
    "char * capitalize(char *s) \n",
    "{ \n",
    "    for (int i = 0; s[i]; i++)\n",
    "        if ('a' <= s[i] and s[i] <= 'z') \n",
    "            s[i] -= 32;\n",
    "    return s; \n",
    "}\n",
    "\n",
    "string capitalize(string s) \n",
    "{\n",
    "    for (int i = 0; i < s.size(); i++)\n",
    "        if ('a' <= s[i] and s[i] <= 'z') \n",
    "            s[i] -= 32;\n",
    "    return s; \n",
    "}\n",
    "\n",
    "int main(void)\n",
    "{\n",
    "    char cstring[20] = \"Hello World!\";\n",
    "    char *new_cstr;\n",
    "    string stdstring = \"Hello World!\", new_stdstr;\n",
    "\n",
    "    new_cstr = capitalize(cstring); \n",
    "    new_stdstr = capitalize(stdstring);\n",
    "\n",
    "    printf(\"C-string: %s\\n\", cstring);\n",
    "    printf(\"New C-string: %s\\n\", new_cstr);\n",
    "    cout << \"std::string: \" << stdstring << endl;\n",
    "    cout << \"New std::string: \" << new_stdstr << endl;\n",
    "}"
   ]
  },
  {
   "cell_type": "markdown",
   "metadata": {},
   "source": [
    "0. <br>\n",
    "\n",
    "\n",
    "Initialize char array <code>cstring[20]</code><br>\n",
    "Initialize c str <code>new_cstr</code><br>\n",
    "Initialize string <code>stdstring</code><br>\n",
    "Initialize string <code>new_stdstr</code>"
   ]
  },
  {
   "cell_type": "code",
   "execution_count": null,
   "metadata": {},
   "outputs": [],
   "source": [
    "char cstring[20] = \"Hello World!\";\n",
    "char *new_cstr;\n",
    "string stdstring = \"Hello World!\", new_stdstr;"
   ]
  },
  {
   "cell_type": "markdown",
   "metadata": {},
   "source": [
    "1. Call function <code>capitalize(char * s)</code>, where <code>* s</code> is <code>cstring[20]</code>:\n"
   ]
  },
  {
   "cell_type": "code",
   "execution_count": null,
   "metadata": {},
   "outputs": [],
   "source": [
    "cstring[20] = {'H','e','l','l','o',' ','W','o','r','l','d','!','\\0'}"
   ]
  },
  {
   "cell_type": "code",
   "execution_count": null,
   "metadata": {},
   "outputs": [],
   "source": [
    "char * capitalize(cstring[20]) \n",
    "{ \n",
    "    for (int i = 0; s[i]; i++)\n",
    "        if ('a' <= s[i] and s[i] <= 'z') \n",
    "            s[i] -= 32;\n",
    "    return s; \n",
    "}"
   ]
  },
  {
   "cell_type": "markdown",
   "metadata": {},
   "source": [
    "Loop from <code>cstring[0]</code> until <code>cstring[i]</code> is no longer true\n",
    "\n",
    "When <code>cstring[i]</code> is within 'a' and 'z' (ASCII), minus 32 to convert to upper case.\n",
    "\n",
    "After the loop, return array and pass value of <code>capitalize(cstring)</code> to <code>new_cstr</code>:"
   ]
  },
  {
   "cell_type": "code",
   "execution_count": null,
   "metadata": {},
   "outputs": [],
   "source": [
    "cstring[20] = {'H','E','L','L','O',' ','W','O','R','L','D','!','\\0'}"
   ]
  },
  {
   "cell_type": "code",
   "execution_count": null,
   "metadata": {},
   "outputs": [],
   "source": [
    "new_cstr = {'H','E','L','L','O',' ','W','O','R','L','D','!','\\0'}"
   ]
  },
  {
   "cell_type": "markdown",
   "metadata": {},
   "source": [
    "1. Call function <code>capitalize(string s)</code>, where <code>s</code> is <code>stdstring</code>:"
   ]
  },
  {
   "cell_type": "code",
   "execution_count": null,
   "metadata": {},
   "outputs": [],
   "source": [
    "stdstring = {'H','e','l','l','o',' ','W','o','r','l','d','!','\\0'}"
   ]
  },
  {
   "cell_type": "code",
   "execution_count": null,
   "metadata": {},
   "outputs": [],
   "source": [
    "string capitalize(string s) \n",
    "{\n",
    "    for (int i = 0; i < s.size(); i++)\n",
    "        if ('a' <= s[i] and s[i] <= 'z') \n",
    "            s[i] -= 32;\n",
    "    return s; \n",
    "}"
   ]
  },
  {
   "cell_type": "markdown",
   "metadata": {},
   "source": [
    "<code>s.size()</code> = <code>stdstring.size()</code> = [13]\n",
    "\n",
    "Loop from <code>stdstring[0]</code> until <code>stdstring[12]</code>. \n",
    "\n",
    "When <code>stdstring[i]</code> is within 'a' and 'z' (ASCII), minus 32 to convert to upper case.\n",
    "\n",
    "After the loop, return array and pass value of <code>capitalize(stdstring)</code> to <code>new_stdstr</code>:"
   ]
  },
  {
   "cell_type": "code",
   "execution_count": null,
   "metadata": {},
   "outputs": [],
   "source": [
    "std_string = {'H','E','L','L','O',' ','W','O','R','L','D','!','\\0'}"
   ]
  },
  {
   "cell_type": "markdown",
   "metadata": {},
   "source": [
    "<b>Capitalized in the scope of <code>capitalize(string s)</code> only</b>"
   ]
  },
  {
   "cell_type": "code",
   "execution_count": null,
   "metadata": {},
   "outputs": [],
   "source": [
    "new_stdstring = {'H','E','L','L','O',' ','W','O','R','L','D','!','\\0'}"
   ]
  },
  {
   "cell_type": "markdown",
   "metadata": {},
   "source": [
    "3. Output <code>cstring</code>,<code>new_cstr</code>,<code>stdstring</code>,<code>new_stdstr</code>"
   ]
  },
  {
   "cell_type": "code",
   "execution_count": null,
   "metadata": {},
   "outputs": [],
   "source": [
    "printf(\"C-string: %s\\n\", cstring);\n",
    "printf(\"New C-string: %s\\n\", new_cstr);\n",
    "cout << \"std::string: \" << stdstring << endl;\n",
    "cout << \"New std::string: \" << new_stdstr << endl;"
   ]
  },
  {
   "cell_type": "markdown",
   "metadata": {},
   "source": [
    "i. At this point <code>cstring</code> is:"
   ]
  },
  {
   "cell_type": "code",
   "execution_count": null,
   "metadata": {},
   "outputs": [],
   "source": [
    "cstring[20] = {'H','E','L','L','O',' ','W','O','R','L','D','!','\\0'}"
   ]
  },
  {
   "cell_type": "markdown",
   "metadata": {},
   "source": [
    "**Output 0:** C-string: HELLO WORLD!"
   ]
  },
  {
   "cell_type": "markdown",
   "metadata": {},
   "source": [
    "ii. At this point <code>new_cstr</code> is:"
   ]
  },
  {
   "cell_type": "code",
   "execution_count": null,
   "metadata": {},
   "outputs": [],
   "source": [
    "new_cstr = {'H','E','L','L','O',' ','W','O','R','L','D','!','\\0'}"
   ]
  },
  {
   "cell_type": "markdown",
   "metadata": {},
   "source": [
    "**Output 1:** New C-string: HELLO WORLD!"
   ]
  },
  {
   "cell_type": "markdown",
   "metadata": {},
   "source": [
    "iii. At this point <code>stdstring</code> is:"
   ]
  },
  {
   "cell_type": "code",
   "execution_count": null,
   "metadata": {},
   "outputs": [],
   "source": [
    "stdstring = {'H','e','l','l','o',' ','W','o','r','l','d','!','\\0'}"
   ]
  },
  {
   "cell_type": "markdown",
   "metadata": {},
   "source": [
    "Note: a copy of <code>stdstring</code> was substituted into <code>capitalize(string s)</code>, hence only the duplicated version of <code>stdstring</code> was being capitalized, while the original string array stays the same."
   ]
  },
  {
   "cell_type": "markdown",
   "metadata": {},
   "source": [
    "**Output 2:** std::string: Hello World!"
   ]
  },
  {
   "cell_type": "markdown",
   "metadata": {},
   "source": [
    "iii. At this point <code>new_stdstr</code> is:"
   ]
  },
  {
   "cell_type": "code",
   "execution_count": null,
   "metadata": {},
   "outputs": [],
   "source": [
    "new_stdstring = {'H','E','L','L','O',' ','W','O','R','L','D','!','\\0'}"
   ]
  },
  {
   "cell_type": "markdown",
   "metadata": {},
   "source": [
    "Note: The capitalized <code>stdstring</code> was being returned to <code>new_stdstr</code> inside the scope of <code>capitalize(string s)</code>"
   ]
  },
  {
   "cell_type": "markdown",
   "metadata": {},
   "source": [
    "**Output 3:** New std::string: HELLO WORLD!\n"
   ]
  },
  {
   "cell_type": "markdown",
   "metadata": {},
   "source": [
    "# Final Outputs:"
   ]
  },
  {
   "cell_type": "markdown",
   "metadata": {},
   "source": [
    "C-string: HELLO WORLD!<br>\n",
    "New C-string: HELLO WORLD!<br>\n",
    "std::string: Hello World!<br>\n",
    "New std::string: HELLO WORLD!<br>"
   ]
  },
  {
   "cell_type": "markdown",
   "metadata": {},
   "source": [
    "When the signature of the second function is changed to "
   ]
  },
  {
   "cell_type": "code",
   "execution_count": null,
   "metadata": {},
   "outputs": [],
   "source": [
    "string capitalize(string &s) \n",
    "{\n",
    "    for (int i = 0; i < s.size(); i++)\n",
    "        if ('a' <= s[i] and s[i] <= 'z') \n",
    "            s[i] -= 32;\n",
    "    return s; \n",
    "}"
   ]
  },
  {
   "cell_type": "code",
   "execution_count": null,
   "metadata": {},
   "outputs": [],
   "source": [
    "string &capitalize(string &s) \n",
    "{\n",
    "    for (int i = 0; i < s.size(); i++)\n",
    "        if ('a' <= s[i] and s[i] <= 'z') \n",
    "            s[i] -= 32;\n",
    "    return s; \n",
    "}"
   ]
  },
  {
   "cell_type": "markdown",
   "metadata": {},
   "source": [
    "<code>stdstring</code> will be passed in by address, hence updating the array after capitalization."
   ]
  }
 ],
 "metadata": {
  "celltoolbar": "Raw Cell Format",
  "kernelspec": {
   "display_name": "C",
   "language": "c",
   "name": "c"
  },
  "language_info": {
   "codemirror_mode": "text/x-c++src",
   "file_extension": ".cpp",
   "mimetype": "text/x-c++src",
   "name": "c++",
   "version": "11"
  }
 },
 "nbformat": 4,
 "nbformat_minor": 4
}
