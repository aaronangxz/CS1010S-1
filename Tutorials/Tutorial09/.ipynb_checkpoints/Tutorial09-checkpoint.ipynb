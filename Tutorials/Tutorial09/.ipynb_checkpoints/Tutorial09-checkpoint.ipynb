{
 "cells": [
  {
   "cell_type": "markdown",
   "metadata": {},
   "source": [
    "<center>TIC1001—Introduction to Computing and Programming</center>\n",
    "<center>National University of Singapore</center>"
   ]
  },
  {
   "cell_type": "markdown",
   "metadata": {},
   "source": [
    "<h1>Tutorial 09</h1>"
   ]
  },
  {
   "cell_type": "markdown",
   "metadata": {},
   "source": [
    " ### Question 1"
   ]
  },
  {
   "cell_type": "markdown",
   "metadata": {
    "raw_mimetype": "text/latex"
   },
   "source": [
    "[Process Management] In the lecture, we discussed that OS is responsible for selecting a\n",
    "process to run on CPU. This is formally known as process scheduling. One way to make\n",
    "a good process scheduling decision is based on the process behavior. A process perform\n",
    "either:<br>\n",
    "- Input/Output (IO)-Activity: e.g. waiting for user input ( scanf() ), reading from a file\n",
    "( fgets() ), printing information on screen ( printf() ), etc. OR\n",
    "- CPU-Activity: e.g. performing heavy calculation."
   ]
  },
  {
   "cell_type": "markdown",
   "metadata": {},
   "source": [
    "(a) Discuss the behavior of the following processes:\n",
    "1. The “desktop” interface commonly seen in most modern OSes.\n",
    "2. The “Sieve of Erathoses” on a HUGE array (say 500 million entries)."
   ]
  },
  {
   "cell_type": "code",
   "execution_count": null,
   "metadata": {},
   "outputs": [],
   "source": [
    "1. IO activity\n",
    "2. CPU activity"
   ]
  },
  {
   "cell_type": "markdown",
   "metadata": {},
   "source": [
    "(a)(i) Given the two processes in part (a), modern OS will attempt to prioritize which process?\n",
    "\n"
   ]
  },
  {
   "cell_type": "code",
   "execution_count": null,
   "metadata": {},
   "outputs": [],
   "source": [
    "The \"desktop\" process"
   ]
  },
  {
   "cell_type": "markdown",
   "metadata": {},
   "source": [
    "(b) On a system with an active user (e.g. you are coding actively on your laptop), discuss\n",
    "how should the OS prioritizes processes based on their behavior. As a guide, you\n",
    "should be thinking about, “if a process P is doing a lot I/O activity, then . . . ”. You can\n",
    "also use (a) as a guide."
   ]
  },
  {
   "cell_type": "markdown",
   "metadata": {},
   "source": [
    " ### Question 2"
   ]
  },
  {
   "cell_type": "markdown",
   "metadata": {},
   "source": [
    "[File Management] Let us write a simple C program simulate how the OS uses File\n",
    "Allocation Table (FAT) to find out the disk blocks used by a file."
   ]
  },
  {
   "cell_type": "code",
   "execution_count": null,
   "metadata": {},
   "outputs": [],
   "source": [
    "#include <iostream>\n",
    "\n",
    "using namespace std;\n",
    "\n",
    "int readFAT( FILE* input, int fat[])\n",
    "{\n",
    "    int size, i;\n",
    "    fscanf(input,\"%d\",&size);\n",
    "    for (int i = 0; i < size; i++)\n",
    "    {\n",
    "        fscanf(input,\"%d\",&(fat[i]));\n",
    "    }\n",
    "    return size;\n",
    "}\n",
    "\n",
    "void printFAT( int fat[], int size)\n",
    "{\n",
    "    int i;\n",
    "    for ( i = 0; i < size; i++)\n",
    "    {\n",
    "        printf(\"%3d[%3d]\",i,fat[i]);\n",
    "    }\n",
    "}\n",
    "\n",
    "void printFileAt( int fat[], int start)\n",
    "{\n",
    "    int idx = start;\n",
    "    while (idx != -1)\n",
    "    {\n",
    "        printf(\"%d\",idx);\n",
    "        idx = fat[idx];\n",
    "    }\n",
    "    printf(\"\\n\");\n",
    "}\n",
    "\n",
    "int main(void)\n",
    "{\n",
    "    FILE* input;\n",
    "    char filename[999];\n",
    "    int i, fat[1024], size, start;\n",
    "\n",
    "    printf(\"File name: \");\n",
    "    scanf(\"%s\",filename);\n",
    "    \n",
    "    input = fopen(filename,\"r\");\n",
    "    size = readFAT(input,fat);\n",
    "    printFAT(fat,size);\n",
    "\n",
    "    while (scanf(\"%d\",&start)==1)\n",
    "    {\n",
    "        printFileAt(fat,start);\n",
    "    }\n",
    "}"
   ]
  },
  {
   "cell_type": "markdown",
   "metadata": {},
   "source": [
    "(2a) Select all TRUE statements regarding virtual memory management\n",
    "\n"
   ]
  },
  {
   "cell_type": "code",
   "execution_count": null,
   "metadata": {},
   "outputs": [],
   "source": [
    "- It is possible to have memory pages of a process not reside in memory.\n",
    "- More processes can now be residing in the memory."
   ]
  },
  {
   "cell_type": "markdown",
   "metadata": {},
   "source": [
    " ### Question 3"
   ]
  },
  {
   "cell_type": "markdown",
   "metadata": {},
   "source": [
    "[Database] Given the following person table:"
   ]
  },
  {
   "attachments": {
    "Screenshot%202020-11-30%20130855.png": {
     "image/png": "[encoded data removed]"
    }
   },
   "cell_type": "markdown",
   "metadata": {},
   "source": [
    "![Screenshot%202020-11-30%20130855.png](attachment:Screenshot%202020-11-30%20130855.png)"
   ]
  },
  {
   "cell_type": "markdown",
   "metadata": {},
   "source": [
    "(a) Give the SQL statement to create the table above. You can make reasonable assumptions\n",
    "on the datatype of each column."
   ]
  },
  {
   "cell_type": "code",
   "execution_count": null,
   "metadata": {},
   "outputs": [],
   "source": [
    "CREATE\n",
    "    TABLE\n",
    "        person (\n",
    "            name VARCHAR (256)\n",
    "            ,height FLOAT\n",
    "            ,weight INT\n",
    "            ,age INT\n",
    "            ,IQ INT\n",
    "        )"
   ]
  },
  {
   "cell_type": "markdown",
   "metadata": {},
   "source": [
    "(b) Give the SQL statements to insert the 5 rows above."
   ]
  },
  {
   "cell_type": "code",
   "execution_count": null,
   "metadata": {},
   "outputs": [],
   "source": [
    "INSERT\n",
    "    INTO\n",
    "        person (\n",
    "            name\n",
    "            ,height\n",
    "            ,weight\n",
    "            ,age\n",
    "            ,IQ\n",
    "        )\n",
    "    VALUES (\n",
    "        “Abigail”\n",
    "        ,152.5\n",
    "        ,55\n",
    "        ,17\n",
    "        ,180\n",
    "    ) (\n",
    "        “Trigun”\n",
    "        ,175.4\n",
    "        ,85\n",
    "        ,25\n",
    "        ,135\n",
    "    ) (\n",
    "        “Shelcard”\n",
    "        ,195.0\n",
    "        ,120\n",
    "        ,55\n",
    "        ,120\n",
    "    ) (\n",
    "        “Maurice”\n",
    "        ,145.4\n",
    "        ,48\n",
    "        ,46\n",
    "        ,108\n",
    "    ) (\n",
    "        “Liam”\n",
    "        ,170.5\n",
    "        ,60\n",
    "        ,18\n",
    "        ,100\n",
    "    )"
   ]
  },
  {
   "cell_type": "markdown",
   "metadata": {},
   "source": [
    "(c) Give the SQL statements to find out the following information. Note that you are free\n",
    "to make reasonable assumptions.\n"
   ]
  },
  {
   "cell_type": "markdown",
   "metadata": {},
   "source": [
    "i. Young Genius"
   ]
  },
  {
   "cell_type": "code",
   "execution_count": null,
   "metadata": {},
   "outputs": [],
   "source": [
    "SELECT\n",
    "        *\n",
    "    FROM\n",
    "        person\n",
    "    WHERE\n",
    "        IQ > 120 AND age < 25"
   ]
  },
  {
   "cell_type": "markdown",
   "metadata": {},
   "source": [
    "ii. Giant among us"
   ]
  },
  {
   "cell_type": "code",
   "execution_count": null,
   "metadata": {},
   "outputs": [],
   "source": [
    "SELECT\n",
    "        name\n",
    "    FROM\n",
    "        person\n",
    "    WHERE\n",
    "        height > 180 AND weight > 100"
   ]
  },
  {
   "cell_type": "markdown",
   "metadata": {},
   "source": [
    "iii. The Joes (not tall, not bulky, not genius, i.e. average person)"
   ]
  },
  {
   "cell_type": "code",
   "execution_count": null,
   "metadata": {},
   "outputs": [],
   "source": [
    "SELECT\n",
    "        *\n",
    "    FROM\n",
    "        person\n",
    "    WHERE\n",
    "        height <= 180\n",
    "        AND IQ <= 120\n",
    "        AND weight <= 100"
   ]
  },
  {
   "cell_type": "markdown",
   "metadata": {},
   "source": [
    "(d) Suppose we want to list all persons (name, height) in descending order of their heights, which of the following SQL statement is correct?\n",
    "\n"
   ]
  },
  {
   "cell_type": "code",
   "execution_count": null,
   "metadata": {},
   "outputs": [],
   "source": [
    "SELECT\n",
    "        name, height\n",
    "    FROM\n",
    "        person\n",
    "    ORDER BY height DESC"
   ]
  }
 ],
 "metadata": {
  "celltoolbar": "Raw Cell Format",
  "kernelspec": {
   "display_name": "C",
   "language": "c",
   "name": "c"
  },
  "language_info": {
   "codemirror_mode": "text/x-c++src",
   "file_extension": ".cpp",
   "mimetype": "text/x-c++src",
   "name": "c++",
   "version": "11"
  }
 },
 "nbformat": 4,
 "nbformat_minor": 4
}
