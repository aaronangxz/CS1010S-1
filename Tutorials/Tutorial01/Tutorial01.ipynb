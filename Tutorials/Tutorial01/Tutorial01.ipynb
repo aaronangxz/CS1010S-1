{
 "cells": [
  {
   "cell_type": "markdown",
   "metadata": {},
   "source": [
    "<center>TIC1001—Introduction to Computing and Programming</center>\n",
    "<center>National University of Singapore</center>"
   ]
  },
  {
   "cell_type": "markdown",
   "metadata": {},
   "source": [
    "<center><h1>Tutorial 1 - Basics of C & Control Structures</h1></center>"
   ]
  },
  {
   "cell_type": "markdown",
   "metadata": {
    "raw_mimetype": "text/latex"
   },
   "source": [
    "**1.** Being able to trace through the execution of a program without running it is known as program tracing. Program tracing involves building up a mental model of program exe- cution in your mind (or on paper). By tracing a program, you will gain a stronger under- standing of the program execution flow and improve your programming skill. Consider the following program:"
   ]
  },
  {
   "cell_type": "code",
   "execution_count": null,
   "metadata": {},
   "outputs": [],
   "source": [
    "#include <stdio.h> \n",
    "\n",
    "int main(void) \n",
    "{\n",
    "    int cur, prev1=1, prev2=1;\n",
    "    cur = prev1 + prev2;\n",
    "    prev2 = prev1;\n",
    "    prev1 = cur;\n",
    "    \n",
    "    cur = prev1 + prev2;\n",
    "    prev2 = prev1;\n",
    "    prev1 = cur;\n",
    "    \n",
    "    cur = prev1 + prev2;\n",
    "    prev2 = prev1;\n",
    "    prev1 = cur;\n",
    "    \n",
    "    printf(\"cur is %d; prev1 is %d; prev2 is %d\\n\", cur, prev1, prev2); \n",
    "    return 0;\n",
    "}"
   ]
  },
  {
   "cell_type": "markdown",
   "metadata": {},
   "source": [
    "Trace the execution of the program, paying particular attention to variable declarations and changes to the values of the variables. Verify your program trace by including your own debugging printf statements at strategic points in the program to track the value changes of variables."
   ]
  },
  {
   "cell_type": "markdown",
   "metadata": {},
   "source": [
    "0) cur=2, prev1=1, prev2=1<br>\n",
    "1) cur=2, prev1=1, prev2=1<br>\n",
    "2) cur=2, prev1=2, prev2=1<br>\n",
    "3) cur=3, prev1=2, prev2=1<br>\n",
    "4) cur=3, prev1=2, prev2=2<br>\n",
    "5) cur=3, prev1=3, prev2=2<br>\n",
    "6) cur=5, prev1=3, prev2=2<br>\n",
    "7) cur=5, prev1=3, prev2=3<br>\n",
    "8) cur=5, prev1=5, prev2=3<br>\n",
    "\n",
    "\n",
    "cur is 5; prev1 is 5; prev2 is 3"
   ]
  },
  {
   "cell_type": "markdown",
   "metadata": {},
   "source": [
    "**2.** Assume there are three integers a , b and c already defined in our program, and we want to assign the value of the largest integer to variable <code>max</code> .<br>\n",
    "For each of the following code fragments below, fill in the missing parts so that the code will fulfil the given task."
   ]
  },
  {
   "cell_type": "code",
   "execution_count": null,
   "metadata": {},
   "outputs": [],
   "source": [
    "int part_a(int a, int b, int c) {\n",
    "    int max;\n",
    "    if (a > b || a > c) {\n",
    "        max = a;\n",
    "    } else {\n",
    "        if (b > c) {\n",
    "            max = b;\n",
    "        } else {\n",
    "            max = c;   \n",
    "        }\n",
    "    }\n",
    "    return max;\n",
    "}\n",
    "int part_b(int a, int b, int c) {\n",
    "    int max = a;\n",
    "    if (b > a) {\n",
    "        max = b;\n",
    "    }\n",
    "    if (c > a) {\n",
    "        max = c;   \n",
    "    }\n",
    "    return max;    \n",
    "}\n",
    "int part_c(int a, int b, int c) {\n",
    "    int max;\n",
    "    if (a > b) {\n",
    "        if (a > c) {\n",
    "            max = a;\n",
    "        } else {\n",
    "            max = c;\n",
    "        }\n",
    "    } else {\n",
    "        if (b > c) {\n",
    "            max = b;\n",
    "        } else {\n",
    "            max = c;\n",
    "        }\n",
    "    }\n",
    "    return max;\n",
    "}"
   ]
  },
  {
   "cell_type": "markdown",
   "metadata": {},
   "source": [
    "**3.** Study the following program fragment:"
   ]
  },
  {
   "cell_type": "code",
   "execution_count": null,
   "metadata": {},
   "outputs": [],
   "source": [
    "int foo(int a) \n",
    "{ \n",
    "    if (a > 0)\n",
    "        if (a >= 1000) \n",
    "            a = 0;\n",
    "        else \n",
    "            if (a < 500)\n",
    "                a = a * 2;\n",
    "            else\n",
    "                a = a * 10;\n",
    "       \n",
    "    else\n",
    "         a = a + 3;\n",
    "}"
   ]
  },
  {
   "cell_type": "markdown",
   "metadata": {},
   "source": [
    "Deduce the functionality of the program fragment and re-compose the nested <code>if..else</code> statements into a form that is easier to understand."
   ]
  },
  {
   "cell_type": "code",
   "execution_count": null,
   "metadata": {},
   "outputs": [],
   "source": [
    "int foo(int a) \n",
    "{\n",
    "    if (a > 0 && a < 500)\n",
    "    {\n",
    "        a = a * 2;\n",
    "    }\n",
    "    else if (a >= 500 && a < 1000)\n",
    "    {\n",
    "        a = a * 10;\n",
    "    }\n",
    "    else if (a >= 1000)\n",
    "    {\n",
    "        a = 0;\n",
    "    }\n",
    "    else\n",
    "    {\n",
    "        a = a + 3;\n",
    "    }\n",
    "    return a;\n",
    "}"
   ]
  },
  {
   "cell_type": "markdown",
   "metadata": {},
   "source": [
    "**4.** Given the following program fragment:"
   ]
  },
  {
   "cell_type": "code",
   "execution_count": null,
   "metadata": {},
   "outputs": [],
   "source": [
    "int i=1;\n",
    "while (i > 0) \n",
    "{\n",
    "    i = i + 1; \n",
    "}\n",
    "printf(\"%d\\n\", i);"
   ]
  },
  {
   "cell_type": "markdown",
   "metadata": {},
   "source": [
    "(a) What do you think will happen?<br>\n",
    "(b) Run the program, observe what happens and make your own deductions."
   ]
  },
  {
   "cell_type": "markdown",
   "metadata": {},
   "source": [
    "a. i will continue to increase by 1, as i continuously satisfies the while loop condition (i > 0). i will stop and print the results when it reaches the maximum int value: 2147483647. \n",
    "<br><br>b. The result is -2147483648 instead. At the binary level, 01111111111111111111111111111111 -> 10000000000000000000000000000000, with two's complement, the second number is negative, hence -2147483648."
   ]
  },
  {
   "cell_type": "markdown",
   "metadata": {},
   "source": [
    "**5.** Given the following program fragment:"
   ]
  },
  {
   "cell_type": "code",
   "execution_count": null,
   "metadata": {},
   "outputs": [],
   "source": [
    "int n=321, count2=0, count3=0, count5=0;\n",
    "\n",
    "for (int i = 0; i <= n; i=i+1) \n",
    "{ \n",
    "    if (i%5 == 0) \n",
    "    {\n",
    "        count5 = count5 + 1; \n",
    "        if (i%3 == 0) \n",
    "        {\n",
    "            count3 = count3 + 1;\n",
    "        }\n",
    "    } \n",
    "    else \n",
    "    {\n",
    "        if (i%2 == 0) \n",
    "        {\n",
    "            count2 = count2 + 1;\n",
    "        }\n",
    "    } \n",
    "}\n",
    "printf(\"%d %d %d\\n\", count5, count3, count2);"
   ]
  },
  {
   "cell_type": "markdown",
   "metadata": {},
   "source": [
    "(a) Perform a timeline trace of the variables count2 , count3 and count5 from i = 0 to i = 30.<br>\n",
    "(b) Using the trace above, predict the output of the program.<br>\n",
    "(c) Verify your prediction by running the program.<br>"
   ]
  },
  {
   "cell_type": "markdown",
   "metadata": {},
   "source": [
    "count5: increment of 5 {321/5 = 64} & 0 = 65\n",
    "\n",
    "count3: increment of 5 && increment of 3 {321/15=21} & 0 = 22\n",
    "\n",
    "count2: increment of 2 {321/2=160} - increment of 10 {321/10=32} = 128"
   ]
  },
  {
   "cell_type": "markdown",
   "metadata": {},
   "source": [
    "**6.** Write a program that takes in two positive integers and returns the greatest common divisor (*gcd*) of the two integers. For example, the gcd of 539 and 84 is 7. Two algorithms for determining the gcd are given below:<br>\n",
    "\n",
    "(a) Set a variable <code>gcd</code> to be the smaller of the two values. If this value of <code>gcd</code> com- pletely divides the two numbers, then return this value as the *gcd*. Otherwise, reduce the value of <code>gcd</code> by one and repeat the test.<br>\n",
    "\n",
    "(b) We apply the Euclidean algorithm. Let the two values be a and b. Replace b with the remainder of *a/b*, and *a* with the original value of *b* (before the replacement). Keep doing this until *b* becomes zero; the value of *a* is the *gcd*."
   ]
  },
  {
   "cell_type": "code",
   "execution_count": null,
   "metadata": {},
   "outputs": [],
   "source": [
    "int gcd(int a, int b) \n",
    "{\n",
    "    // Loop until b is 0//\n",
    "    if (b != 0)\n",
    "    {\n",
    "        //*Recursion*//\n",
    "        //Replace b with remainder of a%b//\n",
    "        //Replace a with original value of b//\n",
    "        return gcd(b,a%b);\n",
    "    }\n",
    "    else\n",
    "    {\n",
    "        //If b=0, a is the gcd results//\n",
    "        return a;\n",
    "    }\n",
    "}"
   ]
  },
  {
   "cell_type": "markdown",
   "metadata": {},
   "source": [
    "-END-"
   ]
  }
 ],
 "metadata": {
  "celltoolbar": "Raw Cell Format",
  "kernelspec": {
   "display_name": "C++11",
   "language": "C++11",
   "name": "xcpp11"
  },
  "language_info": {
   "codemirror_mode": "text/x-c++src",
   "file_extension": ".cpp",
   "mimetype": "text/x-c++src",
   "name": "c++",
   "version": "11"
  }
 },
 "nbformat": 4,
 "nbformat_minor": 4
}
