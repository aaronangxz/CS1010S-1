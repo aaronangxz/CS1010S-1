{
 "cells": [
  {
   "cell_type": "markdown",
   "metadata": {},
   "source": [
    "<center>TIC1001—Introduction to Computing and Programming</center>\n",
    "<center>National University of Singapore</center>"
   ]
  },
  {
   "cell_type": "markdown",
   "metadata": {},
   "source": [
    "<center><h1>Tutorial 3 - Functional Abstraction</h1></center>"
   ]
  },
  {
   "cell_type": "markdown",
   "metadata": {
    "raw_mimetype": "text/latex"
   },
   "source": [
    "1.In tutorial 1, we performed a trace of a program containing only the main function. Extend your mental model to include traces of program execution involving more than one function using the program below."
   ]
  },
  {
   "cell_type": "code",
   "execution_count": null,
   "metadata": {},
   "outputs": [],
   "source": [
    "#include <stdio.h>\n",
    "\n",
    "int f(int x, int y);\n",
    "\n",
    "int main(void) \n",
    "{\n",
    "    int x = 3, y = 4;\n",
    "    x = f(x,y);\n",
    "    y = f(x, f(y,x));\n",
    "    printf(\"x = %d; y = %d\\n\", x, y); return 0;\n",
    "}\n",
    "\n",
    "int f(int x, int y) \n",
    "{ \n",
    "    return x*10 + y;\n",
    "}"
   ]
  },
  {
   "cell_type": "markdown",
   "metadata": {},
   "source": [
    "Keep in mind the following notions while you trace. \n",
    "* function call with evaluated arguments\n",
    "* function activation with parameter declaration • pass-by-value\n",
    "* lexical scoping\n",
    "* function termination upon return"
   ]
  },
  {
   "cell_type": "markdown",
   "metadata": {},
   "source": [
    "x = 34; y = 414"
   ]
  },
  {
   "cell_type": "markdown",
   "metadata": {},
   "source": [
    "2.The basis representation theorem states the following:\n",
    "Every $n ∈ Z^{+}$ can be uniquely expressed as a sum of terms $(a_{i})$ such that\n",
    "\n",
    "$n = \\sum \\limits _{i=1} ^{k} a_{i}b^{i},a_{k}$!= 0\n",
    "\n",
    "where $b$ is the base of the number.\n",
    "\n",
    "For example, $130_{10}$ in base 10 can be expressed as $1010_{5}$ in base 5 since \n",
    "\n",
    "$1×10^{2} +3×10^{1} +0×10^{0} = 1×5^{3} +0×5^{2} +1×5^{1} +0×5^{0}$\n",
    "\n",
    "(a) Implement a function void print_10_to_b(int n, int b) which takes in a number n in decimal (base 10) and prints the equivalent number in base b, for 2 ≤ b ≤ 10.<br>\n",
    "(b) Implementafunction void print_b1_to_b2(int n, int b1, int b2) thattakesin a number n in base b1 and prints the equivalent number in base b2, with 2 ≤ b1, b2 ≤ 10."
   ]
  },
  {
   "cell_type": "code",
   "execution_count": null,
   "metadata": {},
   "outputs": [],
   "source": [
    "int print_10_to_b(int n, int b) \n",
    "{\n",
    "    //Convert number in base b to base 10\n",
    "    //Array for converted numbers\n",
    "    int convert[50];\n",
    "    int i = 0;\n",
    "\n",
    "    //Loop until n is 0 \n",
    "    while ( n != 0)\n",
    "    {\n",
    "        //Fill the ith location in array (Starts from 0) with remainder of n / base\n",
    "        //Essentially the last digit of n        \n",
    "        convert[i] = n % b;\n",
    "        //Removing the last digit of n in every iteration\n",
    "        n = n / b;\n",
    "        i ++ ;\n",
    "\n",
    "        /*\n",
    "        ----- Start of loop -----\n",
    "\n",
    "        i = 0\n",
    "        convert[0] = 130 % 5 = 0\n",
    "        n = 130 / 5 = 26\n",
    "\n",
    "        i = 1\n",
    "        convert[1] = 26 % 5 = 1\n",
    "        n = 26 / 5 = 5\n",
    "\n",
    "        i = 2\n",
    "        convert[2] = 5 % 5 = 0\n",
    "        n = 5 / 5 = 1\n",
    "\n",
    "        i = 3\n",
    "        convert[3] = 1 % 5 = 1\n",
    "        n = 1 / 5 = 0\n",
    "\n",
    "        i = 4\n",
    "        ----- End of loop -----     \n",
    "\n",
    "        Values in array --> convert[] = {0,1,0,1} \n",
    "\n",
    "        */\n",
    "    }\n",
    "    //Going back one position as this position in array --> convert[4] (empty) is not relevant\n",
    "    // i = 4 - 1, so i goes back to 3 which is convert[3]\n",
    "    i--;\n",
    "    \n",
    "    //Start reverse looping from previous position of array (convert[3]), until i is < 0\n",
    "    for( i = i ; i >= 0; i--)\n",
    "    {\n",
    "\t    printf(\"%d\",convert[i]);\n",
    "\n",
    "        /*\n",
    "\n",
    "        ----- Start of loop -----\n",
    "        i = 3, return convert[3], prints 1\n",
    "        i = 2, return convert[2], prints 0\n",
    "        i = 1, return convert[1], prints 1\n",
    "        i = 0, return convert[0], prints 0\n",
    "        ----- End of loop -----\n",
    "\n",
    "        Result of print_10_to_b(130, 5) --> 1010\n",
    "\n",
    "        */\n",
    "    }\n",
    "    printf(\"\\n\");\n",
    "    return 0;\n",
    "}\n",
    "\n",
    "int print_b1_to_b2(int n, int b1, int b2) \n",
    "{\n",
    "    // Convert n from base b1 to base 10, \n",
    "    // then sub returned values (sum) to <print_10_to_b> function\n",
    "    int i = 0, sum = 0;\n",
    "    \n",
    "    while ( n!= 0)\n",
    "    {\n",
    "        // Similar to <print_10_to_b> function\n",
    "        int remainder = n % 10;\n",
    "        n = n / 10;\n",
    "        //Each digit * base^corresponding power\n",
    "        sum += remainder * pow(b1,i);\n",
    "        i++ ;\n",
    "\n",
    "        /* \n",
    "        Computation steps i.e. \n",
    "        Convert 130 base 5 to base 10\n",
    "\n",
    "        ----- Start of loop -----\n",
    "        i = 0\n",
    "        remainder = 130 % 10 = 0\n",
    "        n = 130 / 10 = 13\n",
    "        sum = 0 * 5^0\n",
    "\n",
    "        i = 1\n",
    "        remainder = 13 % 10 = 3\n",
    "        N = 13 / 10 =1\n",
    "        sum = 0 * 5^0 + 3 * 5^1\n",
    "\n",
    "        i = 2\n",
    "        remainder = 1 % 10 = 1\n",
    "        n = 1 / 10 = 0\n",
    "        sum = 0 * 5^0 + 3 * 5^1+ 1 * 5^2\n",
    "        ----- End of loop -----\n",
    "\n",
    "        */\n",
    "    }\n",
    "    print_10_to_b(sum,b2);\n",
    "    return 0;\n",
    "}"
   ]
  },
  {
   "cell_type": "markdown",
   "metadata": {},
   "source": [
    "3.A function can be viewed as a black box. All you need to know are the arguments it takes as input and what its output is.\n",
    "\n",
    "\n",
    "(a) One way of calculating the area of a triangle is using the formula area $= \\frac{1}{2}× base × height$.\n",
    "\n",
    "\n",
    "Implement a function <code>area1</code> that calculates and returns the area of any given triangle using this formula.<br>\n",
    "Decide what arguments the function requires as input."
   ]
  },
  {
   "cell_type": "code",
   "execution_count": null,
   "metadata": {},
   "outputs": [],
   "source": [
    "double area1(double a, double b) \n",
    "{\n",
    "    double area1 = 0.5 * a * b;\n",
    "    return area1;\n",
    "}"
   ]
  },
  {
   "cell_type": "markdown",
   "metadata": {},
   "source": [
    "(b) Another way of calculating the area of a triangle with sides A, B, C is using the trigonometric ratio sine to get area $= \\frac{1}{2}× A × B × sin(AB)$., where AB is the included angle between sides A and B.\n",
    "\n",
    "\n",
    "The sin function is provided by the <code>math.h</code> library. You can call it by using sin after including the line <code>#include < math. h></code> at the top of your source file.\n",
    "\n",
    "\n",
    "Implement a function <code>area2</code> that calculates and returns the area of any given triangle using this formula.<br>\n",
    "Decide what arguments the function requires as input."
   ]
  },
  {
   "cell_type": "code",
   "execution_count": null,
   "metadata": {},
   "outputs": [],
   "source": [
    "double area2(double a, double b,double c) \n",
    "{\n",
    "    double area2 = 0.5 * a * b * sin(c);\n",
    "    return area2;\n",
    "}"
   ]
  },
  {
   "cell_type": "markdown",
   "metadata": {},
   "source": [
    "(c) We can also calculate the area of triangle using Heron’s Formula, \n",
    "\n",
    "$area = \\sqrt{s(s−a)(s−b)(s−c))}$ where $s = \\frac{a+b+c}{2}$\n",
    "\n",
    "Implement a function <code>area3</code> that calculates and returns the area of any given triangle using Heron’s Formula.\n",
    "\n",
    "Decide what arguments the function requires as input."
   ]
  },
  {
   "cell_type": "code",
   "execution_count": null,
   "metadata": {},
   "outputs": [],
   "source": [
    "double area3(double a, double b, double c) \n",
    "{\n",
    "    double s = (a + b + c) / 2;\n",
    "    double area3 = sqrt(s * (s -a)*(s - b)*(s - c));\n",
    "    return area3;\n",
    "}"
   ]
  },
  {
   "cell_type": "markdown",
   "metadata": {},
   "source": [
    "4.Implement a function that takes in three integers, and rearranges them in ascending order. For example, after the following code snippet is executed:"
   ]
  },
  {
   "cell_type": "code",
   "execution_count": null,
   "metadata": {},
   "outputs": [],
   "source": [
    "int a = 5, b = 7, c = 2; \n",
    "sort(&a, &b, &c);\n",
    "printf(\"%d, %d, %d\", a, b, c);"
   ]
  },
  {
   "cell_type": "markdown",
   "metadata": {},
   "source": [
    "the output will be 2, 5, 7 .\n",
    "    \n",
    "\n",
    "Assume that an in-place <code>swap</code> function that takes in two variables via pointers and swap their values is available (e.g. as shown in lecture). Try implementing your sort function without declaring any new variables."
   ]
  },
  {
   "cell_type": "code",
   "execution_count": null,
   "metadata": {},
   "outputs": [],
   "source": [
    "void sort(int *a, int *b, int *c) \n",
    "{  \n",
    "   //Assign a, b, c into number[] as pointers\n",
    "   //E.g. *number[0] = {a}, *number[1] = {b}, *number[2] = {c}\n",
    "   int *number[] = {a, b, c};\n",
    "   \n",
    "   //Loop 1: to loop through all numbers\n",
    "   //If there are 3 numbers, loop 3 times\n",
    "   for (int i = 0; i < 3; i++)\n",
    "   {\n",
    "       //Loop 2: to swap numbers\n",
    "       //If there are 3 numbers, loop 2 times\n",
    "       //Since we only have to compare and swap 2 times \n",
    "       //e.g. compare number[0] & number[1], \n",
    "       //then compare number[1] & number[2]\n",
    "       for (int j = 1; j < 3; j++)\n",
    "       {\n",
    "           //If *number[0] > *number[1], \n",
    "           //swap in order to move smaller number to the front\n",
    "           if (*number[j - 1] > *number[j])\n",
    "           {\n",
    "               swap(number[j - 1],number[j]);\n",
    "           }\n",
    "           //Else, proceed to j + 1, \n",
    "           //compare *number[1] & *number[2]\n",
    "       }\n",
    "       //Next, proceed to i + 1 to check again\n",
    "   }\n",
    "}"
   ]
  },
  {
   "cell_type": "markdown",
   "metadata": {},
   "source": [
    "5.For this question, we will use an integer to represent the amount of money in a bank account. Implement the following functions:\n",
    "* <code>void deposit(int *account, int amount)</code> that takes in the bank account and an amount of money, and increments the account by the amount.\n",
    "* <code>bool withdrawl(int *account, int amount)</code> that takes in the bank account and an amount of money, and decrements the account by the amount if there is sufficient money in the account. It returns true if the account was successfully decremented and false if not.\n",
    "* <code>bool transfer(int *from, int *to, int amount)</code> that takes in two bank accounts and an amount of money, and transfers the amount from the first account to the second, if there is sufficient money in the first account. It returns true if the ac- count was successfully decremented and false if not.\n",
    "\n",
    "The above functions use pass-by-pointer. You can also use pass-by-reference in C++ to achieve the same result. How will your code differ between these two methods?\n",
    "\n",
    "As a practice on functional abstraction, you should reuse functions as much as possible."
   ]
  },
  {
   "cell_type": "code",
   "execution_count": null,
   "metadata": {},
   "outputs": [],
   "source": [
    "void deposit(int *account, int amount) \n",
    "{\n",
    "    *account += amount;\n",
    "}\n",
    "\n",
    "bool withdrawl(int *account, int amount) \n",
    "{\n",
    "    if (*account < amount)\n",
    "    {\n",
    "        return false;\n",
    "    }\n",
    "    else\n",
    "    {\n",
    "        *account -= amount;\n",
    "        return true;\n",
    "    }\n",
    "}\n",
    "\n",
    "bool transfer(int *from, int *to, int amount) \n",
    "{\n",
    "    if (withdrawl(from,amount))\n",
    "    {\n",
    "        deposit(to,amount);\n",
    "        return true;\n",
    "    }\n",
    "    return false;\n",
    "}"
   ]
  },
  {
   "cell_type": "markdown",
   "metadata": {},
   "source": [
    "-END-"
   ]
  },
  {
   "cell_type": "markdown",
   "metadata": {},
   "source": [
    "Visualize Pointers / References"
   ]
  },
  {
   "cell_type": "code",
   "execution_count": 10,
   "metadata": {},
   "outputs": [
    {
     "name": "stdout",
     "output_type": "stream",
     "text": [
      "\n",
      "Value of x is 9999\n",
      "\n",
      "Address &x is 0x7f703ac1403c\n",
      "\n",
      "Value at &x is 9999\n"
     ]
    }
   ],
   "source": [
    "    int x = 9999;\n",
    "    printf(\"\\nValue of x is %d\\n\", x);\n",
    "    printf(\"\\nAddress &x is %p\\n\", &x);\n",
    "    printf(\"\\nValue at &x is %d\\n\", *&x);"
   ]
  },
  {
   "cell_type": "code",
   "execution_count": null,
   "metadata": {},
   "outputs": [],
   "source": []
  }
 ],
 "metadata": {
  "celltoolbar": "Raw Cell Format",
  "kernelspec": {
   "display_name": "C++11",
   "language": "C++11",
   "name": "xcpp11"
  },
  "language_info": {
   "codemirror_mode": "text/x-c++src",
   "file_extension": ".cpp",
   "mimetype": "text/x-c++src",
   "name": "c++",
   "version": "11"
  }
 },
 "nbformat": 4,
 "nbformat_minor": 4
}
