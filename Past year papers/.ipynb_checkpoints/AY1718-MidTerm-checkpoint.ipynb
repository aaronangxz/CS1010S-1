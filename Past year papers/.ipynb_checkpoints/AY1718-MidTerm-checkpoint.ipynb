{
 "cells": [
  {
   "cell_type": "markdown",
   "metadata": {},
   "source": [
    "<center>TIC1001—Introduction to Computing and Programming</center>\n",
    "<center>National University of Singapore</center>"
   ]
  },
  {
   "cell_type": "markdown",
   "metadata": {},
   "source": [
    "<center><h1>Midterm Test - AY17/18</h1></center>"
   ]
  },
  {
   "cell_type": "markdown",
   "metadata": {},
   "source": [
    " ### Question 1: C/C++ Expressions"
   ]
  },
  {
   "cell_type": "markdown",
   "metadata": {
    "raw_mimetype": "text/latex"
   },
   "source": [
    "There are several parts to this question which are to be answered independently and separately. Each part consists of a fragment of C/C++ code. Write the exact output produced by the code in the answer box. If an error occurs, or it enters an infinite loop, state and explain why.\n",
    "You may show workings outside the answer box in the space beside the code. Partial marks may be awarded for workings if the final answer is wrong.\n",
    "Assume that all appropriate preprocessor directives e.g., #include < iostream > , etc. have already been defined."
   ]
  },
  {
   "cell_type": "code",
   "execution_count": 1,
   "metadata": {},
   "outputs": [],
   "source": [
    "#include <iostream>\n",
    "using namespace std;"
   ]
  },
  {
   "cell_type": "markdown",
   "metadata": {},
   "source": [
    "A."
   ]
  },
  {
   "cell_type": "code",
   "execution_count": null,
   "metadata": {},
   "outputs": [],
   "source": [
    "int square(double x) \n",
    "{ \n",
    "    return x * x;\n",
    "}\n",
    "printf(\"%d\", square(1.5));"
   ]
  },
  {
   "cell_type": "markdown",
   "metadata": {},
   "source": [
    "0.\n",
    "Call <code>square(x)</code> -> <code>square(1.5)</code>\n",
    "\n",
    "return 1.5 * 1.5 = 2.25\n",
    "\n",
    "However return data type is int, return 2.\n",
    "\n",
    "Print\"2\"\n",
    "\n",
    "Ans: 2"
   ]
  },
  {
   "cell_type": "markdown",
   "metadata": {},
   "source": [
    "B."
   ]
  },
  {
   "cell_type": "code",
   "execution_count": null,
   "metadata": {},
   "outputs": [],
   "source": [
    "int x = 2;\n",
    "int square(int x) \n",
    "{\n",
    "    return x * x; \n",
    "}\n",
    "printf(\"%d\", square(square(3)));"
   ]
  },
  {
   "cell_type": "markdown",
   "metadata": {},
   "source": [
    "Initialize x = 2\n",
    "\n",
    "0.Call <code>square(x)</code> -> <code>square(3)</code>\n",
    "\n",
    "return 3 * 3 = 9, return 9\n",
    "\n",
    "1.Call <code>square(x)</code> -> <code>square(9)</code>\n",
    "\n",
    "return 9 * 9 = 81, return 81\n",
    "\n",
    "Ans: 81"
   ]
  },
  {
   "cell_type": "markdown",
   "metadata": {},
   "source": [
    "C."
   ]
  },
  {
   "cell_type": "code",
   "execution_count": null,
   "metadata": {},
   "outputs": [],
   "source": [
    "int x = 5; \n",
    "int y = 3;\n",
    "double foo(int x, int y) \n",
    "{ \n",
    "    return x/y;\n",
    "}\n",
    "printf(\"%f\", foo(y, x));"
   ]
  },
  {
   "cell_type": "markdown",
   "metadata": {},
   "source": [
    "Initialize x = 5, y = 3\n",
    "\n",
    "Call <code>foo(y,x)</code> -> <code>foo(3,5)</code>\n",
    "return 3 / 5 = 0\n",
    "\n",
    "Print\"0.000000\""
   ]
  },
  {
   "cell_type": "markdown",
   "metadata": {},
   "source": [
    "D."
   ]
  },
  {
   "cell_type": "code",
   "execution_count": null,
   "metadata": {},
   "outputs": [],
   "source": [
    "int foo(int x, double y) \n",
    "{ \n",
    "    printf(\"%.2f \", y/x);\n",
    "    return y/x; \n",
    "}\n",
    "foo(foo(4, 10), 15);"
   ]
  },
  {
   "cell_type": "markdown",
   "metadata": {},
   "source": [
    "0.Call <code>foo(4,10)</code>\n",
    "\n",
    "10 / 4 = 2.50\n",
    "\n",
    "Print\"2.50\", return 2\n",
    "\n",
    "1.Call <code>foo(2,15)</code>\n",
    "\n",
    "15 / 2 = 7.50\n",
    "\n",
    "Print\"7.50\", return 7\n",
    "\n",
    "Ans: 2.50 7.50"
   ]
  },
  {
   "cell_type": "markdown",
   "metadata": {},
   "source": [
    "E."
   ]
  },
  {
   "cell_type": "code",
   "execution_count": null,
   "metadata": {},
   "outputs": [],
   "source": [
    "int i;\n",
    "for (i = 0; i < 10; ++i) \n",
    "{\n",
    "    if (i % 2 == 0) \n",
    "    {\n",
    "        ++i; \n",
    "    } \n",
    "    if (i % 3 == 0) \n",
    "    { \n",
    "        --i; \n",
    "    } \n",
    "    if (i % 5 == 0) \n",
    "    { \n",
    "        break; \n",
    "    }\n",
    "}\n",
    "printf(\"%d\", i);"
   ]
  },
  {
   "cell_type": "markdown",
   "metadata": {},
   "source": [
    "When i = 0,<br>\n",
    "0 % 2 = 0, will pass <code>if (i % 2 == 0)</code><br>\n",
    "Increment i + 1 = 1<br>\n",
    "Continue to next If Statement<br>\n",
    "1 % 3 = 1, will not pass <code>if (i % 3 == 0)</code><br>\n",
    "Continue to next If Statement<br>\n",
    "1 % 5 = 1, will not pass <code>if (i % 5 == 0)</code><br>\n",
    "Continue to loop, increment i + 1, i = 2<br>\n",
    "\n",
    "When i = 2,<br>\n",
    "2 % 2 = 0, will pass <code>if (i % 2 == 0)</code><br>\n",
    "Increment i + 1 = 3<br>\n",
    "Continue to next If Statement<br>\n",
    "3 % 3 = 0, will pass <code>if (i % 3 == 0)</code><br>\n",
    "Decrement i - 1 = 2<br>\n",
    "Continue to next If Statement<br>\n",
    "2 % 5 = 2, will not pass <code>if (i % 5 == 0)</code><br>\n",
    "Continue to loop, increment i + 1, i = 3<br>\n",
    "\n",
    "When i = 3,<br>\n",
    "3 % 2 = 1, will not pass <code>if (i % 2 == 0)</code><br>\n",
    "Continue to next If Statement<br>\n",
    "3 % 3 = 0, will pass <code>if (i % 3 == 0)</code><br>\n",
    "Decrement i - 1 = 2<br>\n",
    "Continue to next If Statement<br>\n",
    "2 % 5 = 2, will not pass <code>if (i % 5 == 0)</code><br>\n",
    "Continue to loop, increment i + 1, i = 3<br>\n",
    "\n",
    "When i = 3,<br>\n",
    "3 % 2 = 1, will not pass <code>if (i % 2 == 0)</code><br>\n",
    "Continue to next If Statement<br>\n",
    "3 % 3 = 0, will pass if (i % 3 == 0)<br>\n",
    "Decrement i - 1 = 2<br>\n",
    "Continue to next If Statement<br>\n",
    "2 % 5 = 2, will not pass <code>if (i % 5 == 0)</code><br>\n",
    "Continue to loop, increment i + 1, i = 3<br>\n",
    "\n",
    "Ans: i will stuck at 3, infinite loop"
   ]
  },
  {
   "cell_type": "markdown",
   "metadata": {},
   "source": [
    "F."
   ]
  },
  {
   "cell_type": "code",
   "execution_count": null,
   "metadata": {},
   "outputs": [],
   "source": [
    "int a = 3;\n",
    "int f(int a) \n",
    "{\n",
    "    a = 7;\n",
    "    return a; \n",
    "}\n",
    "int g(int a) \n",
    "{ \n",
    "    return f(a) + a;\n",
    "}\n",
    "printf(\"%d\", g(a+2) + f(a-1));"
   ]
  },
  {
   "cell_type": "markdown",
   "metadata": {},
   "source": [
    "Initialize a = 3\n",
    "\n",
    "Call <code>g(3+2)</code> -> <code>g(5)</code><br>\n",
    "Call <code>f(a)</code> -> 7<br>\n",
    "Return 7 + 5 = 12\n",
    "\n",
    "Call <code>f(a-1)</code> -> <code>f(2)</code><br>\n",
    "Return 7\n",
    "\n",
    "12 + 7 = 19,print\"19\""
   ]
  },
  {
   "cell_type": "markdown",
   "metadata": {},
   "source": [
    "G."
   ]
  },
  {
   "cell_type": "code",
   "execution_count": null,
   "metadata": {},
   "outputs": [],
   "source": [
    "inti=20,j=0; \n",
    "while (i >= j) \n",
    "{\n",
    "    --i;\n",
    "    if (i < 3*j) \n",
    "    { \n",
    "        continue; \n",
    "    } \n",
    "    j += 2;\n",
    "    printf(\"%d \", j); \n",
    "}   \n",
    "printf(\"%d\", i);"
   ]
  },
  {
   "cell_type": "markdown",
   "metadata": {},
   "source": [
    "Initialize i = 20, j = 0\n",
    "\n",
    "20 >= 0, enter while loop.<br>\n",
    "Decrement i - 1, i = 19<br>\n",
    "19 > 3 * 0, will not pass <code>if (i < 3 * j)</code> <br>\n",
    "Increment j + 2, j = 2<br>\n",
    "Print\"2 \"\n",
    "\n",
    "19 >= 2, enter while loop.<br>\n",
    "Decrement i - 1, i = 18<br>\n",
    "18 > 3 * 2, will not pass <code>if (i < 3 * j)</code> <br>\n",
    "Increment j + 2, j = 4<br>\n",
    "Print\"4 \"\n",
    "\n",
    "18 >= 4, enter while loop.<br>\n",
    "Decrement i - 1, i = 17<br>\n",
    "17 > 3 * 4, will not pass <code>if (i < 3 * j)</code> <br>\n",
    "Increment j + 2, j = 6<br>\n",
    "Print\"6\"\n",
    "\n",
    "17 >= 6, enter while loop.<br>\n",
    "Decrement i - 1, i = 16<br>\n",
    "16 < 3 * 6, will pass <code>if (i < 3 * j)</code> <br>\n",
    "Continue to loop\n",
    "\n",
    "16 >= 6, enter while loop.<br>\n",
    "Decrement i - 1, i = 15<br>\n",
    "15 < 3 * 6, will pass <code>if (i < 3 * j)</code> <br>\n",
    "Continue to loop\n",
    "\n",
    "15 >= 6, enter while loop.<br>\n",
    "Decrement i - 1, i = 14<br>\n",
    "14 < 3 * 6, will pass <code>if (i < 3 * j)</code> <br>\n",
    "Continue to loop\n",
    "\n",
    ".....i will continue to decrement by 1 in every loop.\n",
    "\n",
    "5 >= 6, will not enter while loop.<br>\n",
    "Print \"5\"\n",
    "\n",
    "Ans: 2 4 6 5"
   ]
  },
  {
   "cell_type": "markdown",
   "metadata": {},
   "source": [
    "H."
   ]
  },
  {
   "cell_type": "code",
   "execution_count": null,
   "metadata": {},
   "outputs": [],
   "source": [
    "int x = 0;\n",
    "int f(int *x) \n",
    "{\n",
    "    if (*x > 0) \n",
    "    { \n",
    "        *x = -*x;\n",
    "    } \n",
    "    else \n",
    "    {\n",
    "        *x += 2;\n",
    "    }\n",
    "    return *x; \n",
    "}\n",
    "     \n",
    "x = f(&x) + f(&x);\n",
    "printf(\"%d\", x);"
   ]
  },
  {
   "cell_type": "markdown",
   "metadata": {},
   "source": [
    "Initialize x = 0\n",
    "\n",
    "0.Call <code>f(&x)</code><br>\n",
    "    * x = 0, will not pass <code>If (* x > 0)</code>. Enter Else statement<br>\n",
    "    * x + 2 = 0 + 2 = 2, return 2\n",
    "    \n",
    "1.Call <code>f(&x)</code><br>\n",
    "    * x = 2, will pass <code>If (* x > 0)</code>.<br>\n",
    "    * x = - 2, return -2\n",
    "    \n",
    "x = 2 + (-2) = 0<br>\n",
    "Print\"0\"\n",
    "\n",
    "Ans: 0"
   ]
  },
  {
   "cell_type": "markdown",
   "metadata": {},
   "source": [
    " ### Question 2: Traffic Lights"
   ]
  },
  {
   "cell_type": "markdown",
   "metadata": {},
   "source": [
    "A traffic light has three states: green, amber and red. We can use an integer to represent the state of a traffic light using the values 0, 1, and 2, respectively."
   ]
  },
  {
   "cell_type": "markdown",
   "metadata": {},
   "source": [
    "**A.** Implement the function <code>void display(int light)</code> that takes as input a traffic light represented as an integer. The function prints the string <code>\"Green\"</code> , <code>\"Amber\"</code> or <code>\"Red\"</code> based on the value of the light."
   ]
  },
  {
   "cell_type": "code",
   "execution_count": null,
   "metadata": {},
   "outputs": [],
   "source": [
    "void display(int light) \n",
    "{\n",
    "    if (light == 0)\n",
    "    {\n",
    "        printf(\"Green\");\n",
    "    }\n",
    "    else if (light == 1)\n",
    "    {\n",
    "        printf(\"Amber\");\n",
    "    }\n",
    "    else\n",
    "    {\n",
    "        printf(\"Red\");\n",
    "    }\n",
    "}"
   ]
  },
  {
   "cell_type": "markdown",
   "metadata": {},
   "source": [
    "**B.** In Singapore, our traffic lights cycles from green, to amber, to red, then back to green. The function <code>change</code> takes as input a traffic light (which is an integer) and changes it to the next state.\n",
    "<br>Decide on the appropriate type and inputs of the function <code>change</code> and provide an im-\n",
    "plementation of it in C."
   ]
  },
  {
   "cell_type": "code",
   "execution_count": null,
   "metadata": {},
   "outputs": [],
   "source": [
    "void change(int *light) \n",
    "{\n",
    "    *light = (*light + 1) % 3;\n",
    "}"
   ]
  },
  {
   "cell_type": "markdown",
   "metadata": {},
   "source": [
    "**C.** We can consider one traffic light cycle to be a change from its current state to\n",
    "another, until it returns back to its starting state.<br>\n",
    "Suppose that a function <code>void wait(int secs)</code> has been defined which pauses the pro- gram execution for the given number of seconds. Implement a function <code>cycle</code> that takes as input a traffic light, and the timings between the states. The function changes and display the state of the traffic light with the appropriate pauses between the states for one cycle.<br><br>\n",
    "For example, if the light is currently green, the call <code>cycle(&light, 5, 20, 20)</code> will result in the following being printed (commented lines are not printed, but explains the behaviour):<br><br>\n",
    "Amber\n",
    "*// pause of 5 seconds*<br>\n",
    "Red\n",
    "*// pause of 20 seconds*<br>\n",
    "Green\n",
    "*// pause of 20 seconds*<br>\n",
    "\n",
    "Provide an implementation for the function <code>cycle</code> . Note that the value of the light has to change, and you should reuse the functions defined in the previous parts."
   ]
  },
  {
   "cell_type": "code",
   "execution_count": null,
   "metadata": {},
   "outputs": [],
   "source": [
    "void cycle(int *light, int d1, int d2, int d3) \n",
    "{\n",
    "    change(light);\n",
    "    display(*light);\n",
    "    wait(d1);\n",
    "    \n",
    "    change(light);\n",
    "    display(*light);\n",
    "    wait(d2);\n",
    "    \n",
    "    change(light);\n",
    "    display(*light);\n",
    "    wait(d3);\n",
    "}"
   ]
  },
  {
   "cell_type": "markdown",
   "metadata": {},
   "source": [
    "**D.** A particular traffic light cycles with the following timings: <br>\n",
    "\n",
    "| Cycle | Green | Amber | Red | Repeat |\n",
    "| :-: | :-: | :-: | :-: | :-: |\n",
    "|1 | 58s | 2s | 60s | 10 times |\n",
    "|2 | 38s | 2s | 90s | 5 times |\n",
    "|3 | 88s | 2s | 40s | 5 times |\n",
    "\n",
    "Basically, cycle 1 will repeat 10 times, followed by cycle 2 for 5 times then cycle 3 for 5 times. Then the entire cycle will repeat from cycle 1 again.<br><br>\n",
    "Complete the following code such that the program will print the state of this particular traffic light when it changes with the required pause between changes. E.g., starting at cycle 1, <code>\"Green\"</code> will be printed followed by <code>\"Amber\"</code> after pausing for 58 s, and <code>\"Red\"</code> after a pause of 2 s. The program should continue running indefinately, displaying the changes according to the stated schedule.<br><br>You are to reuse the functions defined in the previous parts."
   ]
  },
  {
   "cell_type": "code",
   "execution_count": null,
   "metadata": {},
   "outputs": [],
   "source": [
    "int main(void) \n",
    "{\n",
    "    int light = 0;\n",
    "    int i;\n",
    "    light = 2;\n",
    "\n",
    "    while (1) \n",
    "    { \n",
    "    // loop forever \n",
    "        // Cycle 1\n",
    "        for (i = 0; i < 10; ++i) \n",
    "        { \n",
    "            cycle(&light, 58, 2, 60);\n",
    "        }\n",
    "        // Cycle 2\n",
    "        for (i = 0; i < 5; ++i) \n",
    "        { \n",
    "            cycle(&light, 38, 2, 90);\n",
    "        }\n",
    "        // Cycle 3\n",
    "        for (i = 0; i < 5; ++i) \n",
    "        { \n",
    "            cycle(&light, 88, 2, 40);\n",
    "        } \n",
    "    }\n",
    "}"
   ]
  },
  {
   "cell_type": "markdown",
   "metadata": {},
   "source": [
    " ### Question 3: Tic Tac Toe"
   ]
  },
  {
   "cell_type": "markdown",
   "metadata": {},
   "source": [
    "Suppose we want to store the board state of a tic-tac-toe game, for example:<br>\n",
    "O | _ | O <br>\n",
    "O | X | _ <br>\n",
    "X | _ | X <br>\n",
    "We can use numbers 0, 1 and 2 to represents the markers _ (empty space),O and × respectively. Then, going by rows from top to bottom, the whole board can be represented by a 9-digit integer T . For example, T = 101120202 represents the game board above."
   ]
  },
  {
   "cell_type": "markdown",
   "metadata": {},
   "source": [
    "**A**. Draw the tic-tac-toe board represented by the T = 202012111."
   ]
  },
  {
   "cell_type": "markdown",
   "metadata": {},
   "source": [
    "X | _ | X<br>\n",
    "_ | O | X <br>\n",
    "O | O | O"
   ]
  },
  {
   "cell_type": "markdown",
   "metadata": {},
   "source": [
    "**B.** What is the smallest and largest possible value for T ? There is no need to consider whether the board can be the result of a actual game as long as each location has a valid marker."
   ]
  },
  {
   "cell_type": "markdown",
   "metadata": {},
   "source": [
    "Minimum = 0, Maximum = 222222222"
   ]
  },
  {
   "cell_type": "markdown",
   "metadata": {},
   "source": [
    "**C.** The representation is not very efficient in terms of storage space (i.e. it uses more bits then absolutely necessary). Briefly explain why."
   ]
  },
  {
   "cell_type": "markdown",
   "metadata": {},
   "source": [
    "The full range of decimal value is not utilized."
   ]
  },
  {
   "cell_type": "markdown",
   "metadata": {},
   "source": [
    "**D.** Use your understanding of number base, briefly suggest a more efficient way to represent the game state as a single number.<br>\n",
    "Use your scheme to represent the example game board given in the main question. You can leave the representation in any number base as long as you indicate the base clearly."
   ]
  },
  {
   "cell_type": "markdown",
   "metadata": {},
   "source": [
    "Simply use base 3.\n",
    "The game board is $T = 101120202_{3}$"
   ]
  },
  {
   "cell_type": "markdown",
   "metadata": {},
   "source": [
    "**E.** It turns out that the board represented in Part A is not a valid game. In a game of tic-tac-toe, the two players represented by O and ×, take alternating turns to fill an empty space with their mark. Assuming that × always goes first, there can never be more O than × and there can at most be 1 more × than O in a valid game board.<br><br>\n",
    "Implement the function <code>is_valid(int board)</code> which takes as input a game board using our representation given at the start of this question. The function returns <code>true</code> if the game board is valid based on the number of markers, and <code>false</code> otherwise.<br>\n",
    "\n",
    "| Function Call | Return Value |\n",
    "| :-: | :-: |\n",
    "|is_valid(202012111) | false |\n",
    "|is_valid(111222000) | true |\n",
    "|is_valid(210120020) | true |"
   ]
  },
  {
   "cell_type": "code",
   "execution_count": null,
   "metadata": {},
   "outputs": [],
   "source": [
    "#include <stdbool.h>\n",
    "\n",
    "bool is_valid(int board) \n",
    "{ \n",
    "    int x = 0, o = 0; \n",
    "    while (board > 0) \n",
    "    {\n",
    "        if (board % 10 == 1) \n",
    "        { \n",
    "            ++o;\n",
    "        } \n",
    "        else if (board % 10 == 2) \n",
    "        { \n",
    "            ++x;\n",
    "        }\n",
    "        board = board / 10;\n",
    "    }\n",
    "\n",
    "    return (x == o || x-o == 1);"
   ]
  },
  {
   "cell_type": "markdown",
   "metadata": {},
   "source": [
    "— END OF PAPER —"
   ]
  }
 ],
 "metadata": {
  "celltoolbar": "Raw Cell Format",
  "kernelspec": {
   "display_name": "C++11",
   "language": "C++11",
   "name": "xcpp11"
  },
  "language_info": {
   "codemirror_mode": "text/x-c++src",
   "file_extension": ".cpp",
   "mimetype": "text/x-c++src",
   "name": "c++",
   "version": "11"
  }
 },
 "nbformat": 4,
 "nbformat_minor": 4
}
