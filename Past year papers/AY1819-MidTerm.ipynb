{
 "cells": [
  {
   "cell_type": "markdown",
   "metadata": {},
   "source": [
    "<center>TIC1001—Introduction to Computing and Programming</center>\n",
    "<center>National University of Singapore</center>"
   ]
  },
  {
   "cell_type": "markdown",
   "metadata": {},
   "source": [
    "<center><h1>Midterm Test - AY18/19</h1></center>"
   ]
  },
  {
   "cell_type": "markdown",
   "metadata": {},
   "source": [
    " ### Question 1: C/C++ Expressions"
   ]
  },
  {
   "cell_type": "markdown",
   "metadata": {
    "raw_mimetype": "text/latex"
   },
   "source": [
    "There are several parts to this question which are to be answered independently and separately. Each part consists of a fragment of C/C++ code. Write the exact output produced by the code in the answer box. If an error occurs, or it enters an infinite loop, state and explain why.\n",
    "You may show workings outside the answer box in the space beside the code. Partial marks may be awarded for workings if the final answer is wrong.\n",
    "Assume that all appropriate preprocessor directives e.g., #include < iostream > , etc. have already been defined."
   ]
  },
  {
   "cell_type": "code",
   "execution_count": 1,
   "metadata": {},
   "outputs": [],
   "source": [
    "#include <iostream>\n",
    "using namespace std;"
   ]
  },
  {
   "cell_type": "markdown",
   "metadata": {},
   "source": [
    "A."
   ]
  },
  {
   "cell_type": "code",
   "execution_count": null,
   "metadata": {},
   "outputs": [],
   "source": [
    "int f(int x, int y) \n",
    "{ \n",
    "    x *= 10;\n",
    "    y += x;\n",
    "    return y; \n",
    "}\n",
    "\n",
    "int main() \n",
    "{\n",
    "    int x = 4, y = 7;\n",
    "    cout << f(f(y, x), y);\n",
    "}"
   ]
  },
  {
   "cell_type": "markdown",
   "metadata": {},
   "source": [
    "Initialize x = 4, y = 7\n",
    "\n",
    "0.\n",
    "Call f(x,y) -> f(7,4)\n",
    "\n",
    "x = 7 * 10 = 70\n",
    "\n",
    "y = 4 + 70 = 74\n",
    "\n",
    "return 74\n",
    "\n",
    "1.\n",
    "Call f(x,y) -> f(74,7)\n",
    "\n",
    "x = 74 * 10 = 740\n",
    "\n",
    "y = 7 + 740 = 747\n",
    "\n",
    "return 747\n",
    "\n",
    "Ans: 747"
   ]
  },
  {
   "cell_type": "markdown",
   "metadata": {},
   "source": [
    "B."
   ]
  },
  {
   "cell_type": "code",
   "execution_count": null,
   "metadata": {},
   "outputs": [],
   "source": [
    "int a = 10; \n",
    "\n",
    "if (a > 5)\n",
    "    cout << \"Here \";\n",
    "if (a % 5)\n",
    "    cout << \"we \";\n",
    "else if (a)\n",
    "    cout << \"go \";\n",
    "else\n",
    "    cout << \"again\";"
   ]
  },
  {
   "cell_type": "markdown",
   "metadata": {},
   "source": [
    "Initialize a = 10\n",
    "\n",
    "10 > 5, so will pass *if(a > 5)*\n",
    "\n",
    "Print \"Here\"\n",
    "\n",
    "10 % 5 = 0, so will not pass *if(a % 5)*\n",
    "\n",
    "Proceed to *else if (a)*\n",
    "\n",
    "Print \"go\"\n",
    "\n",
    "Ans: Here go"
   ]
  },
  {
   "cell_type": "markdown",
   "metadata": {},
   "source": [
    "C."
   ]
  },
  {
   "cell_type": "code",
   "execution_count": null,
   "metadata": {},
   "outputs": [],
   "source": [
    "for(int i = 10;i > 0;i -= 2)\n",
    "{ \n",
    "    cout << i << endl;\n",
    "    if (i % 4 == 0)\n",
    "        break;\n",
    "    if (i % 3 == 0) \n",
    "    { \n",
    "        i -= 3;\n",
    "        continue; \n",
    "    }\n",
    "    i += 1; \n",
    "}"
   ]
  },
  {
   "cell_type": "markdown",
   "metadata": {},
   "source": [
    "Initialize i = 10\n",
    "\n",
    "When i = 10,<br>\n",
    "<span style=\"color:green;\">Print \"10\\n\"</span><br>\n",
    "10 % 4 != 0, will not pass <code>if(i % 4 == 0)</code><br>\n",
    "10 % 3 != 0, will not pass <code>if(i % 3 == 0)</code><br>\n",
    "Increment i + 1 = 11<br>\n",
    "continue to loop, decrement i - 2, i = 9<br>\n",
    "\n",
    "When i = 9,<br>\n",
    "<span style=\"color:green;\">Print \"9\\n\"</span><br>\n",
    "9 % 4 != 0, will not pass <code>if(i % 4 == 0)</code><br>\n",
    "9 % 3 = 0, pass <code>if(i % 3 == 0)</code><br>\n",
    "Decrement i - 3, i = 6, continue to loop\n",
    "continue to loop, decrement i - 2, i = 4<br>\n",
    "\n",
    "When i = 4,<br>\n",
    "<span style=\"color:green;\">Print \"4\\n\"</span><br>\n",
    "4 % 4 = 0, will pass <code>if(i % 4 == 0)</code><br>\n",
    "Exit loop\n",
    "\n",
    "Ans: \n",
    "\n",
    "10<br>\n",
    "9<br>\n",
    "4"
   ]
  },
  {
   "cell_type": "markdown",
   "metadata": {},
   "source": [
    "# Question 2: Dates"
   ]
  },
  {
   "cell_type": "markdown",
   "metadata": {},
   "source": [
    "A Georgian calendar date can be presented as a 8-digit integer in the format YYYYMMDD, where YYYY is a 4-digit year, MM is a 2-digit month and DD a 2-digit day.\n",
    "\n",
    "For example, the date 4th October 2018 is represented as 20181004 ."
   ]
  },
  {
   "cell_type": "markdown",
   "metadata": {},
   "source": [
    "**A.** The function <code>int compare_dates(int d1, int d2)</code> takes two dates, *d1* and *d2* as inputs and compares them. It returns\n",
    "\n",
    "* a negative number (< 0) if *d1* is before *d2*, \n",
    "* a positive number (> 0) if *d1* is after *d2*,\n",
    "* zero (= 0) if *d1* and *d2* are the same dates.\n",
    "\n",
    "Provide an implementation for the function <code>compare>/code> ."
   ]
  },
  {
   "cell_type": "code",
   "execution_count": null,
   "metadata": {},
   "outputs": [],
   "source": [
    "int compare(int d1, int d2) \n",
    "{ \n",
    "    return d1 - d2;\n",
    "}"
   ]
  },
  {
   "cell_type": "markdown",
   "metadata": {},
   "source": [
    "**B.** The function int <code>get_num_days(int month, int year)</code> takes a month and year as inputs, and returns the number of days in a month. For example, <code>get_num_days(10, 2018)</code> will return the value 31 .\n",
    "\n",
    "Why does the function require both month and year as inputs?"
   ]
  },
  {
   "cell_type": "markdown",
   "metadata": {},
   "source": [
    "Ans: Because of leap years. February has 28 or 29 days depending on the given year."
   ]
  },
  {
   "cell_type": "markdown",
   "metadata": {},
   "source": [
    "**C.** The function void inc_date takes a date as input, and increments the date by one day.\n",
    "\n",
    "For example, the following code segment"
   ]
  },
  {
   "cell_type": "code",
   "execution_count": null,
   "metadata": {},
   "outputs": [],
   "source": [
    "int today = 20181004; \n",
    "\n",
    "inc_date(today);\n",
    "\n",
    "cout << today << endl;"
   ]
  },
  {
   "cell_type": "markdown",
   "metadata": {},
   "source": [
    "will display 20181005 .\n",
    "\n",
    "Provide an implementation for the function <code>inc_date</code>. You may assume that the function <code>get_num_days</code> described in part B is given and correct, and that the date input to the function is always a valid date."
   ]
  },
  {
   "cell_type": "code",
   "execution_count": null,
   "metadata": {},
   "outputs": [],
   "source": [
    "void inc_date(int &date) \n",
    "{ \n",
    "    date += 1;\n",
    "    int year = date / 10000;\n",
    "    int month = (date / 100) % 100; \n",
    "    int day = date % 100;\n",
    "    \n",
    "    // max days in current month\n",
    "    int m_days = get_num_days(month); \n",
    "    if (day > m_days) \n",
    "    {\n",
    "        day = 1;\n",
    "        month += 1;\n",
    "        if (month > 12) \n",
    "        {\n",
    "            month = 1;\n",
    "            year += 1; \n",
    "        }\n",
    "        // Update the date\n",
    "        date = year * 10000 + month * 100 + day; \n",
    "    }\n",
    "}"
   ]
  },
  {
   "cell_type": "markdown",
   "metadata": {},
   "source": [
    "**D.** The function <code>int num_days_between(int d1, int d2)</code> takes two dates as input, and returns the number of days between the dates.\n",
    "\n",
    "Provide an implementation for the function <code>num_days_between</code>. You may assume that *d1* is no later than *d2*, and may reuse any function previously defined in this question. "
   ]
  },
  {
   "cell_type": "code",
   "execution_count": null,
   "metadata": {},
   "outputs": [],
   "source": [
    "int num_days_between(int d1, int d2) \n",
    "{ \n",
    "    int days = 0;\n",
    "    while (d1 < d2) \n",
    "    { \n",
    "        inc_date(d1);\n",
    "        days += 1; \n",
    "    }\n",
    "    return days;\n",
    "}"
   ]
  },
  {
   "cell_type": "markdown",
   "metadata": {},
   "source": [
    "# Question 3: Computing Topics "
   ]
  },
  {
   "cell_type": "markdown",
   "metadata": {},
   "source": [
    "### A. Computer Organisation"
   ]
  },
  {
   "cell_type": "markdown",
   "metadata": {},
   "source": [
    "###### i. The major components of a computing device is connected by BUS.\n",
    "\n",
    "True.<br>\n",
    "Bus is the bridge between processor & memory. (Lecture03-pg44)"
   ]
  },
  {
   "cell_type": "markdown",
   "metadata": {},
   "source": [
    "##### ii. In modern laptops, the SSD (solid state drive) plays the role of the MEMORY.\n",
    "\n",
    "False. <br>\n",
    "Memory refers to RAM"
   ]
  },
  {
   "cell_type": "markdown",
   "metadata": {},
   "source": [
    "##### iii. The registers are storage inside the processor.\n",
    "\n",
    "True.<br>\n",
    "Bus is the bridge between processor & memory. (Lecture03-pg44)"
   ]
  },
  {
   "cell_type": "markdown",
   "metadata": {},
   "source": [
    "##### iv. The executable compiled by Visual Studio Code, e.g. \"task1.exe\" is stored in the HARDDISK.\n",
    "\n",
    "True."
   ]
  },
  {
   "cell_type": "markdown",
   "metadata": {},
   "source": [
    "### B. If you have a quadcore processor (i.e. 4-core), which of the following is TRUE?"
   ]
  },
  {
   "cell_type": "markdown",
   "metadata": {},
   "source": [
    "##### i. A program written for single-core processor can now run up to 4-time faster.\n",
    "\n",
    "False.<br>\n",
    "The program has to be written for multi core processor to utilize the computing power."
   ]
  },
  {
   "cell_type": "markdown",
   "metadata": {},
   "source": [
    "##### ii. If each of the core runs at 1 GHz (1 gigahertz), then the quadcore is running at 4 GHz.\n",
    "\n",
    "False<br>\n",
    "1GHz x 4 cores not equals to 4 GHz"
   ]
  },
  {
   "cell_type": "markdown",
   "metadata": {},
   "source": [
    "##### iii. There can be up to four program running at the same time on this processor.\n",
    "\n",
    "True."
   ]
  },
  {
   "cell_type": "markdown",
   "metadata": {},
   "source": [
    "##### iv. It is possible to get 4 times productivity (i.e. more work gets done) in the same amount of time on this processor.\n",
    "\n",
    "True."
   ]
  },
  {
   "cell_type": "markdown",
   "metadata": {},
   "source": [
    "### C.Which of the following regarding instruction execution is TRUE?"
   ]
  },
  {
   "cell_type": "markdown",
   "metadata": {},
   "source": [
    "##### i. Execution cycle of an instruction may take up to three memory accesses.\n",
    "\n",
    "True.<br>\n",
    "Fetch, get operands, store results."
   ]
  },
  {
   "cell_type": "markdown",
   "metadata": {},
   "source": [
    "##### ii. Memory instruction refers only to instruction that moves a value from memory to register.\n",
    "\n",
    "False<br>\n",
    "Also applies to instruction that moves a value from register to memory."
   ]
  },
  {
   "cell_type": "markdown",
   "metadata": {},
   "source": [
    "##### iii. Instruction and data are stored in the same region in memory.\n",
    "\n",
    "False."
   ]
  },
  {
   "cell_type": "markdown",
   "metadata": {},
   "source": [
    "##### iv. Store-memory concept refers to the idea of storing computation results in the memory.\n",
    "\n",
    "False.<br>\n",
    "Instruction and data are stored in memory."
   ]
  },
  {
   "cell_type": "markdown",
   "metadata": {},
   "source": [
    "# Question 4: Data Representation"
   ]
  },
  {
   "cell_type": "markdown",
   "metadata": {},
   "source": [
    "#### A. Which of the following is TRUE regarding the data storage in computer?"
   ]
  },
  {
   "cell_type": "markdown",
   "metadata": {},
   "source": [
    "##### i. On a 32-bit platform, each double variable in C/C++ needs 64 bit storage in memory.\n",
    "\n",
    "True.<br>\n",
    "For 32/64 bit platforms:<br>\n",
    "char: 1 byte / 1 byte<br>\n",
    "short: 2 bytes /2 bytes<br>\n",
    "int: 4 bytes / 4 bytes<br>\n",
    "long: 4 bytes / 8 bytes<br>\n",
    "long long: 8 bytes / 8 bytes<br>\n",
    "float: 4 bytes / 4 bytes<br>\n",
    "double: **8 bytes** / 8 bytes<br>\n",
    "long double: 16 bytes / 16 bytes\n",
    "\n",
    "*1 bytes = 8 bits*, so double needs 64bit."
   ]
  },
  {
   "cell_type": "markdown",
   "metadata": {},
   "source": [
    "##### ii. If a 4-byte word is used to store only non-negative values, then its range is $[0...2^{32} − 1]$\n",
    "\n",
    "True.<br>\n",
    "4 byte = 32 bit, range is $2^{32}$, -2,147,483,647 to 2,147,483,648<br>\n",
    "Sacrifice one bit to indicate whether the number is positive or negative, so the range becomes 2,147,483,647 ( $2^{32} - 1$)."
   ]
  },
  {
   "cell_type": "markdown",
   "metadata": {},
   "source": [
    "##### iii. Directly comparing floating point values / variables is not safe because of the overflowing problem.\n",
    "\n",
    "False.<br>\n",
    "Directly comparing floating point values / variables is not safe because of the inaccuracy."
   ]
  },
  {
   "cell_type": "markdown",
   "metadata": {},
   "source": [
    "##### iv. Computer can store either binary, octal (base-8) or hexadecimal (base-16) values in the actual hardware.\n",
    "\n",
    "False.<br>\n",
    "Computer can only store binary on the hardware level."
   ]
  },
  {
   "cell_type": "markdown",
   "metadata": {},
   "source": [
    "#### B.  Which of the following number base related statements is TRUE?"
   ]
  },
  {
   "cell_type": "markdown",
   "metadata": {},
   "source": [
    "##### i. The decimal number $58_{10}$ is $10_{58}$ in base-58.\n",
    "\n",
    "$58_{10}$ <br>\n",
    "= 58 % 58 = 1 R 0<br>\n",
    "= 1 % 58 = 0 R 1<br>\n",
    "= $10_{58}$, True"
   ]
  },
  {
   "cell_type": "markdown",
   "metadata": {},
   "source": [
    "##### ii. The decimal number $58_{10}$ is $110010_{2}$ in base-2.\n",
    "\n",
    "$58_{10}$ <br>\n",
    "= 58 % 2 = 29 R 0<br>\n",
    "= 29 % 2 = 14 R 1<br>\n",
    "= 14 % 2 = 7 R 0<br>\n",
    "= 7 % 2 = 3 R 1<br>\n",
    "= 3 % 2 = 1 R 1<br>\n",
    "= 1 % 2 = 0 R 1<br>\n",
    "= $111010_{2}$, False"
   ]
  },
  {
   "cell_type": "markdown",
   "metadata": {},
   "source": [
    "##### iii.The number $101111001_{2}$ is an odd number.\n",
    "\n",
    "Yes, $1 * 2^{0}$ will get an odd number, hence $101111001_{2}$ is an odd number."
   ]
  },
  {
   "cell_type": "markdown",
   "metadata": {},
   "source": [
    "##### iv. The hexadecimal number $B7_{16}$ is $267_{8}$ in base-8.\n",
    "\n",
    "Breaking down $B7_{16}$<br>\n",
    "$7_{16}$ = $7_{8}$<br>\n",
    "$B_{16}$ = $11 * 16^{1}$ = 176 = $26_{8}$<br>\n",
    "Hence, $267_{8}$, True"
   ]
  },
  {
   "cell_type": "markdown",
   "metadata": {},
   "source": [
    "— END OF PAPER —"
   ]
  }
 ],
 "metadata": {
  "celltoolbar": "Raw Cell Format",
  "kernelspec": {
   "display_name": "C++11",
   "language": "C++11",
   "name": "xcpp11"
  },
  "language_info": {
   "codemirror_mode": "text/x-c++src",
   "file_extension": ".cpp",
   "mimetype": "text/x-c++src",
   "name": "c++",
   "version": "11"
  }
 },
 "nbformat": 4,
 "nbformat_minor": 4
}
