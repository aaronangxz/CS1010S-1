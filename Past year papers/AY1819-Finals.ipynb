{
 "cells": [
  {
   "cell_type": "markdown",
   "metadata": {},
   "source": [
    "<center>TIC1001—Introduction to Computing and Programming</center>\n",
    "<center>National University of Singapore</center>"
   ]
  },
  {
   "cell_type": "markdown",
   "metadata": {},
   "source": [
    "<center><h1>Final Exam - AY18/19</h1></center>"
   ]
  },
  {
   "cell_type": "markdown",
   "metadata": {},
   "source": [
    " # Question 1: C/C++ Expressions"
   ]
  },
  {
   "cell_type": "markdown",
   "metadata": {
    "raw_mimetype": "text/latex"
   },
   "source": [
    "There are several parts to this question which are to be answered independently and separately. Each part consists of a fragment of C/C++ code. Write the exact output produced by the code in the answer box. If an error occurs, or it enters an infinite loop, state and explain why.\n",
    "You may show workings outside the answer box in the space beside the code. Partial marks may be awarded for workings if the final answer is wrong.\n",
    "Assume that all appropriate preprocessor directives e.g., #include < iostream > , etc. have already been defined."
   ]
  },
  {
   "cell_type": "code",
   "execution_count": null,
   "metadata": {},
   "outputs": [],
   "source": [
    "#include <iostream>\n",
    "using namespace std;"
   ]
  },
  {
   "cell_type": "markdown",
   "metadata": {},
   "source": [
    "A."
   ]
  },
  {
   "cell_type": "code",
   "execution_count": null,
   "metadata": {},
   "outputs": [],
   "source": [
    "string s = \"hippo\";\n",
    "\n",
    "string t = s;\n",
    "\n",
    "for (int i = 0; i < 5; i++)\n",
    "    t[i] = s[4-i];\n",
    "\n",
    "cout << (s + t) << endl;"
   ]
  },
  {
   "cell_type": "markdown",
   "metadata": {},
   "source": [
    "i = 0,<br>\n",
    "t[0] = s[4-0]<br>\n",
    "s: hipp**o** , t: **o**ippo\n",
    "\n",
    "i = 1,<br>\n",
    "t[1] = s[4-1]<br>\n",
    "s: hip**p**o , t: o**p**ppo\n",
    "\n",
    "i = 2,<br>\n",
    "t[2] = s[4-2]<br>\n",
    "s: hi**p**po , t: op**p**po\n",
    "\n",
    "i = 3,<br>\n",
    "t[3] = s[4-3]<br>\n",
    "s: h**i**ppo , t: opp**i**o\n",
    "\n",
    "i = 4,<br>\n",
    "t[4] = s[4-4]<br>\n",
    "s: **h**ippo , t: oppi**h**\n",
    "\n",
    "Output: \"hippooppih\""
   ]
  },
  {
   "cell_type": "markdown",
   "metadata": {},
   "source": [
    "B."
   ]
  },
  {
   "cell_type": "code",
   "execution_count": null,
   "metadata": {},
   "outputs": [],
   "source": [
    "int i = 10;\n",
    "\n",
    "while (true) \n",
    "{\n",
    "    cout << i << \" \";\n",
    "    if (i > 5) i -= 2;\n",
    "    if (i % 3) \n",
    "    { \n",
    "        i += 1; \n",
    "        continue; \n",
    "    }\n",
    "    else break;\n",
    "}"
   ]
  },
  {
   "cell_type": "markdown",
   "metadata": {},
   "source": [
    "i = 10, **cout: 10**<br>\n",
    "i > 5, i -= 2 = 8<br>\n",
    "i % 3 = 2, i += 1 = 9<br>\n",
    "\n",
    "i = 9, **cout: 9**<br>\n",
    "i > 5, i -= 2 = 7<br>\n",
    "i % 3 = 1, i += 1 = 8<br>\n",
    "\n",
    "i = 8, **cout: 8**<br>\n",
    "i > 5, i -=2 = 6<br>\n",
    "i % 3 = 0<br>\n",
    "Break, exit from loop.<br>\n",
    "\n",
    "Output: 10 9 8"
   ]
  },
  {
   "cell_type": "markdown",
   "metadata": {},
   "source": [
    "C."
   ]
  },
  {
   "cell_type": "code",
   "execution_count": null,
   "metadata": {},
   "outputs": [],
   "source": [
    "double f(int x) \n",
    "{\n",
    "    return x/2;\n",
    "}\n",
    "\n",
    "int main() \n",
    "{\n",
    "    double d = 15;\n",
    "    cout << f(d/2)/2;\n",
    "}"
   ]
  },
  {
   "cell_type": "markdown",
   "metadata": {},
   "source": [
    "Initialize<br>\n",
    "d = 15\n",
    "\n",
    "f(15/2)/2<br>\n",
    "Since d is double, so f(7.5)/2\n",
    "\n",
    "However <code>double f(int x)</code> takes in integer and outputs double, so<br>\n",
    "Compute 7/2 in integer = 3, then return as double 3.00\n",
    "\n",
    "Cout 3.00/2, which is 1.5\n",
    "\n",
    "Ans: 1.5"
   ]
  },
  {
   "cell_type": "markdown",
   "metadata": {},
   "source": [
    "D."
   ]
  },
  {
   "cell_type": "code",
   "execution_count": null,
   "metadata": {},
   "outputs": [],
   "source": [
    "int &swap(int &a, int &b) \n",
    "{\n",
    "    a = b;\n",
    "    b = a;\n",
    "    return a;\n",
    "}\n",
    "\n",
    "int main() \n",
    "{\n",
    "    int x = 1, y = 2;\n",
    "    int &z = swap(x, y);\n",
    "    z = 3;\n",
    "    printf(\"%d,%d,%d\", x, y, z);\n",
    "}"
   ]
  },
  {
   "cell_type": "markdown",
   "metadata": {},
   "source": [
    "Initialize<br>\n",
    "x = 1, y = 2<br>\n",
    "\n",
    "<code>swap(&x,&y)</code>,<br>\n",
    "x = 2, y = 2.<br>\n",
    "Return **a** which is the reference to x, which is &x.<br>\n",
    "&z is now &x, i.e. z and x now shares the *same memory address*.<br>\n",
    "\n",
    "Update z to 3, x will also be updated to 3.\n",
    "\n",
    "Output: 3,2,3"
   ]
  },
  {
   "cell_type": "markdown",
   "metadata": {},
   "source": [
    "E."
   ]
  },
  {
   "cell_type": "code",
   "execution_count": null,
   "metadata": {},
   "outputs": [],
   "source": [
    "int foo(int n) \n",
    "{\n",
    "    switch (n) \n",
    "    {\n",
    "        case 0:\n",
    "            n += 1;\n",
    "        case 2:\n",
    "            return n/2;\n",
    "        case 1:\n",
    "            n += 3;\n",
    "            break;\n",
    "        default:\n",
    "            n -= 1;\n",
    "    }\n",
    "    return n*2;\n",
    "}\n",
    "\n",
    "int main() \n",
    "{\n",
    "    cout << foo(0) << endl;\n",
    "    cout << foo(2) << endl;\n",
    "    cout << foo(4) << endl;\n",
    "}"
   ]
  },
  {
   "cell_type": "markdown",
   "metadata": {},
   "source": [
    "**foo(0)**<br>\n",
    "Case 0, <br>\n",
    "n += 1 = 1, continue<br>\n",
    "Case 2,<br>\n",
    "return 1/2 = 0<br>\n",
    "cout: 0\n",
    "\n",
    "**foo(2)**<br>\n",
    "Case 2,<br>\n",
    "return 2/2 = 1<br>\n",
    "cout: 1\n",
    "\n",
    "**foo(4)**<br>\n",
    "Default Case,<br>\n",
    "n -= 1 = 3<br>\n",
    "return 3 * 2 = 6<br>\n",
    "cout: 6\n",
    "\n",
    "Output:<br>\n",
    "0<br>\n",
    "1<br>\n",
    "6"
   ]
  },
  {
   "cell_type": "markdown",
   "metadata": {},
   "source": [
    "# Question 2: Mystery Boxes"
   ]
  },
  {
   "cell_type": "markdown",
   "metadata": {},
   "source": [
    "In a game of Mystery Boxes, contestants are given a sequence of boxes, each containing either\n",
    "a positive or negative cash amount. For every box that the contestant opens, the amount of\n",
    "cash will be added to the contestant’s current total (a negative amount will result in the total\n",
    "decreasing). Contestants can decide at any time to stop opening boxes and walk away with the\n",
    "current total as their winnings.\n",
    "Contestants start with \\\\$0 and the game ends if the current total reaches below \\\\$0 and the\n",
    "contestant will be forced to leave the game with no winnings.\n",
    "The function <code>int open_box()</code> simulates the contestant opening a box and returns the cash\n",
    "amount contained in the box. You may assume it is provided."
   ]
  },
  {
   "cell_type": "markdown",
   "metadata": {},
   "source": [
    "## A."
   ]
  },
  {
   "cell_type": "markdown",
   "metadata": {},
   "source": [
    "Suppose there are unlimited number of boxes to open and the contestant simply opens\n",
    "boxes until his winnings falls below zero and he is forced to end. Implement a function\n",
    "<code> int num_boxes() </code> that takes no inputs and returns the total number of boxes that the contestant\n",
    "had opened."
   ]
  },
  {
   "cell_type": "code",
   "execution_count": null,
   "metadata": {},
   "outputs": [],
   "source": [
    "int num_boxes()\n",
    "{\n",
    "    int total = 0, count = 0;\n",
    "    while( total >= 0)\n",
    "    {\n",
    "        total += open_box();\n",
    "        count ++;\n",
    "    }\n",
    "    return count;\n",
    "}"
   ]
  },
  {
   "cell_type": "markdown",
   "metadata": {},
   "source": [
    "## B."
   ]
  },
  {
   "cell_type": "markdown",
   "metadata": {},
   "source": [
    "Hindsight is 20/20. Implement a function <code>int max_winnings()</code> that takes no input, and\n",
    "returns the theoretical maximum winnings the contestant would have won had he chosen to\n",
    "stop at the correct time."
   ]
  },
  {
   "cell_type": "code",
   "execution_count": null,
   "metadata": {},
   "outputs": [],
   "source": [
    "int max_winnings()\n",
    "{\n",
    "    int total = 0, max = 0;\n",
    "    while (total >= 0)\n",
    "    {\n",
    "        total += open_box();\n",
    "        if (max > total) max = total;\n",
    "    }\n",
    "    return max;\n",
    "}"
   ]
  },
  {
   "cell_type": "markdown",
   "metadata": {},
   "source": [
    "## C."
   ]
  },
  {
   "cell_type": "markdown",
   "metadata": {},
   "source": [
    "Suppose a contestant wants to open n boxes. He might not be able to do so if the game\n",
    "ends too early. If the rules now allow him to start with some amount of money, he will be able\n",
    "to make it to open the nth box.\n",
    "Implement the function <code>int start_amt(int n)</code> that takes the number of boxes to be opened\n",
    "as the input, and returns the minimum starting amount of money that is required to open at least\n",
    "n boxes."
   ]
  },
  {
   "cell_type": "code",
   "execution_count": null,
   "metadata": {},
   "outputs": [],
   "source": [
    "double cost(double surcharge, int weight) \n",
    "{\n",
    "    int total = 0, min = 0;\n",
    "    for(int i = 0; i < n; i++)\n",
    "    {\n",
    "        total += open_box();\n",
    "        if(total < min) min = total;\n",
    "    }\n",
    "    return -min;\n",
    "}"
   ]
  },
  {
   "cell_type": "markdown",
   "metadata": {},
   "source": [
    "# Question 3: Treasure Hunt"
   ]
  },
  {
   "cell_type": "markdown",
   "metadata": {},
   "source": [
    "Captain Spack Jarrow is looking for treasure buried along a beach. Digging at any spot on the\n",
    "beach will reveal a clue which indicates how many steps forwards or backwards to dig next,\n",
    "which may reveal more of such clues or hopefully, the treasure!\n",
    "We can model the beach as a vector of integers, which each element being the clue, i.e., the\n",
    "number of steps to move forwards or backwards. Positive integers indicate steps forward while\n",
    "negative integers indicate steps backwards. Zero (0) will indicate the treasure!\n",
    "Now the beach is on an island and loops around on itself endlessly. Thus, the vector representation\n",
    "of the beach wraps around, i.e., taking a step off either ends will bring you to the opposing\n",
    "end. For example, consider a model of the beach shown below:"
   ]
  },
  {
   "cell_type": "code",
   "execution_count": 13,
   "metadata": {
    "jupyter": {
     "source_hidden": true
    }
   },
   "outputs": [],
   "source": [
    "from IPython.display import Image "
   ]
  },
  {
   "attachments": {
    "972406f7-653e-4dd8-b9b2-8250050ffd79.png": {
     "image/png": "[encoded data removed]"
    }
   },
   "cell_type": "markdown",
   "metadata": {},
   "source": [
    "![Screenshot 2020-11-28 225713.png](attachment:972406f7-653e-4dd8-b9b2-8250050ffd79.png)"
   ]
  },
  {
   "cell_type": "markdown",
   "metadata": {},
   "source": [
    "If Spack starts digging at index 1, he will get a clue to move 7 steps forward (to the right).\n",
    "Digging there will result in going 6 spaces forward, wrapping around to index 3, followed by 3\n",
    "steps forward, and finally 2 steps backward to find the treasure, after a total of 5 digs."
   ]
  },
  {
   "cell_type": "markdown",
   "metadata": {},
   "source": [
    "## A."
   ]
  },
  {
   "cell_type": "markdown",
   "metadata": {},
   "source": [
    "Implement the function <code>int num_digs(vector<int> beach, int start)</code> , that takes\n",
    "a vector of int that models the beach, and the starting index as inputs. It returns the number\n",
    "of times that Spack must dig before uncovering the treasure. You may assume that the starting\n",
    "index will always eventually lead to the treasure."
   ]
  },
  {
   "cell_type": "code",
   "execution_count": null,
   "metadata": {},
   "outputs": [],
   "source": [
    "int num_digs(vector<int> beach, int start)\n",
    "{\n",
    "    int num = 1;\n",
    "    while(beach[i] != 0)\n",
    "    {\n",
    "        num ++;\n",
    "        start = (start + beach[start] + beach.size()) % beach.size();\n",
    "    }\n",
    "    return digs;\n",
    "}"
   ]
  },
  {
   "cell_type": "markdown",
   "metadata": {},
   "source": [
    "## B."
   ]
  },
  {
   "cell_type": "markdown",
   "metadata": {},
   "source": [
    "Now it might be possible that the treasure will never be found. For example, if Spack\n",
    "started at index 0 in the example above, he will never find the treasure.\n",
    "Without creating any new strings, arrays or vectors, how would you modify your implementation\n",
    "of <code>num_digs</code> such that it returns -1 if the treasure will never be found? You may either\n",
    "describe in words or rewrite the function."
   ]
  },
  {
   "cell_type": "code",
   "execution_count": null,
   "metadata": {},
   "outputs": [],
   "source": [
    "int num_digs(vector<int> beach, int start)\n",
    "{\n",
    "    int num = 1;\n",
    "    while(beach[i] != 0)\n",
    "    {\n",
    "        if(num > beach.size()) return -1;\n",
    "        num ++;\n",
    "        start = (start + beach[start] + beach.size()) % beach.size();\n",
    "    }\n",
    "    return digs;\n",
    "}"
   ]
  },
  {
   "cell_type": "markdown",
   "metadata": {},
   "source": [
    "## C."
   ]
  },
  {
   "cell_type": "markdown",
   "metadata": {},
   "source": [
    "Implement the function <code>double avg_digs(vector<int> beach)</code> that takes a vector of\n",
    "int that models the beach as input, and returns the expected (or average) number of digs Spack\n",
    "will take if he started at any random index. Assume that every starting index will lead to the\n",
    "treasure."
   ]
  },
  {
   "cell_type": "code",
   "execution_count": null,
   "metadata": {},
   "outputs": [],
   "source": [
    "double avg_digs(vector<int> beach) \n",
    "{\n",
    "    int total = 0;\n",
    "    for (int i = 0; i < beach.size(); i++) \n",
    "    {\n",
    "        total += num_digs(beach, i);\n",
    "    }\n",
    "    return (double)total / beach.size();\n",
    "}"
   ]
  },
  {
   "cell_type": "markdown",
   "metadata": {},
   "source": [
    "# Question 5: Computer Organization & Data Representation"
   ]
  },
  {
   "cell_type": "markdown",
   "metadata": {},
   "source": [
    "### Answer all parts in this question with 1–2 words or one number. Please write your answer clearly."
   ]
  },
  {
   "cell_type": "markdown",
   "metadata": {},
   "source": [
    "#### A. If a 24-bit (i.e. 3-byte) RGB value is given as  $1A2B3C_{16}$ , what is the value for Green color in base 10?"
   ]
  },
  {
   "cell_type": "markdown",
   "metadata": {},
   "source": [
    "Each colour can be splitted into:\n",
    "\n",
    "R: $1A_{16}$<br>\n",
    "G: $2B_{16}$<br>\n",
    "B: $3C_{16}$<br>\n",
    "\n",
    "Hence, Green = $2B_{16}$ =  $2 * 16^{1} + 11 * 16^{0}$ = 43"
   ]
  },
  {
   "cell_type": "markdown",
   "metadata": {},
   "source": [
    "#### B.The GCC/G++ compiler suite actually contain multiple sub-components. Typically a user program pass through the sub-components in the following order:"
   ]
  },
  {
   "cell_type": "markdown",
   "metadata": {},
   "source": [
    "Compiler -> Assembler -> Linker"
   ]
  },
  {
   "cell_type": "markdown",
   "metadata": {},
   "source": [
    "#### C. A high level language instruction like i = i+1; may be separated in the following processor instructions:"
   ]
  },
  {
   "cell_type": "markdown",
   "metadata": {},
   "source": [
    "1. Load i from memory into Register R\n",
    "2. add R by 1\n",
    "3. store R back into memory"
   ]
  },
  {
   "cell_type": "markdown",
   "metadata": {},
   "source": [
    "# Question 6: Cache & Operating System"
   ]
  },
  {
   "cell_type": "markdown",
   "metadata": {},
   "source": [
    "Answer all parts in this question with one word or one number. Please write your answer clearly."
   ]
  },
  {
   "cell_type": "markdown",
   "metadata": {},
   "source": [
    "### A. Evaluate whether the following statements are true or false."
   ]
  },
  {
   "cell_type": "markdown",
   "metadata": {},
   "source": [
    "i) \"With multi-tasking, there are more than one process executing on the processor (single core) at any point in time.\""
   ]
  },
  {
   "cell_type": "markdown",
   "metadata": {},
   "source": [
    "False"
   ]
  },
  {
   "cell_type": "markdown",
   "metadata": {},
   "source": [
    "ii) \"With multi-tasking, there are more than one process residing in the memory (RAM) at any point in time.\""
   ]
  },
  {
   "cell_type": "markdown",
   "metadata": {},
   "source": [
    "True"
   ]
  },
  {
   "cell_type": "markdown",
   "metadata": {},
   "source": [
    "### B. In modern computer systems, information (e.g. data, instruction) may pass through the following storage during execution:"
   ]
  },
  {
   "cell_type": "markdown",
   "metadata": {},
   "source": [
    "Hard Disk -> RAM -> Cache -> Register\n",
    "\n",
    "(From large to small)"
   ]
  },
  {
   "cell_type": "markdown",
   "metadata": {},
   "source": [
    "### C. Given the following memory block accesses:"
   ]
  },
  {
   "cell_type": "markdown",
   "metadata": {},
   "source": [
    "#### 7, 2, 2, 23, 7, 16, 23, 16"
   ]
  },
  {
   "cell_type": "markdown",
   "metadata": {},
   "source": [
    "Give the number of cache misses with the following cache configuration."
   ]
  },
  {
   "cell_type": "markdown",
   "metadata": {},
   "source": [
    "#### i) Fully Associative Cache with two cache blocks. The oldest block is replaced when necessary"
   ]
  },
  {
   "cell_type": "markdown",
   "metadata": {},
   "source": [
    "Block 0 is less recently used, Block 1 is more recently used\n",
    "\n",
    "| 0 | 1 | Misses | Notes |\n",
    "| :-: | :-: | :-: | :-: |\n",
    "|**7**||1| Allocate block |\n",
    "|7|**2**|1| Allocate block |\n",
    "|7|2||Matched 2, 2 is most recently used |\n",
    "|**23**|2|1| Allocate 23 |\n",
    "|23|**7**|1|Allocate 7 |\n",
    "|**16**|7|1| Allocate 16 |\n",
    "|16|**23**|1|Allocate 23 |\n",
    "|23|16|| Matched 16, 16 is most recently used |\n",
    "\n",
    "Ans: 6 misses"
   ]
  },
  {
   "cell_type": "markdown",
   "metadata": {},
   "source": [
    "#### ii) Direct Map Cache with two cache blocks."
   ]
  },
  {
   "cell_type": "markdown",
   "metadata": {},
   "source": [
    "Block 0 is less recently used, Block 1 is more recently used\n",
    "\n",
    "| 0 | 1 | Misses | Notes |\n",
    "| :-: | :-: | :-: | :-: |\n",
    "||**7**|1| 7 % 2 = 1 |\n",
    "|**2**|7|1| 2 % 2 = 0 |\n",
    "|2|7||Matched 2|\n",
    "|2|**23**|1|23 % 2 = 1|\n",
    "|2|**7**|1|7 % 2 = 1|\n",
    "|**16**|7|1|16 % 2 = 0|\n",
    "|16|**23**|1|23 % 2 = 1|\n",
    "|**16**|23|| Matched 16|\n",
    "\n",
    "Ans: 6 misses"
   ]
  },
  {
   "cell_type": "markdown",
   "metadata": {},
   "source": [
    "# Question 7: Database"
   ]
  },
  {
   "cell_type": "markdown",
   "metadata": {},
   "source": [
    "### A .Evaluate whether the following statements are true or false."
   ]
  },
  {
   "cell_type": "markdown",
   "metadata": {},
   "source": [
    "#### i. \"Atomicity means multiple transactions can be handled properly.\""
   ]
  },
  {
   "cell_type": "markdown",
   "metadata": {},
   "source": [
    "False"
   ]
  },
  {
   "cell_type": "markdown",
   "metadata": {},
   "source": [
    "#### ii. \"If the end result of executing multiple database transactions concurrently is not the same as a particular sequential execution of those same transactions, then that database violates the isolation property.\""
   ]
  },
  {
   "cell_type": "markdown",
   "metadata": {},
   "source": [
    "False"
   ]
  },
  {
   "cell_type": "markdown",
   "metadata": {},
   "source": [
    "#### C. Suppose we have a database table created for car in the Singapore market using the following SQL statement:"
   ]
  },
  {
   "cell_type": "code",
   "execution_count": null,
   "metadata": {},
   "outputs": [],
   "source": [
    "CREATE TABLE Car (Model varchar(40),\n",
    "                        Brand varchar(20),\n",
    "                              EngineCC int, HorsePower int, Price float);"
   ]
  },
  {
   "cell_type": "markdown",
   "metadata": {},
   "source": [
    "##### Complete the following SQL queries according to the given description:"
   ]
  },
  {
   "cell_type": "markdown",
   "metadata": {},
   "source": [
    "i) List all Category A car for the “Hyundai” brand. According to LTA’s definition, Category A cars’ “engine capacity should not exceed 1,600 cc” and “engine power should not exceed 130 horse-power”."
   ]
  },
  {
   "cell_type": "code",
   "execution_count": null,
   "metadata": {},
   "outputs": [],
   "source": [
    "SELECT *\n",
    "FROM Car\n",
    "WHERE Brand=\"Hyundai\"\n",
    "  AND EngineCC <= 1600\n",
    "  AND HorsePower <= 130;"
   ]
  },
  {
   "cell_type": "markdown",
   "metadata": {},
   "source": [
    "ii) List Category B cars in ascending order according to price. Cars that failed Category A criteria are classified as category B cars."
   ]
  },
  {
   "cell_type": "code",
   "execution_count": null,
   "metadata": {},
   "outputs": [],
   "source": [
    "SELECT *\n",
    "FROM Car\n",
    "WHERE EngineCC > 1600\n",
    "  AND HorsePower > 130\n",
    "ORDER BY Price ASC;"
   ]
  },
  {
   "cell_type": "markdown",
   "metadata": {},
   "source": [
    "— END OF PAPER —"
   ]
  }
 ],
 "metadata": {
  "celltoolbar": "Raw Cell Format",
  "kernelspec": {
   "display_name": "Python 3",
   "language": "python",
   "name": "python3"
  },
  "language_info": {
   "codemirror_mode": {
    "name": "ipython",
    "version": 3
   },
   "file_extension": ".py",
   "mimetype": "text/x-python",
   "name": "python",
   "nbconvert_exporter": "python",
   "pygments_lexer": "ipython3",
   "version": "3.7.8"
  }
 },
 "nbformat": 4,
 "nbformat_minor": 4
}
