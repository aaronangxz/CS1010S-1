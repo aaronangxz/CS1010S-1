{
 "cells": [
  {
   "cell_type": "markdown",
   "metadata": {},
   "source": [
    "<center>TIC1001—Introduction to Computing and Programming</center>\n",
    "<center>National University of Singapore</center>"
   ]
  },
  {
   "cell_type": "markdown",
   "metadata": {},
   "source": [
    "<center><h1>Midterm Test - AY19/20</h1></center>"
   ]
  },
  {
   "cell_type": "markdown",
   "metadata": {},
   "source": [
    " ### Question 1: C/C++ Expressions"
   ]
  },
  {
   "cell_type": "markdown",
   "metadata": {
    "raw_mimetype": "text/latex"
   },
   "source": [
    "There are several parts to this question which are to be answered independently and separately. Each part consists of a fragment of C/C++ code. Write the exact output produced by the code in the answer box. If an error occurs, or it enters an infinite loop, state and explain why.\n",
    "You may show workings outside the answer box in the space beside the code. Partial marks may be awarded for workings if the final answer is wrong.\n",
    "Assume that all appropriate preprocessor directives e.g., #include < iostream > , etc. have already been defined."
   ]
  },
  {
   "cell_type": "code",
   "execution_count": 1,
   "metadata": {},
   "outputs": [],
   "source": [
    "#include <iostream>\n",
    "using namespace std;"
   ]
  },
  {
   "cell_type": "markdown",
   "metadata": {},
   "source": [
    "A."
   ]
  },
  {
   "cell_type": "code",
   "execution_count": 2,
   "metadata": {},
   "outputs": [
    {
     "name": "stdout",
     "output_type": "stream",
     "text": [
      "5.4\n"
     ]
    }
   ],
   "source": [
    "double f(int x, double y) \n",
    "{ \n",
    "    x = (int)(x / y);\n",
    "    return x * y; \n",
    "}\n",
    "\n",
    "    int x = 10;\n",
    "    double y = 2.7;\n",
    "    cout << f(f(x, y), y) << endl;"
   ]
  },
  {
   "cell_type": "markdown",
   "metadata": {},
   "source": [
    "Initialize x = 10, y = 2.7\n",
    "\n",
    "Call f(x,y) -> f(10,2.7)\n",
    "x = (int)(10/2.7) = (int)3.7 = 3\n",
    "return 3 * 2.7 = 8.1\n",
    "\n",
    "Call f(x,y) -> f(8.1,2.7)\n",
    "x = (int)(8/2.7) = (int)2.96 = 2\n",
    "return 2 * 2.7 = 5.4\n",
    "\n",
    "Ans: 5.4"
   ]
  },
  {
   "cell_type": "markdown",
   "metadata": {},
   "source": [
    "B."
   ]
  },
  {
   "cell_type": "code",
   "execution_count": 3,
   "metadata": {},
   "outputs": [
    {
     "name": "stdout",
     "output_type": "stream",
     "text": [
      "of both "
     ]
    }
   ],
   "source": [
    "int a = 42;\n",
    "\n",
    "if (a % 7) // Note the lack of braces\n",
    "    cout << \"Best \";\n",
    "    a /= 7; \n",
    "if (a < 7)\n",
    "    cout << \"of \"; \n",
    "if (a)\n",
    "    cout << \"both \";\n",
    "else\n",
    "    cout << \"worlds\";"
   ]
  },
  {
   "cell_type": "markdown",
   "metadata": {},
   "source": [
    "Initialize a = 42\n",
    "\n",
    "42 % 7 = 0, so will not pass *if(a%7)*\n",
    "\n",
    "Since there are no braces, a/=7 -> 42/7 = 6\n",
    "\n",
    "6 < 7, so will pass *if(a<7)*\n",
    "\n",
    "Print \"of\"\n",
    "\n",
    "a = 6, so will pass *if(a)* ***Boolean true as long as != 0**\n",
    "\n",
    "Print \"both\"\n",
    "\n",
    "Ans: of both\n"
   ]
  },
  {
   "cell_type": "markdown",
   "metadata": {},
   "source": [
    "C."
   ]
  },
  {
   "cell_type": "code",
   "execution_count": 4,
   "metadata": {},
   "outputs": [
    {
     "name": "stdout",
     "output_type": "stream",
     "text": [
      "0,2,4,6,8,0,2\n"
     ]
    }
   ],
   "source": [
    "int i = 0,j = 0;\n",
    "\n",
    "for (int i = 0; i < 10; i += 2) \n",
    "{\n",
    "    printf(\"%d,\", i); \n",
    "    if (i % 3) \n",
    "    {\n",
    "        continue;\n",
    "    } \n",
    "    else if (i < j) \n",
    "    {\n",
    "        break; \n",
    "    } \n",
    "    else \n",
    "    {\n",
    "        j += 1; \n",
    "    }\n",
    "}\n",
    "    printf(\"%d,%d\\n\", i, j);"
   ]
  },
  {
   "cell_type": "markdown",
   "metadata": {},
   "source": [
    "Initialize i = 0, j = 0\n",
    "\n",
    "When i = 0,<br>\n",
    "<span style=\"color:green;\">Print \"0,\"</span><br>\n",
    "0 % 3 = 0, will not pass <code>if(i % 3)</code><br>\n",
    "0 is not < j = 0, will not pass <code>else if(i < j)</code><br>\n",
    "increment j + 1, j = 1<br>\n",
    "continue to loop, increment i + 2, i = 2<br>\n",
    "\n",
    "When i = 2,<br>\n",
    "<span style=\"color:green;\">Print \"2,\"</span><br>\n",
    "2 % 3 != 0, will pass <code>if(i % 3)</code><br>\n",
    "continue to loop, increment i + 2, i = 4<br>\n",
    "\n",
    "When i = 4,<br>\n",
    "<span style=\"color:green;\">Print \"4,\"</span><br>\n",
    "4 % 3 != 0,will pass <code>if(i % 3)</code><br>\n",
    "continue to loop, increment i+2, i = 6<br>\n",
    "\n",
    "When i = 6,<br>\n",
    "<span style=\"color:green;\">Print \"6,\"</span><br>\n",
    "6 % 3 = 0, will not pass <code>if(i % 3)</code><br>\n",
    "6 is not < j = 1, will not pass <code>else if(i < j)</code><br>\n",
    "increment j + 1,j = <span style=\"color:red;\">2</span><br>\n",
    "continue to loop, increment i + 2, i = 8<br>\n",
    "\n",
    "When i = 8,<br>\n",
    "<span style=\"color:green;\">Print \"8,\"</span><br>\n",
    "8 % 3 != 0, will pass <code>if(i % 3)</code><br>\n",
    "continue to loop, increment i + 2, i =10<br>\n",
    "\n",
    "When i = 10, exit loop.<br>\n",
    "\n",
    "As i is still 0 in <code>main</code>, and j is 2<br>\n",
    "<span style=\"color:green;\">Print \"0,2\"</span><br>\n",
    "\n",
    "Ans: 0,2,4,6,8,0,2"
   ]
  },
  {
   "cell_type": "code",
   "execution_count": null,
   "metadata": {},
   "outputs": [],
   "source": []
  }
 ],
 "metadata": {
  "celltoolbar": "Raw Cell Format",
  "kernelspec": {
   "display_name": "C++11",
   "language": "C++11",
   "name": "xcpp11"
  },
  "language_info": {
   "codemirror_mode": "text/x-c++src",
   "file_extension": ".cpp",
   "mimetype": "text/x-c++src",
   "name": "c++",
   "version": "11"
  }
 },
 "nbformat": 4,
 "nbformat_minor": 4
}
