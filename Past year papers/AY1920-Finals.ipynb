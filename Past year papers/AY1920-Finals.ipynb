{
 "cells": [
  {
   "cell_type": "markdown",
   "metadata": {},
   "source": [
    "<center>TIC1001—Introduction to Computing and Programming</center>\n",
    "<center>National University of Singapore</center>"
   ]
  },
  {
   "cell_type": "markdown",
   "metadata": {},
   "source": [
    "<center><h1>Final Exam - AY19/20</h1></center>"
   ]
  },
  {
   "cell_type": "markdown",
   "metadata": {},
   "source": [
    " # Question 1: C/C++ Expressions"
   ]
  },
  {
   "cell_type": "markdown",
   "metadata": {
    "raw_mimetype": "text/latex"
   },
   "source": [
    "There are several parts to this question which are to be answered independently and separately. Each part consists of a fragment of C/C++ code. Write the exact output produced by the code in the answer box. If an error occurs, or it enters an infinite loop, state and explain why.\n",
    "You may show workings outside the answer box in the space beside the code. Partial marks may be awarded for workings if the final answer is wrong.\n",
    "Assume that all appropriate preprocessor directives e.g., #include < iostream > , etc. have already been defined."
   ]
  },
  {
   "cell_type": "code",
   "execution_count": null,
   "metadata": {},
   "outputs": [],
   "source": [
    "#include <iostream>\n",
    "using namespace std;"
   ]
  },
  {
   "cell_type": "markdown",
   "metadata": {},
   "source": [
    "A."
   ]
  },
  {
   "cell_type": "code",
   "execution_count": null,
   "metadata": {},
   "outputs": [],
   "source": [
    "string s = \"pineapple pen\";\n",
    "\n",
    "int i = 0, j = s.size() - 1;\n",
    "\n",
    "while (i < j) \n",
    "{\n",
    "    s[i] = s[j];\n",
    "    s[j] = s[i];\n",
    "    i += 1;\n",
    "    j -= 1;\n",
    "}\n",
    "cout << s << endl;"
   ]
  },
  {
   "cell_type": "markdown",
   "metadata": {},
   "source": [
    "Initialize string s = \"pineapple pen\"\n",
    "\n",
    "i = 0, j = 12\n",
    "\n",
    "0. <br>\n",
    "while(i < j)<br>\n",
    "s[0] = s[12] -> nineapple pen<br>\n",
    "s[12] = s[0] -> nineapple pen<br>\n",
    "i = 1, j = 11<br>\n",
    "\n",
    "1. <br>\n",
    "while(i < j)<br>\n",
    "s[1] = s[11] -> neneapple pen<br>\n",
    "s[11] = s[1] -> neneapple pen<br>\n",
    "i = 2, j = 10<br>\n",
    "\n",
    "2. <br>\n",
    "while(i < j)<br>\n",
    "s[2] = s[10] -> nepeapple pen<br>\n",
    "s[10] = s[2] -> nepeapple pen<br>\n",
    "i = 3, j = 9<br>\n",
    "\n",
    "3. <br>\n",
    "while(i < j)<br>\n",
    "s[3] = s[9] -> nep apple pen<br>\n",
    "s[9] = s[3] -> nep apple pen<br>\n",
    "i = 4, j = 8<br>\n",
    "\n",
    "4. <br>\n",
    "while(i < j)<br>\n",
    "s[4] = s[8] -> nep epple pen<br>\n",
    "s[8] = s[4] -> nep epple pen<br>\n",
    "i = 5, j = 7<br>\n",
    "\n",
    "5. <br>\n",
    "while(i < j)<br>\n",
    "s[5] = s[7] -> nep elple pen<br>\n",
    "s[7] = s[5] -> nep elple pen<br>\n",
    "i = 6, j = 6<br>\n",
    "\n",
    "6. <br>\n",
    "i != j, exit out from while loop.<br>\n",
    "\n",
    "Ans: nep elple pen"
   ]
  },
  {
   "cell_type": "markdown",
   "metadata": {},
   "source": [
    "B."
   ]
  },
  {
   "cell_type": "code",
   "execution_count": null,
   "metadata": {},
   "outputs": [],
   "source": [
    "for (int i = 0; true; i++) \n",
    "{\n",
    "    cout << i << \" \";\n",
    "    if (i < 7) \n",
    "    {\n",
    "        i += 2;\n",
    "    } \n",
    "    else if (i % 3 == 0) \n",
    "    {\n",
    "        i /= 2;\n",
    "        continue;\n",
    "    } \n",
    "    else\n",
    "    break;\n",
    "}"
   ]
  },
  {
   "cell_type": "markdown",
   "metadata": {},
   "source": [
    "i = 0, **cout: 0**<br>\n",
    "i < 7, i += 2 = 2<br>\n",
    "\n",
    "i = 3, **cout: 3**<br>\n",
    "i < 7, i += 2 = 5<br>\n",
    "\n",
    "i = 6, **cout: 6**<br>\n",
    "i < 7, i +=2 = 8<br>\n",
    "\n",
    "i = 9, **cout: 9**<br>\n",
    "i % 3 == 0, i /= 2 = 4<br>\n",
    "i = 5, **cout: 5**<br>\n",
    "i < 7, i +=2 = 7<br>\n",
    "\n",
    "i = 8, **cout: 8**<br>\n",
    "Break, exit from loop.<br>\n",
    "\n",
    "Ans: 0 3 6 9 5 8"
   ]
  },
  {
   "cell_type": "markdown",
   "metadata": {},
   "source": [
    "C."
   ]
  },
  {
   "cell_type": "code",
   "execution_count": null,
   "metadata": {},
   "outputs": [],
   "source": [
    "double f(int &x, int y) \n",
    "{\n",
    "    x /= y;\n",
    "    cout << x << \" \";\n",
    "    return x;\n",
    "}\n",
    "\n",
    "int g(double x, double &y) \n",
    "{\n",
    "    y /= x;\n",
    "    cout << y << \" \";\n",
    "    return y;\n",
    "}\n",
    "\n",
    "int main() \n",
    "{\n",
    "    int x = 22;\n",
    "    double y = 5;\n",
    "    cout << g(f(x, y), y);\n",
    "}"
   ]
  },
  {
   "cell_type": "markdown",
   "metadata": {},
   "source": [
    "Initialize<br>\n",
    "**x = 22, y = 5**<br>\n",
    "g(f(22,5),5)\n",
    "\n",
    "f(&x,y) -> f(&22,5)<br>\n",
    "x = 22/5 = 4<br>\n",
    "return 4<br>\n",
    "cout: 4<br>\n",
    "**x = 4, y = 5**\n",
    "\n",
    "g(4,&5)<br>\n",
    "y = 5/4 = 1.25 *(5 is double)*<br>\n",
    "return 1 *(return type is int)*<br>\n",
    "cout: 1.25<br>\n",
    "**x = 4, y = 1.25**\n",
    "\n",
    "cout: 1\n",
    "\n",
    "Ans: 4 1.25 1"
   ]
  },
  {
   "cell_type": "markdown",
   "metadata": {},
   "source": [
    "D."
   ]
  },
  {
   "cell_type": "code",
   "execution_count": null,
   "metadata": {},
   "outputs": [],
   "source": [
    "int a[] = {5, 6, 10, 4, 1, 8, -1, 2, 3, 7};\n",
    "\n",
    "int x = 0;\n",
    "\n",
    "while (a[x] > 0) \n",
    "{\n",
    "    x = (x + a[x]) % 10;\n",
    "    cout << x;\n",
    "}"
   ]
  },
  {
   "cell_type": "markdown",
   "metadata": {},
   "source": [
    "x = 0\n",
    "\n",
    "a[0] = 5 > 0,<br>\n",
    "x = (0 + 5) % 10 = 5<br>\n",
    "**cout: 5**<br>\n",
    "\n",
    "a[5] = 8 > 0,<br>\n",
    "x = (5 + 8) % 10 = 3<br>\n",
    "**cout: 3**<br>\n",
    "\n",
    "a[3] = 4 > 0,<br>\n",
    "x = (3 + 4) % 10 = 7<br>\n",
    "**cout: 7**<br>\n",
    "\n",
    "a[7] = 2 > 0,<br>\n",
    "x = (7 + 2) % 10 = 9<br>\n",
    "**cout: 9**<br>\n",
    "\n",
    "a[9] = 7 > 0<br>\n",
    "x = (9 + 7) % 10 = 6<br>\n",
    "**cout: 6**<br>\n",
    "\n",
    "a[6] = -1 < 0<br>\n",
    "Exit loop.<br>\n",
    "\n",
    "cout: 5 3 7 9 6"
   ]
  },
  {
   "cell_type": "markdown",
   "metadata": {},
   "source": [
    "# Question 2: Airline Baggage"
   ]
  },
  {
   "cell_type": "markdown",
   "metadata": {},
   "source": [
    "## A."
   ]
  },
  {
   "cell_type": "markdown",
   "metadata": {},
   "source": [
    "A particular budget airline has the following pricing scheme for checked baggage:"
   ]
  },
  {
   "cell_type": "markdown",
   "metadata": {},
   "source": [
    "| Weight | Cost | \n",
    "| :-: | :-: |\n",
    "|15kg | 20 |\n",
    "|25kg | 40 |\n",
    "|40kg | 90 |\n",
    "| >40kg | +5 per kg|"
   ]
  },
  {
   "cell_type": "markdown",
   "metadata": {},
   "source": [
    "The cost is computed part-thereof, so 17 kg baggage will cost 40. Baggage over 40 kg will cost 90 plus 5 for every excess kg above 40."
   ]
  },
  {
   "cell_type": "markdown",
   "metadata": {},
   "source": [
    "### [Warm up]<br> Implement the function <code>int cost(int weight)</code> that takes as input the weight of the baggage, and returns the cost of the baggage following the pricing scheme above."
   ]
  },
  {
   "cell_type": "code",
   "execution_count": null,
   "metadata": {},
   "outputs": [],
   "source": [
    "int cost(int weight)\n",
    "{\n",
    "    int cost;\n",
    "    if(weight <= 15) cost = 20;\n",
    "    else if (weight > 15 && weight <= 25) cost = 40;\n",
    "    else if (weight > 25 && weight <= 40) cost = 90;\n",
    "    else cost = ((weight - 40) * 5) + 90;\n",
    "}"
   ]
  },
  {
   "cell_type": "markdown",
   "metadata": {},
   "source": [
    "## B."
   ]
  },
  {
   "cell_type": "markdown",
   "metadata": {},
   "source": [
    "Another airline uses a simpler pricing scheme. It simply charges a fix price of c dollars for every n kg or part thereof. For example, if c = 10 and n = 5kg, then a 17 kg baggage will cost 40.\n",
    "\n",
    "### Implement the function <code>int cost(int c, int n, int weight)</code> that takes as input the price, the kg part thereof, and the weight of the baggage, and returns the cost of the baggage."
   ]
  },
  {
   "cell_type": "code",
   "execution_count": null,
   "metadata": {},
   "outputs": [],
   "source": [
    "int cost(int c, int n, int weight) \n",
    "{\n",
    "    int cost = 0;\n",
    "    while (weight > 0)\n",
    "    {\n",
    "        cost += c;\n",
    "        weight -= 5;\n",
    "    }\n",
    "}"
   ]
  },
  {
   "cell_type": "markdown",
   "metadata": {},
   "source": [
    "## C."
   ]
  },
  {
   "cell_type": "markdown",
   "metadata": {},
   "source": [
    "Yet another airline has another pricing scheme. It charges 20 for the first 20 kg, and an extra 5 for the next 5 kg or part thereof. Subsequently, for every 5 kg, it increases the extra cost by a percentage surcharge.\n",
    "\n",
    "For example, if the surcharge is 50%, (i.e., 0:5), then after charging 25 for the first 25 kg, the next 5 kg will cost 5 x 1:5 = 7:50. Another 5 kg will cost 7:5 x 1:5 = 11:25, ad infinitum."
   ]
  },
  {
   "cell_type": "markdown",
   "metadata": {},
   "source": [
    "### Implement the function <code>double cost(double surcharge, int weight)</code> which takes in the surcharge (as a decimal ratio, e.g. 50% is 0.5) and the weight of the baggage, and returns the cost of the baggage. You should use implement using computation and not use a formula."
   ]
  },
  {
   "cell_type": "code",
   "execution_count": null,
   "metadata": {},
   "outputs": [],
   "source": [
    "double cost(double surcharge, int weight) \n",
    "{\n",
    "    double cost;\n",
    "    if (weight <= 20) cost = 20;\n",
    "    else if (weight > 20 && weight <= 25) cost = 25;\n",
    "    else\n",
    "    {\n",
    "        cost = 25;\n",
    "        weight -= 25;\n",
    "        double base = 5;\n",
    "        while( weight > 0)\n",
    "        {\n",
    "            base = base * (1 + surcharge);\n",
    "            cost += base;\n",
    "            weight -= 5;\n",
    "        }\n",
    "        return cost;\n",
    "    }\n",
    "}"
   ]
  },
  {
   "cell_type": "markdown",
   "metadata": {},
   "source": [
    "# Question 3: Scrabble"
   ]
  },
  {
   "cell_type": "markdown",
   "metadata": {},
   "source": [
    "### [INSTRUCTIONS] Use of any C++ STL functions is not allowed unless otherwise stated.Functions defined in other parts should be used whenever appropriate."
   ]
  },
  {
   "cell_type": "markdown",
   "metadata": {},
   "source": [
    "The game of Scrabble is played using tiles with letters marked on them. Players then attempt to form words on the board using the tiles which they have on hand.\n",
    "For this question, a set of tiles will be modelled as a C++ vector of char, where each char represents the letter of the tile. You may assume all tiles and letters given are all upper case."
   ]
  },
  {
   "cell_type": "markdown",
   "metadata": {},
   "source": [
    "## A."
   ]
  },
  {
   "cell_type": "markdown",
   "metadata": {},
   "source": [
    "The function <code>int find(vector<char> tiles, char letter)</code> takes in a set of tiles,and a letter. If the set of tiles contains the letter, <code>find</code> returns an index of the vector that matches it. Otherwise, <code>find</code> returns -1.\n",
    "    \n",
    "### Provide an implementation of the function <code>find</code> ."
   ]
  },
  {
   "cell_type": "code",
   "execution_count": null,
   "metadata": {},
   "outputs": [],
   "source": [
    "int find(vector<char> tiles, char letter) \n",
    "{\n",
    "    for(int i = 0; i < tiles.size(); i++)\n",
    "    {\n",
    "        if(tiles[i] == letter)\n",
    "            return i;\n",
    "    }\n",
    "    return -1;\n",
    "}"
   ]
  },
  {
   "cell_type": "markdown",
   "metadata": {},
   "source": [
    "## B."
   ]
  },
  {
   "cell_type": "markdown",
   "metadata": {},
   "source": [
    "When a tile is placed on the board, it will be removed from the player’s hand. The function remove takes as input a set of tiles and a letter. It modifies the input tiles by removing a single tile matching the given letter.\n",
    "\n",
    "### Provide an implementation for the function <code>remove</code> . You are to decide on the appropriate return type and parameters for the function."
   ]
  },
  {
   "cell_type": "code",
   "execution_count": null,
   "metadata": {},
   "outputs": [],
   "source": [
    "void remove (vector<char> tiles, char letter)\n",
    "{\n",
    "    tiles.erase(tile.begin() + find(tiles,letter));\n",
    "}"
   ]
  },
  {
   "cell_type": "markdown",
   "metadata": {},
   "source": [
    "## C."
   ]
  },
  {
   "cell_type": "markdown",
   "metadata": {},
   "source": [
    "Players needs to know if a particular word can be formed from their set of tiles. The function <code> bool can_form(vector<char> tiles, string word)</code> takes a set of tiles and a\n",
    "string as input, and returns true if all characters of the word can be uniquely matched to the letters in the set of tiles. I.e., duplicate characters in word requires just as many duplicate tiles in the players hand.\n",
    " \n",
    "For example, if a player has the tiles with letters: **A, H, O, X, P, Y, O** on hand, the word **“HAPPY”** cannot be formed because there is only one **P** in the set of tiles. But the word **“HOOP”** can be formed because there are two O’s in the set of tiles.\n",
    "    \n",
    "### Provide an implementation for the function <code>can_form</code>."
   ]
  },
  {
   "cell_type": "code",
   "execution_count": null,
   "metadata": {},
   "outputs": [],
   "source": [
    "bool can_form(vector<char> tiles, string word) \n",
    "{  \n",
    "    for(int i = 0; i < word.size(); i++)\n",
    "    {\n",
    "        int pos = find(tiles, word[i]);\n",
    "        if(pos == -1) return false;\n",
    "        remove (tiles, word[i]);\n",
    "    }\n",
    "    return true;\n",
    "}"
   ]
  },
  {
   "cell_type": "markdown",
   "metadata": {},
   "source": [
    "# Question 4: Caching, OS & Database"
   ]
  },
  {
   "cell_type": "markdown",
   "metadata": {},
   "source": [
    "### A. Determine which of the following statements are true or false with regards to running several processes on a multi-tasking operating system."
   ]
  },
  {
   "cell_type": "markdown",
   "metadata": {},
   "source": [
    "#### i) Only one process can be executing on a multi-core CPU at any point in time."
   ]
  },
  {
   "cell_type": "markdown",
   "metadata": {},
   "source": [
    "False. \n",
    "\n",
    "More than one process can be executed."
   ]
  },
  {
   "cell_type": "markdown",
   "metadata": {},
   "source": [
    "#### ii. When execution switches to a new process, all data from the old process is cleared from the RAM."
   ]
  },
  {
   "cell_type": "markdown",
   "metadata": {},
   "source": [
    "False. \n",
    "\n",
    "Not necessarily."
   ]
  },
  {
   "cell_type": "markdown",
   "metadata": {},
   "source": [
    "#### iii. Different processes can share data and communicate with each other by writing to and reading from the same memory address."
   ]
  },
  {
   "cell_type": "markdown",
   "metadata": {},
   "source": [
    "False. "
   ]
  },
  {
   "cell_type": "markdown",
   "metadata": {},
   "source": [
    "#### iv. When a process incurs a page fault, another process might take over to execute on the CPU while the operating system services the page fault."
   ]
  },
  {
   "cell_type": "markdown",
   "metadata": {},
   "source": [
    "True."
   ]
  },
  {
   "cell_type": "markdown",
   "metadata": {},
   "source": [
    "## B. Given the following memory block accesses:"
   ]
  },
  {
   "cell_type": "markdown",
   "metadata": {},
   "source": [
    "#### 7, 2, 2, 23, 7, 16, 23, 21, 7, 2\n",
    "Give the **number of cache misses** with the following cache configuration."
   ]
  },
  {
   "cell_type": "markdown",
   "metadata": {},
   "source": [
    "#### i. Fully Associative Cache with four cache blocks. The least recently used block is replaced when necessary."
   ]
  },
  {
   "cell_type": "markdown",
   "metadata": {},
   "source": [
    "Block 0 is less recently used, Block 3 is more recently used\n",
    "\n",
    "| 0  |  1 | 2  | 3 | Misses | Notes |\n",
    "| :-: | :-: | :-: | :-: | :-: | :-: |\n",
    "|**7**||||1| Allocate block |\n",
    "|7|**2**|||1| Allocate block |\n",
    "|7|2||||Matched, 2 is most recently used |\n",
    "|7|2|**23**||1| Allocate block |\n",
    "|2|23|7|||Matched, 7 is most recently used |\n",
    "|2|23|7|**16**|1| Allocate block |\n",
    "|2|7|16|23||Matched, 23 is most recently used |\n",
    "|**21**|7|16|23|1| Allocate block, replace least recently used |\n",
    "|21|16|23|7||Matched, 7 is most recently used |\n",
    "|**2**|16|23|7|1| Allocate block, replace least recently used |\n",
    "\n",
    "Ans: 6 misses"
   ]
  },
  {
   "cell_type": "markdown",
   "metadata": {},
   "source": [
    "#### ii. Direct Map Cache with four cache blocks. Memory blocks in the form 4n+k are mapped to cache block k."
   ]
  },
  {
   "cell_type": "markdown",
   "metadata": {},
   "source": [
    "| 0 | 1 | 2 | 3 | Misses | Notes |\n",
    "| :-: | :-: | :-: | :-: | :-: | :-: |\n",
    "||||**7**|1| 7 % 4 = 3 |\n",
    "|||**2**||1| 2 % 4 = 2 |\n",
    "|||2||| 2 % 4 = 2, matched |\n",
    "|||2|**23**|1| 23 % 4 = 3 |\n",
    "|||2|**7**|1| 7 % 4 = 3 |\n",
    "|**16**||2|7|1| 16 % 4 = 0 |\n",
    "|16||2|**23**|1| 23 % 4 = 3 |\n",
    "|16|**21**|2|23|1| 21 % 4 = 1 |\n",
    "|16|21|2|**7**|1| 7 % 4 = 3 |\n",
    "|16|21|2|7|| 2 % 4 = 2, matched |\n",
    "\n",
    "\n",
    "Ans: 8 misses"
   ]
  },
  {
   "cell_type": "markdown",
   "metadata": {},
   "source": [
    "## C. Consider the contents of the FLIGHT table in an SQL database:"
   ]
  },
  {
   "cell_type": "markdown",
   "metadata": {},
   "source": [
    "| Airline | Source | Destination | Plane |\n",
    "| :-: | :-: | :-: | :-: |\n",
    "| BA | BKK | LHR | 777 |\n",
    "| BA | JFK | LHR | 777 |\n",
    "| BA | SIN | LHR | 744 |\n",
    "| KE | ICN | JFK | 388 |\n",
    "| KE | ICN | LAX | 77W |\n",
    "| KE | LHR | ICN | 77W |\n",
    "| KE | SIN | ICN | 773 |\n",
    "| SQ | BKK | SIN | 773 |\n",
    "| SQ | FRA | SIN | 77W |\n",
    "| SQ | JFK | FRA | 338 |\n",
    "| SQ | SFO | ICN | 77W |\n",
    "| UA | FRA | JFK | 744 |\n",
    "| UA | JFK | LAX | 757 |\n",
    "| UA | LHR | SFO | 777 |"
   ]
  },
  {
   "cell_type": "markdown",
   "metadata": {},
   "source": [
    "Give the simplest SQL query for each of the corresponding result:"
   ]
  },
  {
   "cell_type": "markdown",
   "metadata": {},
   "source": [
    "Result:\n",
    "\n",
    "|  |  |\n",
    "| :-: | :-: |\n",
    "| BA | 777 |\n",
    "| SQ | 388 |\n",
    "| UA | 757 |"
   ]
  },
  {
   "cell_type": "code",
   "execution_count": null,
   "metadata": {},
   "outputs": [],
   "source": [
    "SELECT\n",
    "        Airline,\n",
    "        Plane\n",
    "    FROM\n",
    "        FLIGHT\n",
    "    WHERE\n",
    "        Source = \"JFK\""
   ]
  },
  {
   "cell_type": "markdown",
   "metadata": {},
   "source": [
    "Result:\n",
    "\n",
    "|  |  |  |  |\n",
    "| :-: | :-: | :-: | :-: |\n",
    "| BA | SIN | LHR | 744 |\n",
    "| KE | SIN | ICN | 773 |\n",
    "| SQ | BKK | SIN | 773 |\n",
    "| SQ | FRA | SIN | 77W |"
   ]
  },
  {
   "cell_type": "code",
   "execution_count": null,
   "metadata": {},
   "outputs": [],
   "source": [
    "SELECT\n",
    "        *\n",
    "    FROM\n",
    "        FLIGHT\n",
    "    WHERE\n",
    "        Source = \"SIN\"\n",
    "        OR Destination = \"SIN\""
   ]
  },
  {
   "cell_type": "markdown",
   "metadata": {},
   "source": [
    "— END OF PAPER —"
   ]
  }
 ],
 "metadata": {
  "celltoolbar": "Raw Cell Format",
  "kernelspec": {
   "display_name": "C++11",
   "language": "C++11",
   "name": "xcpp11"
  },
  "language_info": {
   "codemirror_mode": "text/x-c++src",
   "file_extension": ".cpp",
   "mimetype": "text/x-c++src",
   "name": "c++",
   "version": "-std=c++11"
  }
 },
 "nbformat": 4,
 "nbformat_minor": 4
}
