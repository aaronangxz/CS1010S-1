{
 "cells": [
  {
   "cell_type": "markdown",
   "metadata": {},
   "source": [
    "<center>TIC1001—Introduction to Computing and Programming</center>\n",
    "<center>National University of Singapore</center>"
   ]
  },
  {
   "cell_type": "markdown",
   "metadata": {},
   "source": [
    "<center><h1>Lecture 4: Functional Abstraction and Pointers\n",
    "</h1></center>"
   ]
  },
  {
   "cell_type": "markdown",
   "metadata": {
    "raw_mimetype": "text/latex"
   },
   "source": [
    "**Q1** Which of the following are valid function definitions? Select all that apply.\n",
    "\n"
   ]
  },
  {
   "cell_type": "code",
   "execution_count": null,
   "metadata": {},
   "outputs": [],
   "source": [
    "Correct\n",
    "void foo(void) {\n",
    "    return;\n",
    "}\n",
    "\n",
    "Correct\n",
    "int foo(int a, int b) {\n",
    "    return a + a;\n",
    "}\n",
    "\n",
    "Wrong\n",
    "int foo(a, b) {\n",
    "    return a + b;\n",
    "}\n",
    "\n",
    "Wrong\n",
    "foo(int a, int b) {\n",
    "    return a + b;\n",
    "}\n",
    "\n",
    "Correct\n",
    "void foo(int a, int b, int c) {\n",
    "    a = b + c;\n",
    "}\n",
    "\n",
    "Correct\n",
    "void foo(int *a, int b, int c) {\n",
    "    *a = b + c;\n",
    "}"
   ]
  },
  {
   "cell_type": "markdown",
   "metadata": {},
   "source": [
    "A function without any parameters or return value is still valid.<br>\n",
    "A function need not use every parameter passed into it.<br>\n",
    "Void function do not need a return statement.<br>\n",
    "Pointers can be used to modify the arguments.<br>"
   ]
  },
  {
   "cell_type": "markdown",
   "metadata": {},
   "source": [
    "**Q2** What is the output for the following code snippet?\n",
    "\n"
   ]
  },
  {
   "cell_type": "code",
   "execution_count": null,
   "metadata": {},
   "outputs": [],
   "source": [
    "int square(int x) {\n",
    "    return x*x;\n",
    "}\n",
    "\n",
    "int twice(int x) {\n",
    "    return x + x;\n",
    "}\n",
    "\n",
    "printf(\"%d\", twice(square(2)) - square(twice(2)));"
   ]
  },
  {
   "cell_type": "markdown",
   "metadata": {},
   "source": [
    "-8"
   ]
  },
  {
   "cell_type": "markdown",
   "metadata": {},
   "source": [
    "**Q3** Using the square and mean functions provided, define a new function called variance that calculates the variance of two integers. Reuse the square and mean functions in your answer!\n",
    "\n",
    "The variance formula is as below:\n",
    "\n",
    "$Var(X) = E[X^{2}]-(E[X])^{2}$\n",
    "\n",
    "$E[X]$ refers to the mean of numbers (2 of them for this question) and $E[X^{2}]$ refers to the mean of the numbers squared.\n",
    "\n",
    "For example variance(1, 5) and variance(5, 1) should both return 4.0"
   ]
  },
  {
   "cell_type": "code",
   "execution_count": null,
   "metadata": {},
   "outputs": [],
   "source": [
    "double square(double x) \n",
    "{\n",
    "    return x * x;\n",
    "}\n",
    "\n",
    "double mean(int a, int b) \n",
    "{\n",
    "    return (a+b)/2.0;\n",
    "}\n",
    "\n",
    "double variance(int a, int b) \n",
    "{\n",
    "    double var;\n",
    "    var = mean(square(a),square(b)) - square(mean(a,b));\n",
    "    return var;\n",
    "}"
   ]
  },
  {
   "cell_type": "markdown",
   "metadata": {},
   "source": [
    "**Q4** The function <code>int area_rect(int length, int breath)</code> returns the area of a rectangle of given length and breadth. \n",
    "\n",
    "Define a function <code>int area_square(int x)</code> that:\n",
    "\n",
    "Returns the area of a square of length x. The <code>area_square</code> function should make use of the <code>area_rect</code> function. Thus, you do not need to know how the area of a rectangular is calculated.\n",
    "Returns 0 if the input parameter is <= 0.\n",
    "\n",
    "\n",
    "Note: Do not define the area_rect function. It is already provided. You simply have to call the function."
   ]
  },
  {
   "cell_type": "code",
   "execution_count": null,
   "metadata": {},
   "outputs": [],
   "source": [
    "int area_square(int x) \n",
    "{\n",
    "    if ( x <= 0)\n",
    "    {\n",
    "        return 0;\n",
    "    }\n",
    "    else\n",
    "    {\n",
    "        return area_rect(x,x);\n",
    "    }\n",
    "}\n"
   ]
  },
  {
   "cell_type": "markdown",
   "metadata": {},
   "source": [
    "**Q5** \n",
    "**Note: In math, 0 is considered to be neither a positive number nor negative number.**\n",
    "\n",
    "You are to implement the following three functions with the following specifications:\n",
    "\n",
    "1. <code>bool is_odd(int x)</code> returns <code>true</code> if the input parameter x is odd, <code>false</code> otherwise.\n",
    "2. <code>bool is_negative(int x)</code> returns <code>true</code> if the input parameter x is negative, <code>false</code> otherwise. \n",
    "3. <code>bool is_even_and_positive(int x)</code> returns <code>true</code> if the input parameter x is even AND positive, <code>false</code>otherwise.\n",
    "\n",
    "\n",
    "Bear in mind that you should try to reuse functions whenever possible!"
   ]
  },
  {
   "cell_type": "code",
   "execution_count": null,
   "metadata": {},
   "outputs": [],
   "source": [
    "#include <stdbool.h>\n",
    "bool is_odd(int x) {\n",
    "    if ( x == 0)\n",
    "    {\n",
    "        return false;\n",
    "    }\n",
    "    else if ((x % 2) != 0)\n",
    "    {  \n",
    "        return true; \n",
    "    }\n",
    "    \n",
    "    else\n",
    "    {\n",
    "        return false;\n",
    "    }\n",
    "}\n",
    "bool is_negative(int x) {\n",
    "    if ( x < 0 )\n",
    "    {\n",
    "        return true;\n",
    "    }\n",
    "    else\n",
    "    {\n",
    "        return false;\n",
    "    }\n",
    "}\n",
    "bool is_even_and_positive(int x) {\n",
    "    if ( x == 0)\n",
    "    {\n",
    "        return false;\n",
    "    }\n",
    "    if (is_odd(x) == false && is_negative(x) == false)\n",
    "    {\n",
    "        return true;\n",
    "    }\n",
    "    else\n",
    "    {\n",
    "        return false;\n",
    "    }\n",
    "}"
   ]
  },
  {
   "cell_type": "markdown",
   "metadata": {},
   "source": [
    "**Q6** What is the output printed by the following program?\n",
    "\n"
   ]
  },
  {
   "cell_type": "code",
   "execution_count": null,
   "metadata": {},
   "outputs": [],
   "source": [
    "void square(int *x) \n",
    "{\n",
    "    *x = (*x + 1) * (*x);\n",
    "}\n",
    "\n",
    "int main(void) \n",
    "{\n",
    "    int num = 10;\n",
    "    square(&num);\n",
    "    printf(\"%d\", num);\n",
    "    return 0;\n",
    "}"
   ]
  },
  {
   "cell_type": "markdown",
   "metadata": {},
   "source": [
    "110.<br>Address of num is passed into pointer x, so 11*10 is stored back in to num.\n",
    "\n"
   ]
  },
  {
   "cell_type": "markdown",
   "metadata": {},
   "source": [
    "**Q7** Bump\n",
    "\n",
    "Consider the following code snippet:\n",
    "\n"
   ]
  },
  {
   "cell_type": "code",
   "execution_count": null,
   "metadata": {},
   "outputs": [],
   "source": [
    "int i = 0;\n",
    "\n",
    "bump(&i);\n",
    "printf(\"i is %d\\n\", i);\n",
    "\n",
    "bump(&i);\n",
    "bump(&i);\n",
    "printf(\"i is %d\\n\", i);"
   ]
  },
  {
   "cell_type": "markdown",
   "metadata": {},
   "source": [
    "Implement the function bump, such that the printed output of the code is:\n",
    "\n",
    "i is 1<br>\n",
    "i is 3\n",
    "\n"
   ]
  },
  {
   "cell_type": "code",
   "execution_count": null,
   "metadata": {},
   "outputs": [],
   "source": [
    "int bump (int *a)\n",
    "{\n",
    "    *a = *a + 1;\n",
    "    return *a;\n",
    "}"
   ]
  },
  {
   "cell_type": "markdown",
   "metadata": {},
   "source": [
    "**Q8** A safe is typically used to secure valuable objects against theft or damage. Most safes use a spinning lock to unlock the safe by requiring the dial to be spun a certain number of revolutions clockwise or anti-clockwise. The diagram below shows a dial with 100 graduations ranging from 0 to 99, and it is currently in position 15.\n",
    "\n",
    "We can model the position of the dial as an integer. Implement a function <code>void spin(int *dial, int spin)</code>, that takes as input the dial and the amount to spin, and repositions the dial according to the amount to spin. A positive spin amount would mean spinning it anti-clockwise while a negative amount would be clockwise. You can assume the dial has 100 positions from 0 to 99 as shown above.\n",
    "\n",
    "For example, if the current position of the dial is at position 55, spinning it by 27 would result it to be at position 82. Spinning it again by -22 would set it to position 60."
   ]
  },
  {
   "cell_type": "code",
   "execution_count": null,
   "metadata": {},
   "outputs": [],
   "source": [
    "void spin(int *dial, int amount) \n",
    "{\n",
    "    *dial = *dial + amount;\n",
    "    if (*dial > 99)\n",
    "    {\n",
    "        int mult = *dial / 100;\n",
    "        *dial = *dial - (100 * mult);\n",
    "    }\n",
    "    else if (*dial < 0 && *dial >= -99)\n",
    "    {\n",
    "        *dial = *dial + 100;\n",
    "    }\n",
    "    else if (*dial < -99)\n",
    "    {\n",
    "        int mult = -(*dial) / 100;\n",
    "        *dial = *dial + (100 * (mult+1));\n",
    "    }\n",
    "    else\n",
    "    {\n",
    "        *dial = *dial;\n",
    "    }\n",
    "}"
   ]
  },
  {
   "cell_type": "markdown",
   "metadata": {},
   "source": [
    "-END-"
   ]
  }
 ],
 "metadata": {
  "celltoolbar": "Raw Cell Format",
  "kernelspec": {
   "display_name": "C++11",
   "language": "C++11",
   "name": "xcpp11"
  },
  "language_info": {
   "codemirror_mode": "text/x-c++src",
   "file_extension": ".cpp",
   "mimetype": "text/x-c++src",
   "name": "c++",
   "version": "11"
  }
 },
 "nbformat": 4,
 "nbformat_minor": 4
}
