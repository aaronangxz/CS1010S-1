{
 "cells": [
  {
   "cell_type": "markdown",
   "metadata": {},
   "source": [
    "<center>TIC1001—Introduction to Computing and Programming</center>\n",
    "<center>National University of Singapore</center>"
   ]
  },
  {
   "cell_type": "markdown",
   "metadata": {},
   "source": [
    "<center><h1>Lecture 6: Strings and Arrays</h1></center>"
   ]
  },
  {
   "cell_type": "markdown",
   "metadata": {},
   "source": [
    "### Consider the following code\n",
    "\n"
   ]
  },
  {
   "cell_type": "code",
   "execution_count": null,
   "metadata": {},
   "outputs": [],
   "source": [
    "long arr[10];\n",
    "printf(\"%d %p %p\", (int)sizeof(arr[0]),\n",
    "                   &arr[0],\n",
    "                   &arr[1]);"
   ]
  },
  {
   "cell_type": "markdown",
   "metadata": {
    "raw_mimetype": "text/latex"
   },
   "source": [
    "What are the possible outputs?"
   ]
  },
  {
   "cell_type": "markdown",
   "metadata": {},
   "source": [
    "4 0x7fff42a0 0x7fff42a4<br>\n",
    "8 0x7fff42a0 0x7fff42a8"
   ]
  },
  {
   "cell_type": "markdown",
   "metadata": {},
   "source": [
    "C specifications only say long has to be at least 4 bytes. Some systems might use more.\n",
    "\n"
   ]
  },
  {
   "cell_type": "markdown",
   "metadata": {},
   "source": [
    "### Uncle Soo thinks he does not need to explicitly pass in the size of the array into the function because he can use sizeof to find the size of the array. He wrote some code to test out his idea:"
   ]
  },
  {
   "cell_type": "code",
   "execution_count": null,
   "metadata": {},
   "outputs": [],
   "source": [
    "void test(int arr[]) {\n",
    "    printf(\"%lu\", sizeof(arr));\n",
    "}\n",
    "\n",
    "int main(void) {\n",
    "    int x[10] = {0};\n",
    "    printf(\"%lu \", sizeof(x));\n",
    "    test(x);\n",
    "}"
   ]
  },
  {
   "cell_type": "markdown",
   "metadata": {},
   "source": [
    "What is the output when Uncle Soo runs this code on his 64-bit OS? Try and see why your system shows.\n",
    "\n"
   ]
  },
  {
   "cell_type": "markdown",
   "metadata": {},
   "source": [
    "40 8"
   ]
  },
  {
   "cell_type": "markdown",
   "metadata": {},
   "source": [
    "Because arrays are passed by reference. So arr is a pointer which is either 64 bits (8 bytes) or 32 bits (4 bytes) depending on your system memory size.\n",
    "\n"
   ]
  },
  {
   "cell_type": "markdown",
   "metadata": {},
   "source": [
    "### Write a function sum_int which takes an array of integers and its size, and returns the sum of all its elements.\n",
    "\n"
   ]
  },
  {
   "cell_type": "code",
   "execution_count": null,
   "metadata": {},
   "outputs": [],
   "source": [
    "int sum_int(int arr[], int size) \n",
    "{\n",
    "    int sum = 0;\n",
    "    for (int i =0; i < size; i++)\n",
    "    {\n",
    "        sum += arr[i];\n",
    "    }\n",
    "    return sum;\n",
    "}"
   ]
  },
  {
   "cell_type": "markdown",
   "metadata": {},
   "source": [
    "### Write a function max that takes in an array of int and its size, and returns the maximum value found in the array.\n",
    "\n"
   ]
  },
  {
   "cell_type": "code",
   "execution_count": null,
   "metadata": {},
   "outputs": [],
   "source": [
    "int max(int arr[], int size) \n",
    "{\n",
    "    int max = arr[0]; \n",
    "  \n",
    "    for (int i = 1; i < size; i++) \n",
    "    {\n",
    "        if (arr[i] > max) \n",
    "        {\n",
    "            max = arr[i]; \n",
    "        }    \n",
    "    }\n",
    "    return max;     \n",
    "}"
   ]
  },
  {
   "cell_type": "markdown",
   "metadata": {},
   "source": [
    "### Write a function to_int which takes in a string of digits (the characters are all '0' - '9') and returns the number represented in the string as an int type.\n",
    "\n",
    "Hint: What is the ASCII code for character '0'?"
   ]
  },
  {
   "cell_type": "code",
   "execution_count": null,
   "metadata": {},
   "outputs": [],
   "source": [
    "#include <math.h>\n",
    "int to_int(char str[]) \n",
    "{\n",
    "    int toint=0, len= 0;\n",
    "    \n",
    "    for (int j=1; str[j] !='\\0';j++)\n",
    "    {\n",
    "        len += 1;\n",
    "        printf(\"len is: %d\\n\",len);\n",
    "    }\n",
    "    \n",
    "    for (int i=0; str[i] !='\\0';i++)\n",
    "    {\n",
    "        toint += (str[i] - 48) * pow(10,len-i);\n",
    "        printf(\"toint is: %d\\n\",toint);\n",
    "    }\n",
    "    return toint;\n",
    "}"
   ]
  },
  {
   "cell_type": "markdown",
   "metadata": {},
   "source": [
    "### Write a function to_upper that takes as input a string, and converts all its lowercase characters to uppercase.\n",
    "\n",
    "Hint: The ASCII table might help."
   ]
  },
  {
   "cell_type": "code",
   "execution_count": 1,
   "metadata": {},
   "outputs": [],
   "source": [
    "void to_upper(char str[]) \n",
    "{\n",
    "    for (int i = 0; str[i] !='\\0';i++)\n",
    "    {\n",
    "       if(str[i] >= 'a' && str[i] <= 'z')\n",
    "        { \n",
    "            str[i] = str[i] - 32; \n",
    "        }\n",
    "    }\n",
    "}"
   ]
  },
  {
   "cell_type": "markdown",
   "metadata": {},
   "source": [
    "### Write a function num_words that takes in a sentence as a string, and returns the number of words in the sentence.\n",
    "\n",
    "You may assume that the words are separated by exactly one space and the sentence does not begin or end with a space.\n",
    "\n",
    "Note: const char is required in the function parameter to allow us to pass string literals into the function."
   ]
  },
  {
   "cell_type": "code",
   "execution_count": null,
   "metadata": {},
   "outputs": [],
   "source": [
    "int num_words(const char str[]) \n",
    "{\n",
    "    int len = strlen(str);\n",
    "    int count = 0;\n",
    "    for(int i = 0; i < len ; i++)\n",
    "    {\n",
    "        if (str[i] == 32)\n",
    "        {\n",
    "            count += 1;\n",
    "        }\n",
    "    }\n",
    "    return count +1;\n",
    "}"
   ]
  },
  {
   "cell_type": "markdown",
   "metadata": {},
   "source": [
    "-END-"
   ]
  }
 ],
 "metadata": {
  "celltoolbar": "Raw Cell Format",
  "kernelspec": {
   "display_name": "C++11",
   "language": "C++11",
   "name": "xcpp11"
  },
  "language_info": {
   "codemirror_mode": "text/x-c++src",
   "file_extension": ".cpp",
   "mimetype": "text/x-c++src",
   "name": "c++",
   "version": "11"
  }
 },
 "nbformat": 4,
 "nbformat_minor": 4
}
