{
 "cells": [
  {
   "cell_type": "markdown",
   "metadata": {},
   "source": [
    "<center>TIC1001—Introduction to Computing and Programming</center>\n",
    "<center>National University of Singapore</center>"
   ]
  },
  {
   "cell_type": "markdown",
   "metadata": {},
   "source": [
    "<center><h1>Lecture 7: Strings and Vectors</h1></center>"
   ]
  },
  {
   "cell_type": "markdown",
   "metadata": {},
   "source": [
    "### Consider the following function:\n",
    "\n"
   ]
  },
  {
   "cell_type": "code",
   "execution_count": null,
   "metadata": {},
   "outputs": [],
   "source": [
    "int foo(int x) {\n",
    "    switch(x) {\n",
    "        case 0:\n",
    "            x += 1;\n",
    "        case 4:\n",
    "            x /= 2;\n",
    "            break;\n",
    "        case 2:\n",
    "            x += 3;\n",
    "            break;\n",
    "        case 1:\n",
    "            x += 2;\n",
    "        default:\n",
    "            x *= 2;\n",
    "    }\n",
    "    return x;\n",
    "}"
   ]
  },
  {
   "cell_type": "markdown",
   "metadata": {
    "raw_mimetype": "text/latex"
   },
   "source": [
    "Which of the following statements show the corresponding output with the given input?\n",
    "\n"
   ]
  },
  {
   "cell_type": "markdown",
   "metadata": {},
   "source": [
    "foo(0) -> 0<br>\n",
    "foo(1) -> 6<br>\n",
    "foo(2) -> 5<br>\n",
    "foo(3) -> 6<br>\n",
    "foo(4) -> 2"
   ]
  },
  {
   "cell_type": "markdown",
   "metadata": {},
   "source": [
    "### Implement the function int days_of_month(int m) using a switch...case statement that return the number of days of the given month of the year.\n",
    "\n"
   ]
  },
  {
   "cell_type": "code",
   "execution_count": null,
   "metadata": {},
   "outputs": [],
   "source": [
    "\n",
    "using namespace std;\n",
    "int days_of_month(int m) \n",
    "{\n",
    "    int days = 0;\n",
    "    switch (m)\n",
    "    {\n",
    "        case 1:\n",
    "            days = 31;\n",
    "            break;\n",
    "        case 2:\n",
    "            days = 28;\n",
    "            break;\n",
    "        case 3:\n",
    "            days = 31;\n",
    "            break;\n",
    "        case 4:\n",
    "            days = 30;\n",
    "            break;\n",
    "        case 5:\n",
    "            days = 31;\n",
    "            break;\n",
    "        case 6:\n",
    "            days = 30;\n",
    "            break;\n",
    "        case 7:\n",
    "            days = 31;\n",
    "            break;\n",
    "        case 8:\n",
    "            days = 31;\n",
    "            break;\n",
    "        case 9:\n",
    "            days = 30;\n",
    "            break;\n",
    "        case 10:\n",
    "            days = 31;\n",
    "            break;\n",
    "        case 11:\n",
    "            days = 30;\n",
    "            break;\n",
    "        case 12:\n",
    "            days = 31;\n",
    "            break;\n",
    "    }\n",
    "    return days;\n",
    "}"
   ]
  },
  {
   "cell_type": "markdown",
   "metadata": {},
   "source": [
    "### Implement the function bool find(int x, vector<int> v) which returns true if the integer x is an element of the vector v, and false otherwise.\n",
    "\n"
   ]
  },
  {
   "cell_type": "code",
   "execution_count": null,
   "metadata": {},
   "outputs": [],
   "source": [
    "using namespace std;\n",
    "bool find(int x, vector<int> v) \n",
    "{\n",
    "    int count = 0;\n",
    "    for (int i = 0; i < v.size(); i++)\n",
    "    {\n",
    "        if (v[i] == x)\n",
    "        {\n",
    "           count += 1;\n",
    "        }\n",
    "    }\n",
    "    \n",
    "    if ( count > 0 )\n",
    "    {\n",
    "        return 1;\n",
    "    }\n",
    "    else\n",
    "    {\n",
    "        return 0;\n",
    "    }\n",
    "}"
   ]
  },
  {
   "cell_type": "markdown",
   "metadata": {},
   "source": [
    "### The function void invert(vector<bool> &v) takes in a vector of bool, and inverts the elements, i.e. true becomes false, and vice versa. Provide an implementation of the function invert.\n",
    "\n"
   ]
  },
  {
   "cell_type": "code",
   "execution_count": null,
   "metadata": {},
   "outputs": [],
   "source": [
    "void invert(vector<bool> &v) \n",
    "{\n",
    "    for (int i = 0; i < v.size(); i++)\n",
    "    {\n",
    "        if (v[i] == 1)\n",
    "        {\n",
    "           v[i] = 0;\n",
    "        }\n",
    "        else\n",
    "        {\n",
    "            v[i] = 1;\n",
    "        }\n",
    "    }    \n",
    "}\n"
   ]
  },
  {
   "cell_type": "markdown",
   "metadata": {},
   "source": [
    "### The logical operator and returns true only if both inputs are true. The function vector<bool> And(vector<bool> v1, vector<bool> v2) takes as input two vectors of equal length, and returns a new vector where each element is a logical and of the two vectors. i.e., vi = true if v1i and v2i are both true, for all elements i."
   ]
  },
  {
   "cell_type": "code",
   "execution_count": null,
   "metadata": {},
   "outputs": [],
   "source": [
    "vector<bool> And(vector<bool> v1, vector<bool> v2) \n",
    "{\n",
    "    vector<bool> out;\n",
    "    \n",
    "    for (int i = 0; (i < v1.size()); i++)\n",
    "    {\n",
    "        if (v1[i] == v2[i] && (v1[i] == 1 || v2[i] == 1) )\n",
    "        {\n",
    "           v1[i] = 1;\n",
    "        }\n",
    "        else\n",
    "        {\n",
    "            v1[i] = 0;\n",
    "        }\n",
    "    }\n",
    "    return v1;\n",
    "}\n"
   ]
  },
  {
   "cell_type": "markdown",
   "metadata": {},
   "source": [
    "-END-"
   ]
  }
 ],
 "metadata": {
  "celltoolbar": "Raw Cell Format",
  "kernelspec": {
   "display_name": "C++11",
   "language": "C++11",
   "name": "xcpp11"
  },
  "language_info": {
   "codemirror_mode": "text/x-c++src",
   "file_extension": ".cpp",
   "mimetype": "text/x-c++src",
   "name": "c++",
   "version": "11"
  }
 },
 "nbformat": 4,
 "nbformat_minor": 4
}
