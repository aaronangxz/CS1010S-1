{
 "cells": [
  {
   "cell_type": "markdown",
   "metadata": {},
   "source": [
    "<center>TIC1001—Introduction to Computing and Programming</center>\n",
    "<center>National University of Singapore</center>"
   ]
  },
  {
   "cell_type": "markdown",
   "metadata": {},
   "source": [
    "<center><h1>Lecture 2: Branching and Looping</h1></center>"
   ]
  },
  {
   "cell_type": "markdown",
   "metadata": {},
   "source": [
    "### Sum of first n odd numbers - for loop"
   ]
  },
  {
   "cell_type": "markdown",
   "metadata": {
    "raw_mimetype": "text/latex"
   },
   "source": [
    "Using a for loop, write a function sum_odd_n that computes the sum of the first n odd numbers, i.e. it returns 1 + 3 + 5 + .... + (2n - 1). You may assume that n is always a positive integer.\n",
    "<br>\n",
    "You are to avoid using break or continue in your function."
   ]
  },
  {
   "cell_type": "code",
   "execution_count": null,
   "metadata": {},
   "outputs": [],
   "source": [
    "int sum_odd_n(int n) \n",
    "{\n",
    "    int i;\n",
    "    int sum = 0;\n",
    "    for (i=1 ; i<=(2*n)-1 ; i+=2)\n",
    "    {\n",
    "        sum += i; \n",
    "    }\n",
    "    return sum;\n",
    "}"
   ]
  },
  {
   "cell_type": "markdown",
   "metadata": {},
   "source": [
    "### Sum of first n odd numbers - while loop"
   ]
  },
  {
   "cell_type": "markdown",
   "metadata": {},
   "source": [
    "Using a while loop, write a function sum_odd_n that computes the sum of the first n odd numbers, i.e. it returns 1 + 3 + 5 + .... + (2n - 1). You may assume that n is always a positive integer.\n",
    "<br>\n",
    "You are to avoid using break or continue in your function."
   ]
  },
  {
   "cell_type": "code",
   "execution_count": null,
   "metadata": {},
   "outputs": [],
   "source": [
    "int sum_odd_n(int n) \n",
    "{\n",
    "    int i=1;\n",
    "    int sum = 0;\n",
    "    \n",
    "    while (i<=(2*n)-1)\n",
    "    {\n",
    "            sum += i; \n",
    "            i = i+2;\n",
    "    }\n",
    "    return sum;\n",
    "}"
   ]
  },
  {
   "cell_type": "markdown",
   "metadata": {},
   "source": [
    "### Sum of first n squares - for loop"
   ]
  },
  {
   "cell_type": "markdown",
   "metadata": {},
   "source": [
    "Complete the following function that uses a for loop to compute the sum of the squares of the first n numbers."
   ]
  },
  {
   "cell_type": "code",
   "execution_count": null,
   "metadata": {},
   "outputs": [],
   "source": [
    "int sum_n_squares(int n)\n",
    "{\n",
    "    int result = 0;\n",
    "    for (int counter = 0; counter <= n; ++counter) \n",
    "    {\n",
    "       result = result + (counter*counter);\n",
    "    }\n",
    "    return result;\n",
    "}"
   ]
  },
  {
   "cell_type": "markdown",
   "metadata": {},
   "source": [
    "### Sum of first n squares - while loop"
   ]
  },
  {
   "cell_type": "markdown",
   "metadata": {},
   "source": [
    "Complete the following function that uses a while loop to compute the sum of the squares of the first n numbers."
   ]
  },
  {
   "cell_type": "code",
   "execution_count": null,
   "metadata": {},
   "outputs": [],
   "source": [
    "int sum_n_squares(int n) \n",
    "{\n",
    "    int counter = 1, result = 0;\n",
    "    while (counter <= n) \n",
    "    {\n",
    "      result = result + (counter * counter);\n",
    "      counter ++;\n",
    "    }\n",
    "    return result;\n",
    "}"
   ]
  },
  {
   "cell_type": "markdown",
   "metadata": {},
   "source": [
    "### Factorial"
   ]
  },
  {
   "cell_type": "markdown",
   "metadata": {},
   "source": [
    "The factorial of n (n!) is computed as 1 x 2 x 3 ... x n.\n",
    "<br>\n",
    "Implement the function factorial which takes a non-negative integer n and returns n!"
   ]
  },
  {
   "cell_type": "code",
   "execution_count": null,
   "metadata": {},
   "outputs": [],
   "source": [
    "int factorial(int n) \n",
    "{\n",
    "    int fact = 1;\n",
    "    for (int i = 1; i<=n; i++)\n",
    "    {\n",
    "        fact = fact * i;\n",
    "    }\n",
    "    return fact;\n",
    "}\n"
   ]
  },
  {
   "cell_type": "markdown",
   "metadata": {},
   "source": [
    "This question is a code-tracing practice. Please trace the code manually to test your understanding, before trying to compile and run it.\n",
    "<br>\n",
    "What is displayed after executing the following statements?"
   ]
  },
  {
   "cell_type": "code",
   "execution_count": null,
   "metadata": {},
   "outputs": [],
   "source": [
    "double d;\n",
    "for (d = 0; d < 10.0; d += 0.1) ;\n",
    "printf(\"%f\\n\", d);"
   ]
  },
  {
   "cell_type": "markdown",
   "metadata": {},
   "source": [
    "Ans: 10.1<br>\n",
    "\n",
    "Because of floating point inaccuracy, adding 0.1 multiple times does not equal to exactly 10.0 but 9.99..."
   ]
  },
  {
   "cell_type": "markdown",
   "metadata": {},
   "source": [
    "-END-"
   ]
  }
 ],
 "metadata": {
  "celltoolbar": "Raw Cell Format",
  "kernelspec": {
   "display_name": "C++11",
   "language": "C++11",
   "name": "xcpp11"
  },
  "language_info": {
   "codemirror_mode": "text/x-c++src",
   "file_extension": ".cpp",
   "mimetype": "text/x-c++src",
   "name": "c++",
   "version": "11"
  }
 },
 "nbformat": 4,
 "nbformat_minor": 4
}
