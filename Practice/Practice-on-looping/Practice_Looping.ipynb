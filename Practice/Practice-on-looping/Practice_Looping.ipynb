{
 "cells": [
  {
   "cell_type": "markdown",
   "metadata": {},
   "source": [
    "<center>TIC1001—Introduction to Computing and Programming</center>\n",
    "<center>National University of Singapore</center>"
   ]
  },
  {
   "cell_type": "markdown",
   "metadata": {},
   "source": [
    "<center><h1>Practice on Looping\n",
    "</h1></center>"
   ]
  },
  {
   "cell_type": "markdown",
   "metadata": {},
   "source": [
    "### Perfect Number"
   ]
  },
  {
   "cell_type": "markdown",
   "metadata": {
    "raw_mimetype": "text/latex"
   },
   "source": [
    "A perfect number is a positive integer that is equal to the sum of its proper divisors. A proper divisor is a positive integer other than the number itself that divides the number evenly (i.e. no remainder). For example, 6 is the smallest perfect number, because the sum of its proper divisors 1, 2, and 3 is equal to 6. 8 is not a perfect number because 1 + 2 + 4 is not equal to 8.\n",
    "<br>\n",
    "Write a function <code>is_perfect_number</code> that accepts a positive integer in the range [1, 10000] and returns true/false depending on whether the number is a perfect number or not."
   ]
  },
  {
   "cell_type": "code",
   "execution_count": null,
   "metadata": {},
   "outputs": [],
   "source": [
    "#include <stdbool.h>\n",
    "bool is_perfect_number(int num) \n",
    "{\n",
    "    int sum = 0;\n",
    "    for (int i = 1 ; i < num ; i++)\n",
    "    {\n",
    "        if (num % i == 0)\n",
    "        {\n",
    "            sum = sum + i;\n",
    "        }\n",
    "    }\n",
    "    if (sum == num)\n",
    "    {\n",
    "        return 1;\n",
    "    }\n",
    "    else\n",
    "    {\n",
    "        return 0;\n",
    "    }\n",
    "}\n"
   ]
  },
  {
   "cell_type": "markdown",
   "metadata": {},
   "source": [
    "### Invert Number"
   ]
  },
  {
   "cell_type": "markdown",
   "metadata": {},
   "source": [
    "Write a function <code>invert_number</code> that reads in a positive integer, reverses the order of each of its digit and returns out the inverted value. For example, if input number is 12345, your program output should be 54321."
   ]
  },
  {
   "cell_type": "code",
   "execution_count": null,
   "metadata": {},
   "outputs": [],
   "source": [
    "int invert_number(int num) \n",
    "{\n",
    "    int reverse = 0, remainder;\n",
    "    while (num != 0)\n",
    "    {\n",
    "        remainder = num % 10;\n",
    "        reverse = reverse * 10 + remainder;\n",
    "        num /= 10;\n",
    "    }\n",
    "    return reverse;    \n",
    "}\n",
    "\n",
    "/*\n",
    "Loop 1. \n",
    "Num = 1234\n",
    "Remainder = 4\n",
    "Reverse = 0 * 10 + 4 = 4\n",
    "Num = 123\n",
    "\n",
    "Loop2.\n",
    "Num = 123\n",
    "Remainder = 3\n",
    "Reverse = 4 * 10 + 3 = 43\n",
    "Num = 12\n",
    "\n",
    "Loop3.\n",
    "Num = 12\n",
    "Remainder = 2\n",
    "Reverse = 43*10 + 2 = 432\n",
    "Num = 1\n",
    "\n",
    "Loop4.\n",
    "Remainder = 1\n",
    "Reverse = 432*10 + 1 = 4321\n",
    "Num = 0\n",
    "*/"
   ]
  },
  {
   "cell_type": "markdown",
   "metadata": {},
   "source": [
    "### Digit Counting"
   ]
  },
  {
   "cell_type": "markdown",
   "metadata": {},
   "source": [
    "Write the function <code>number_of_digits</code> that will return the number of digits in an integer. You can safely assume that the integers are non-negative and will not begin with the number 0 other than the integer 0 itself."
   ]
  },
  {
   "cell_type": "code",
   "execution_count": null,
   "metadata": {},
   "outputs": [],
   "source": [
    "int number_of_digits(int num) \n",
    "{\n",
    "    int count = 0;\n",
    "    if (num == 0)\n",
    "    {\n",
    "        count = 1;\n",
    "    }\n",
    "    else\n",
    "    {\n",
    "        while (num != 0)\n",
    "        {\n",
    "            num /= 10;\n",
    "            count ++ ;\n",
    "        }\n",
    "    }\n",
    "    return count;\n",
    "}"
   ]
  },
  {
   "cell_type": "markdown",
   "metadata": {},
   "source": [
    "### nth Digit"
   ]
  },
  {
   "cell_type": "markdown",
   "metadata": {},
   "source": [
    "Implement a function <code>nth_digit</code> that takes as inputs a non-negative integer num and a positive integer n. The function should return the nth digit (digit at position n) of num from the left."
   ]
  },
  {
   "cell_type": "code",
   "execution_count": null,
   "metadata": {},
   "outputs": [],
   "source": [
    "int nth_digit(int num, int n) \n",
    "{\n",
    "    if(num > 0 && n > 0)\n",
    "    {\n",
    "        //Get length of input 'num'\n",
    "        int length = log10(num) + 1;\n",
    "        \n",
    "        //If digits are out of bounds, \n",
    "        //e.g. input 5 digit num but asked for 6th digit\n",
    "        if (num < pow(10,n-1))\n",
    "        {\n",
    "            return 0;\n",
    "        }\n",
    "        else\n",
    "        { \n",
    "        int a, b;\n",
    "        \n",
    "        //Look for nth digit from right\n",
    "        a = num / int(pow(10,length-n));\n",
    "        \n",
    "        //Look for (n+1)th digit\n",
    "        b = int(num / int(pow(10,length-n+1))) * 10;\n",
    "        \n",
    "        //Subtract to get nth digit\n",
    "        int number = a - b;\n",
    "        return number;\n",
    "        }\n",
    "    }\n",
    "    else\n",
    "    {\n",
    "        //When input is negative\n",
    "        return 0;\n",
    "    }\n",
    "}"
   ]
  },
  {
   "cell_type": "markdown",
   "metadata": {},
   "source": [
    "### Leibniz formula for π"
   ]
  },
  {
   "cell_type": "markdown",
   "metadata": {},
   "source": [
    "In mathematics, the **Leibniz formula for π**, named after Gottfried Leibniz , states that \n",
    "\n",
    "$1 - \\frac{1}{3} + \\frac{1}{5} - \\frac{1}{7} + \\frac{1}{9} - ... = \\frac{π}{4}$\n",
    "\n",
    "Write a function leibniz_pi that takes in a positive integer specifying the number of terms to add in the Leibniz formula, and return the approximation of π."
   ]
  },
  {
   "cell_type": "code",
   "execution_count": null,
   "metadata": {},
   "outputs": [],
   "source": [
    "#include <math.h>\n",
    "double leibniz_pi(int n) \n",
    "{\n",
    "    int i = 0;\n",
    "    double sum = 0;\n",
    " \n",
    "    for(i = 0; i <= n - 1 ; i++)\n",
    "    {\n",
    "        sum += double(pow(-1,i)/(2 * i + 1)) * 4;\n",
    "    }\n",
    "    \n",
    " return sum;\n",
    "}"
   ]
  },
  {
   "cell_type": "markdown",
   "metadata": {},
   "source": [
    "-END-"
   ]
  }
 ],
 "metadata": {
  "celltoolbar": "Raw Cell Format",
  "kernelspec": {
   "display_name": "C++11",
   "language": "C++11",
   "name": "xcpp11"
  },
  "language_info": {
   "codemirror_mode": "text/x-c++src",
   "file_extension": ".cpp",
   "mimetype": "text/x-c++src",
   "name": "c++",
   "version": "11"
  }
 },
 "nbformat": 4,
 "nbformat_minor": 4
}
