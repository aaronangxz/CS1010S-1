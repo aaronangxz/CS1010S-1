{
 "cells": [
  {
   "cell_type": "markdown",
   "metadata": {},
   "source": [
    "<center>TIC1001—Introduction to Computing and Programming</center>\n",
    "<center>National University of Singapore</center>"
   ]
  },
  {
   "cell_type": "markdown",
   "metadata": {},
   "source": [
    "<center><h1>Practice on Basic C Expressions</h1></center>"
   ]
  },
  {
   "cell_type": "markdown",
   "metadata": {},
   "source": [
    "### BMI"
   ]
  },
  {
   "cell_type": "markdown",
   "metadata": {
    "raw_mimetype": "text/latex"
   },
   "source": [
    "The body mass index (BMI), or Quetelet index, is a statistical measure of body weight based on a person's weight and height. Though it does not actually measure the percentage of body fat, it is used to estimate a healthy body weight based on a person's height. \n",
    "\n",
    "A person's BMI is given by the following formula:\n",
    "$BMI = \\frac{mass(kh)}{(height(m))^{2}}$\n",
    "\n",
    "Complete the function bmi that takes in mass (g) and height (cm) and returns the BMI."
   ]
  },
  {
   "cell_type": "code",
   "execution_count": null,
   "metadata": {},
   "outputs": [],
   "source": [
    "float bmi(int mass, int height) \n",
    "{\n",
    "    float bmi;\n",
    "    bmi = (mass / 1000.0) / ((height / 100.0)*(height / 100.0));\n",
    "    return bmi;\n",
    "}"
   ]
  },
  {
   "cell_type": "markdown",
   "metadata": {},
   "source": [
    "### Hypothenuse"
   ]
  },
  {
   "cell_type": "markdown",
   "metadata": {},
   "source": [
    "The hypothenuse of a right-angled triangle can be computed using Pythagoras theorem.\n",
    "<br>\n",
    "Complete the function hypothenuse which takes in the length of 2 sides of a right-angle triangle and returns the length of the hypothenuse.\n",
    "<br>\n",
    "You may use the sqrt function available in math.h\n",
    "\n"
   ]
  },
  {
   "cell_type": "code",
   "execution_count": null,
   "metadata": {},
   "outputs": [],
   "source": [
    "#include <math.h>\n",
    "double hypothenuse(double a, double b) \n",
    "{\n",
    "    double hypo, sides;\n",
    "    sides = (a * a) + (b * b);\n",
    "    hypo = sqrt(sides);\n",
    "    return hypo;\n",
    "}\n"
   ]
  },
  {
   "cell_type": "markdown",
   "metadata": {},
   "source": [
    "### Investment"
   ]
  },
  {
   "cell_type": "markdown",
   "metadata": {},
   "source": [
    "If you invest a principal amount of P dollars at R percent interest rate compounded annually, in N years, your investment will grow to $\\frac{P[1-(\\frac{R}{100})^{N+1}]}{1 - \\frac{R}{100}}$ dollars.\n",
    "\n",
    "Implement a function <code>investment</code> that accepts positive integers p, r and n and computes the amount of money earned after n years. You may assume that the interest rate is always smaller than 100."
   ]
  },
  {
   "cell_type": "code",
   "execution_count": null,
   "metadata": {},
   "outputs": [],
   "source": [
    "#include <math.h>\n",
    "double investment(int p, int r, int n) \n",
    "{\n",
    "    double total;\n",
    "    total = p * (1 - pow((r / 100.0),n + 1)) / (1 - (r / 100.0));\n",
    "    return total;\n",
    "}"
   ]
  },
  {
   "cell_type": "markdown",
   "metadata": {},
   "source": [
    "### Root of Linear Equation"
   ]
  },
  {
   "cell_type": "markdown",
   "metadata": {},
   "source": [
    "In algebra, we have studied that second degree linear equations always have two roots.\n",
    "<br>\n",
    "Implement a function <code>get_bigger_root</code> that reads three integer coefficients a, b, c representing equation ax2 + bx + c = 0. This function returns the bigger one between its two roots (assuming that both roots are real numbers and that a is always positive)."
   ]
  },
  {
   "cell_type": "code",
   "execution_count": null,
   "metadata": {},
   "outputs": [],
   "source": [
    "#import <math.h>\n",
    "\n",
    "double get_bigger_root(int a, int b, int c) \n",
    "{\n",
    "    double root1, root2, root_large, b_sq_minus_4ac;\n",
    "    //Formula to find root\n",
    "    b_sq_minus_4ac = (b * b) - (4 * a * c);\n",
    "    root1 = (- b + sqrt(b_sq_minus_4ac)) / (2 * a);\n",
    "    root2 = (-b - sqrt(b_sq_minus_4ac)) / (2 * a);\n",
    "    //Determine larger root\n",
    "    if (root1 > root2)\n",
    "    {\n",
    "        root_large = root1;\n",
    "    }\n",
    "    else\n",
    "    {\n",
    "        root_large = root2;\n",
    "    }\n",
    "    return root_large;\n",
    "}"
   ]
  },
  {
   "cell_type": "markdown",
   "metadata": {},
   "source": [
    "### nth Digit"
   ]
  },
  {
   "cell_type": "markdown",
   "metadata": {},
   "source": [
    "Implement a function <code>nth_digit</code> that takes as inputs two integers, num and n. The function should return the nth digit of num from the right."
   ]
  },
  {
   "cell_type": "code",
   "execution_count": null,
   "metadata": {},
   "outputs": [],
   "source": [
    "#include <math.h>\n",
    "int nth_digit(int num, int n) \n",
    "{\n",
    "    //nth digit = (num % 10^n) / 10^n-1\n",
    "    int digitn = pow(10,n);\n",
    "    int digitn_del= pow(10, n-1);\n",
    "    int results = (num % digitn) / (digitn_del);\n",
    "    \n",
    "    //If out of range\n",
    "    if (digitn > num)\n",
    "    {\n",
    "        results = 0;\n",
    "    }\n",
    "    else\n",
    "    {\n",
    "        results = results;\n",
    "    }\n",
    "    \n",
    "    return results;\n",
    "}"
   ]
  },
  {
   "cell_type": "markdown",
   "metadata": {},
   "source": [
    "-END-"
   ]
  }
 ],
 "metadata": {
  "celltoolbar": "Raw Cell Format",
  "kernelspec": {
   "display_name": "C++11",
   "language": "C++11",
   "name": "xcpp11"
  },
  "language_info": {
   "codemirror_mode": "text/x-c++src",
   "file_extension": ".cpp",
   "mimetype": "text/x-c++src",
   "name": "c++",
   "version": "11"
  }
 },
 "nbformat": 4,
 "nbformat_minor": 4
}
