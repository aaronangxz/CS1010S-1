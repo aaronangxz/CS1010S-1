{
 "cells": [
  {
   "cell_type": "markdown",
   "metadata": {},
   "source": [
    "<center>TIC1001—Introduction to Computing and Programming</center>\n",
    "<center>National University of Singapore</center>"
   ]
  },
  {
   "cell_type": "markdown",
   "metadata": {},
   "source": [
    "<center><h1>Practice on Branching</h1></center>"
   ]
  },
  {
   "cell_type": "markdown",
   "metadata": {},
   "source": [
    "### Bigger Sum"
   ]
  },
  {
   "cell_type": "markdown",
   "metadata": {
    "raw_mimetype": "text/latex"
   },
   "source": [
    "Write a function <code>bigger_sum</code> that takes three numbers as arguments and returns the sum of the squares of the two larger numbers.\n",
    "<br>\n",
    "For example, given three numbers 1, 2 and 3, since 2 and 3 are larger than 1, the <code>bigger_sum</code> function should return the integer value 13. "
   ]
  },
  {
   "cell_type": "code",
   "execution_count": null,
   "metadata": {},
   "outputs": [],
   "source": [
    "int bigger_sum(int a, int b, int c) \n",
    "{\n",
    "    int sum, large;\n",
    "    if (a >= b && c >= b)\n",
    "    {\n",
    "        sum = a*a + c*c;\n",
    "    }\n",
    "    else if (a >= c && b >= c)\n",
    "    {\n",
    "        sum = a*a + b*b;\n",
    "    }\n",
    "    else if (b >= a && c >= a)\n",
    "    {\n",
    "        sum = b*b + c*c;\n",
    "    }\n",
    "    return sum;\n",
    "}"
   ]
  },
  {
   "cell_type": "markdown",
   "metadata": {},
   "source": [
    "### Leap Years"
   ]
  },
  {
   "cell_type": "markdown",
   "metadata": {},
   "source": [
    "Write a function <code>is_leap_year</code> that takes one integer parameter and decides whether it corresponds to a leap year, i.e. <code>is_leap_year</code> returns true if the input parameter is a leap year, and false otherwise. \n",
    "<br><br>\n",
    "So which years are leap years? Well, accordingly to Wikipedia:\n",
    "<br><br>\n",
    "In the Gregorian calendar, the current standard calendar in most of the world, most years that are integer multiples of 4 are leap years. In each leap year, the month of February has 29 days instead of 28. Adding an extra day to the calendar every four years compensates for the fact that a period of 365 days is shorter than a solar year by almost 6 hours. This calendar was first used in 1582. \n",
    "<br><br>\n",
    "Some exceptions to this rule are required since the duration of a solar year is slightly less than 365.25 days. Over a period of four centuries, the accumulated error of adding a leap day every four years amounts to about three extra days. The Gregorian Calendar therefore omits 3 leap days every 400 years, omitting February 29 in the 3 century years (integer multiples of 100) that are not also integer multiples of 400. For example, 1600 was a leap year, but 1700, 1800 and 1900 were not. Similarly, 2000 was a leap year, but 2100, 2200, and 2300 will not be. By this rule, the average number of days per year is 365 + 1/4 − 1/100 + 1/400 = 365.2425."
   ]
  },
  {
   "cell_type": "code",
   "execution_count": null,
   "metadata": {},
   "outputs": [],
   "source": [
    "#include <stdbool.h>\n",
    "bool is_leap_year(int year) {\n",
    "    if (year % 4 ==0)\n",
    "    {\n",
    "        \n",
    "        if (year % 400 == 0)\n",
    "        {\n",
    "            return 1;\n",
    "        }\n",
    "        else if (year % 100 == 0)\n",
    "        {\n",
    "            return 0;\n",
    "        }\n",
    "        else\n",
    "        {\n",
    "            return 1;\n",
    "        }\n",
    "       return 0; \n",
    "    }\n",
    "    else\n",
    "    {\n",
    "    return 0;\n",
    "    }   \n",
    "}"
   ]
  },
  {
   "cell_type": "markdown",
   "metadata": {},
   "source": [
    "### I would like to buy a vowel"
   ]
  },
  {
   "cell_type": "markdown",
   "metadata": {},
   "source": [
    "The five letters of the English alphabet A, E, I, O and U are called vowels. All other alphabets except these 5 vowel letters are called consonants.\n",
    "<br>\n",
    "Write a function is_vowel that takes a character as input and returns true is the character is a vowel and false otherwise. You may assume the input will always be an English letter.\n",
    "\n"
   ]
  },
  {
   "cell_type": "code",
   "execution_count": null,
   "metadata": {},
   "outputs": [],
   "source": [
    "#include <stdbool.h>\n",
    "bool is_vowel(char c) \n",
    "{\n",
    "    int vowel;\n",
    "    \n",
    "    if (c == a || c == A || c == e || c == E || c == i || c == I || c == o || c == O || c == u || c == U)\n",
    "    {\n",
    "        vowel = 1;\n",
    "    }\n",
    "    else\n",
    "    {\n",
    "        vowel = 0;\n",
    "    }\n",
    "    return vowel;\n",
    "}"
   ]
  },
  {
   "cell_type": "markdown",
   "metadata": {},
   "source": [
    "### Uber Fare"
   ]
  },
  {
   "cell_type": "markdown",
   "metadata": {},
   "source": [
    "An Uber trip is calculated based on the following formula:\n",
    "\n",
    "| Distance covered | Cost |\n",
    "|---|---|\n",
    "| First 1 km | 2.40 |\n",
    "| Every 200 m up to 10 km |\t0.10\n",
    "| Every 150 m after 10km |\t0.10\n",
    "\n",
    "Write a function uber_fare that takes in the trip distance in metres and returns the cost of the trip in cents."
   ]
  },
  {
   "cell_type": "code",
   "execution_count": null,
   "metadata": {},
   "outputs": [],
   "source": [
    "int uber_fare(int distance) {\n",
    "    double fare;\n",
    "    if (distance <= 1000)\n",
    "    {\n",
    "        fare = 240;\n",
    "    }\n",
    "    else if (distance > 1000 && distance <= 10000)\n",
    "    {\n",
    "        if ((distance - 1000) / 200 < 1)\n",
    "        {\n",
    "            fare = 240 + 10;\n",
    "        }\n",
    "        else\n",
    "        {\n",
    "            fare = 240 + (((distance - 1000) / 200) * 10.0);\n",
    "        }    \n",
    "    }\n",
    "    else if (distance > 10000)\n",
    "    {\n",
    "        if ((distance - 10000) / 150 < 1)\n",
    "        {\n",
    "            fare = 240 + 500 + 10;\n",
    "        }\n",
    "        else\n",
    "        {\n",
    "            fare =  240 + 450 + (round((distance - 10000) / 150.0) * 10);\n",
    "        }    \n",
    "    }\n",
    "    return fare;\n",
    "}"
   ]
  },
  {
   "cell_type": "markdown",
   "metadata": {},
   "source": [
    "-END-"
   ]
  }
 ],
 "metadata": {
  "celltoolbar": "Raw Cell Format",
  "kernelspec": {
   "display_name": "C++11",
   "language": "C++11",
   "name": "xcpp11"
  },
  "language_info": {
   "codemirror_mode": "text/x-c++src",
   "file_extension": ".cpp",
   "mimetype": "text/x-c++src",
   "name": "c++",
   "version": "11"
  }
 },
 "nbformat": 4,
 "nbformat_minor": 4
}
